{
  "cells": [
    {
      "cell_type": "markdown",
      "metadata": {},
      "source": []
    },
    {
      "cell_type": "code",
      "execution_count": 5,
      "metadata": {},
      "outputs": [
        {
          "name": "stdout",
          "output_type": "stream",
          "text": [
            "(array([   5,    6,    7, ..., 2997, 2998, 2999]), array([0, 1, 2, 3, 4]))\n"
          ]
        }
      ],
      "source": [
        "import pandas as pd\n",
        "from numpy import array\n",
        "from sklearn.model_selection import KFold\n",
        "from sklearn.model_selection import LeavePOut\n",
        "\n",
        "import pandas as pd\n",
        "import matplotlib.pyplot as plt\n",
        "\n",
        "df = pd.read_csv('data/data_5.csv')\n",
        "# Set aside 5 random property_id for testing\n",
        "lpo_property_ids = df['property_id'].unique()\n",
        "\n",
        "\n",
        "cv = LeavePOut(5)\n",
        "\n",
        "\n",
        "X = df.iloc[:,:-1]\n",
        "\n",
        "y = df.iloc[:,-1]\n",
        "\n",
        "print(next(cv.split(X, groups=df['property_id'])))\n",
        "\n"
      ]
    },
    {
      "cell_type": "code",
      "execution_count": null,
      "metadata": {},
      "outputs": [],
      "source": [
        "# Do not use list for big data\n",
        "# The combinatorial complexity for all the possible splitting combinations. For example, the group size is 2145. If you choose 5 from 2145, the number of all the possible combinations would be \n",
        "# math.comb(2145, 5) # => 376642337375304 \n",
        "# print(list(cv.split(X, groups=df['property_id'])))\n"
      ]
    }
  ],
  "metadata": {
    "colab": {
      "provenance": []
    },
    "kernelspec": {
      "display_name": "Python 3",
      "language": "python",
      "name": "python3"
    },
    "language_info": {
      "codemirror_mode": {
        "name": "ipython",
        "version": 3
      },
      "file_extension": ".py",
      "mimetype": "text/x-python",
      "name": "python",
      "nbconvert_exporter": "python",
      "pygments_lexer": "ipython3",
      "version": "3.11.4"
    }
  },
  "nbformat": 4,
  "nbformat_minor": 0
}
