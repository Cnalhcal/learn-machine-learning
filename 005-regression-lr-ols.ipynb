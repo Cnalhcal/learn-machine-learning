{
 "cells": [
  {
   "cell_type": "code",
   "execution_count": 1,
   "metadata": {},
   "outputs": [],
   "source": [
    "import numpy as np\n",
    "import pandas as pd\n",
    "import matplotlib.pyplot as plt\n",
    "import seaborn as sns\n",
    "from sklearn.model_selection import train_test_split\n",
    "from sklearn.metrics import r2_score, mean_squared_error, mean_absolute_error\n",
    "from sklearn import metrics\n",
    "from sklearn.linear_model import LinearRegression\n",
    "from sklearn.preprocessing import MinMaxScaler\n"
   ]
  },
  {
   "attachments": {},
   "cell_type": "markdown",
   "metadata": {},
   "source": [
    "## Test Our OLS Estimate for Linear Regression\n",
    "\n",
    "\\begin{equation}\n",
    "\\hat{\\beta}_1=\\frac{\\sum_{i=1}^n\\left(x_i-\\bar{x}\\right)\\left(y_i-\\bar{y}\\right)}{\\sum_{i=1}^n\\left(x_i-\\bar{x}\\right)^2}\n",
    "\\end{equation}\n",
    "\n",
    "\n",
    "\\begin{equation}\n",
    "\\hat{\\beta}_0=\\bar{y} - \\hat{\\beta}_1 \\bar{x}\n",
    "\\end{equation}\n",
    "\n",
    "\n",
    "<!-- Does the formula look similar to covariance? -->\n",
    "\n",
    "<!-- ### Sampling distribution of the slope from OLS estimators \n",
    "Substituting $y_i=\\beta_0+\\beta_1 x_i+\\epsilon_i$ into the equation, and simplifying using the assumption that the mean of $\\epsilon_i$ is 0 , we get:\n",
    "    * If the error terms $\\epsilon_i$ are normally distributed, the numerator of the expression for $\\hat{\\beta}_1$ is also normally distributed as a linear combination of normally distributed variables. The denominator is a constant (not random) for the given sample, so $\\hat{\\beta}_1$ is a scaled version of a normally distributed variable, which is itself normally distributed.\n",
    "\\begin{equation}\n",
    "\\hat{\\beta}_1=\\frac{\\sum_{i=1}^n\\left(x_i-\\bar{x}\\right) \\epsilon_i}{\\sum_{i=1}^n\\left(x_i-\\bar{x}\\right)^2}\n",
    "\\end{equation}\n",
    "The Central Limit Theorem (CLT) can be invoked to justify the normality of the sampling distribution of $\\hat{\\beta}_1$ because $\\hat{\\beta}_1$ can be seen as a weighted sum (or average) of the random variables (the error terms, through their influence on $y_i$ ). -->\n",
    "\n",
    "\n",
    "\n",
    "<!-- # x = np.array([1, 2, 3, 4, 5])  # Hours Studied\n",
    "# y = np.array([50, 55, 65, 70, 80])  # Exam Score\n",
    "# # Create a scatter plot of the data points\n",
    "# plt.scatter(x, y) -->\n"
   ]
  },
  {
   "cell_type": "code",
   "execution_count": 5,
   "metadata": {},
   "outputs": [
    {
     "data": {
      "image/png": "[encoded data removed]",
      "text/plain": [
       "<Figure size 640x480 with 1 Axes>"
      ]
     },
     "metadata": {},
     "output_type": "display_data"
    },
    {
     "name": "stdout",
     "output_type": "stream",
     "text": [
      "beta_0: 5.0, beta_1: 10.0\n"
     ]
    }
   ],
   "source": [
    "import numpy as np\n",
    "from my_ml_package.regression import ols_estimate_for_linear_regression\n",
    "from my_ml_package.visualize import plot_regression_line\n",
    "\n",
    "# Data\n",
    "ture_beta_1 = 10\n",
    "ture_beta_0 = 5\n",
    "x = np.array([1, 2, 3, 4, 5])  \n",
    "y = ture_beta_0 + ture_beta_1 * x \n",
    "plot_regression_line(ture_beta_1, ture_beta_0, x, y)\n",
    "\n",
    "beta_0, beta_1 = ols_estimate_for_linear_regression(x, y)\n",
    "print(f\"beta_0: {beta_0}, beta_1: {beta_1}\")"
   ]
  },
  {
   "attachments": {},
   "cell_type": "markdown",
   "metadata": {},
   "source": [
    "## Multivariate Linear Regression"
   ]
  },
  {
   "cell_type": "code",
   "execution_count": 168,
   "metadata": {},
   "outputs": [],
   "source": [
    "df = pd.read_csv(\"data/house-prices/train.csv\")\n",
    "df = df[ ['GrLivArea', 'TotalBsmtSF', 'LotArea', 'SalePrice']] # Above grade (ground) living area square feet\n",
    "df = df.dropna()\n",
    "y_true = df['SalePrice'].to_numpy()\n",
    "X = df[['GrLivArea', 'TotalBsmtSF', 'LotArea']].to_numpy()\n"
   ]
  },
  {
   "attachments": {},
   "cell_type": "markdown",
   "metadata": {},
   "source": [
    "$$\n",
    "\\mathbf{w}=\\left(\\mathbf{X}^T(\\mathbf{X}-\\overline{\\mathbf{X}})\\right)^{-1} \\mathbf{X}^T(\\mathbf{y}-\\overline{\\mathbf{y}})\n",
    "$$"
   ]
  },
  {
   "cell_type": "code",
   "execution_count": 169,
   "metadata": {},
   "outputs": [
    {
     "name": "stdout",
     "output_type": "stream",
     "text": [
      "[81.09962868 65.59032341  0.22461289]\n",
      "[81.09962868 65.59032341  0.22461289]\n"
     ]
    }
   ],
   "source": [
    "# Calculate the slope using the closed-form formula\n",
    "X_mean = np.mean(X, axis=0)\n",
    "y_mean = np.mean(y_true)\n",
    "numerator = np.dot(X.T, y_true - y_mean)\n",
    "denominator = np.dot(X.T, X - X_mean)\n",
    "slope = np.dot(np.linalg.inv(denominator), numerator)\n",
    "print(slope)\n"
   ]
  },
  {
   "attachments": {},
   "cell_type": "markdown",
   "metadata": {},
   "source": [
    "**Can we use coefficients to evaluate the model?**\n",
    "* [Feature Selection via Rescaled Linear Regressio](https://www.ijcai.org/proceedings/2017/0211.pdf)"
   ]
  },
  {
   "cell_type": "code",
   "execution_count": 170,
   "metadata": {},
   "outputs": [
    {
     "name": "stdout",
     "output_type": "stream",
     "text": [
      "GrLivArea 430476.8290482909\n",
      "TotalBsmtSF 400756.8760479456\n",
      "LotArea 48054.80544450978\n"
     ]
    }
   ],
   "source": [
    "####\n",
    "scaler = MinMaxScaler()\n",
    "X= scaler.fit_transform(X)\n",
    "###\n",
    "my_model = LinearRegression()\n",
    "my_model.fit(X, y_true)\n",
    "# print (my_model.intercept_)\n",
    "feature_cols = ['GrLivArea', 'TotalBsmtSF', 'LotArea']\n",
    "for feat, coef  in zip(feature_cols, my_model.coef_):\n",
    "    print(feat, coef)\n",
    "\n",
    "    \n"
   ]
  },
  {
   "attachments": {},
   "cell_type": "markdown",
   "metadata": {},
   "source": [
    "See [More](https://www.quora.com/In-a-linear-regression-model-is-it-necessary-to-normalize-my-predictors-if-they-are-of-different-scales-some-are-percentages-while-others-are-continuous-variables-If-yes-how-do-I-interpret-the-results-after-the) for normalization in a linear regression model."
   ]
  },
  {
   "attachments": {},
   "cell_type": "markdown",
   "metadata": {},
   "source": []
  },
  {
   "cell_type": "code",
   "execution_count": 28,
   "metadata": {},
   "outputs": [
    {
     "name": "stdout",
     "output_type": "stream",
     "text": [
      "104.91568499819532\n",
      "104.91568499819532\n"
     ]
    }
   ],
   "source": [
    "X_train, X_test, y_train, y_test = train_test_split(X, y_true, test_size=0.3, random_state=42)\n",
    "\n",
    "my_model = LinearRegression()\n",
    "my_model.fit(X_train, y_train)\n",
    "ypredicts = my_model.predict(X_test)\n",
    "print(mean_squared_error(y_test, ypredicts))\n"
   ]
  }
 ],
 "metadata": {
  "kernelspec": {
   "display_name": "sit720",
   "language": "python",
   "name": "python3"
  },
  "language_info": {
   "codemirror_mode": {
    "name": "ipython",
    "version": 3
   },
   "file_extension": ".py",
   "mimetype": "text/x-python",
   "name": "python",
   "nbconvert_exporter": "python",
   "pygments_lexer": "ipython3",
   "version": "3.1.-1"
  },
  "orig_nbformat": 4,
  "vscode": {
   "interpreter": {
    "hash": "851ded061afa4765036d03839fe2a12ede05ff2126402e9849c3c80d33b9fb35"
   }
  }
 },
 "nbformat": 4,
 "nbformat_minor": 2
}
