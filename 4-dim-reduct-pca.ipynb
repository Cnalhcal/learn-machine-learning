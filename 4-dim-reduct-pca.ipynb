{
 "cells": [
  {
   "cell_type": "code",
   "execution_count": 2,
   "metadata": {},
   "outputs": [],
   "source": [
    "import matplotlib.pyplot as plt\n",
    "import seaborn as sns\n",
    "import pandas as pd\n",
    "import numpy as np\n",
    "from sklearn.manifold import TSNE\n",
    "from sklearn.datasets import load_diabetes\n",
    "from sklearn.decomposition import PCA\n",
    "from sklearn.preprocessing import StandardScaler\n",
    "from my_ml_package.stat import var, covar, covar_matrix\n",
    "from my_ml_package.visualize import plot_data_points"
   ]
  },
  {
   "cell_type": "markdown",
   "metadata": {},
   "source": [
    "## What's the underlying idea of PCA for dimensionality reduction?"
   ]
  },
  {
   "cell_type": "code",
   "execution_count": null,
   "metadata": {},
   "outputs": [],
   "source": [
    "# People data with Height cm, Weight kg\n",
    "people = np.array([\n",
    "    [175, 75],  # Adult    1\n",
    "    [60, 5],    # Baby     \n",
    "    [50, 4],    # Baby     1\n",
    "    [70, 7],    # Baby     \n",
    "    [180, 80],  # Adult    1\n",
    "    [178, 72],  # Adult (new) 1\n",
    "    [172, 70],  # Adult (new)  \n",
    "    [169, 74],  # Adult (new)  \n",
    "    [55, 6],    # Baby (new)  \n",
    "    [65, 8]     # Baby (new)  1\n",
    "])"
   ]
  },
  {
   "cell_type": "code",
   "execution_count": 24,
   "metadata": {},
   "outputs": [],
   "source": [
    "# the frequency of hangouts with Friend A and Friend B within a week.\n",
    "hangout = np.array([\n",
    "   #Friend A     Friend B\n",
    "        [2,       4],    # Me\n",
    "        [10,      2],    # Person 1\n",
    "        [20,      3]     # Person 2\n",
    "])\n",
    "\n",
    "#     -M1      -M2\n",
    "#      P    P\n",
    "#      P    N"
   ]
  },
  {
   "cell_type": "code",
   "execution_count": 26,
   "metadata": {},
   "outputs": [
    {
     "name": "stdout",
     "output_type": "stream",
     "text": [
      "[0 3 5 2]\n",
      "[0 0 2 5]\n"
     ]
    }
   ],
   "source": [
    "# Document(rows)-word(columns) matrix\n",
    "data = np.array([\n",
    "    # good superb\n",
    "    [0,    0],  # D1: Neutral or negative\n",
    "    [3,    0],  # D2: Moderately positive\n",
    "    [5,    2],  # D3: Positive\n",
    "    [2,    5]   # D4: Highly positive\n",
    "])\n",
    "\n",
    "good = data[:,0]\n",
    "superb = data[:,1]\n",
    "print(good)\n",
    "print(superb)\n"
   ]
  },
  {
   "cell_type": "code",
   "execution_count": null,
   "metadata": {},
   "outputs": [],
   "source": [
    "# Word-document matrix\n",
    "# Document 1 (D1): Negative sentiment\n",
    "# Document 2 (D2): Positive sentiment\n",
    "# Document 3 (D3): Strongly Positive sentiment\n",
    "# A = np.array([\n",
    "#     # D1   D2   D3\n",
    "#      [3,   0,   0], # bad\n",
    "#      [0,   2,   1], # good\n",
    "#      [0,   1,   3]  # superb\n",
    "# ])\n"
   ]
  },
  {
   "cell_type": "markdown",
   "metadata": {},
   "source": [
    "Histogram"
   ]
  },
  {
   "cell_type": "code",
   "execution_count": 20,
   "metadata": {},
   "outputs": [],
   "source": [
    "# fig, ax = plt.subplots(figsize=(5, 3))\n",
    "# ax.hist(good, bins=15, alpha=1, label=f'Var(good)={np.var(good):.2f}')\n",
    "# ax.hist(superb, bins=15, alpha=0.5, label=f'Var(superb)= {np.var(superb):.2f}')\n",
    "# ax.set_title('Variance Demonstration')\n",
    "# ax.legend()"
   ]
  },
  {
   "cell_type": "markdown",
   "metadata": {},
   "source": [
    "Datapoints on each dimension"
   ]
  },
  {
   "cell_type": "code",
   "execution_count": 22,
   "metadata": {},
   "outputs": [],
   "source": [
    "\n",
    "# # Data points for the two versions\n",
    "# good = [0, 3, 5, 2]\n",
    "# superb = [0, 0, 2, 5]\n",
    "# excellent = [0, 1, 2, 3]\n",
    "# print('Good: Means=', np.mean(good), 'Var=', np.var(good))\n",
    "# print('Superb: Means=', np.mean(superb), 'Var=', np.var(superb))\n",
    "# print('Excellent: Means=', np.mean(excellent), 'Var=', np.var(excellent))\n",
    "\n",
    "# # Adjusting the plot to prevent overlapping by offsetting the two versions on separate axes\n",
    "# plt.figure(figsize=(10, 2))  # Adjusting figure size for clarity\n",
    "\n",
    "# # Offsetting the two versions slightly on the y-axis to prevent overlapping\n",
    "# y_offset = 0.1  # Offset amount\n",
    "\n",
    "# # Plot for the good version as points, offset upwards\n",
    "# plt.plot(good, [-2*y_offset]*len(good), 'x', label='Good (0, 3, 5, 2)', markersize=10, color='green')\n",
    "# plt.axvline(np.mean(good), color='green', linestyle='--',)\n",
    "\n",
    "# # Plot for the original version as points, offset downwards\n",
    "# plt.plot(superb, [-y_offset]*len(superb), 'o', label='Superb (0, 0, 2, 3)', markersize=10, color='blue')\n",
    "# plt.axvline(np.mean(superb), color='blue', linestyle='--', )\n",
    "\n",
    "\n",
    "# # Plot for the add-1 version as points, offset upwards\n",
    "# plt.plot(excellent, [y_offset]*len(excellent), 's', label='Excellent (0, 1, 2, 3)', markersize=10, color='red')\n",
    "# plt.axvline(np.mean(excellent), color='red', linestyle='--', )\n",
    "\n",
    "# # Removing y-axis and ticks as the focus is on the values' spread\n",
    "# plt.yticks([])\n",
    "# plt.xticks(range(4))  # Assuming the possible range of values for illustration\n",
    "# plt.xlabel('Values')\n",
    "\n",
    "# # Adding a legend to distinguish the versions\n",
    "# plt.legend()\n",
    "\n",
    "# # Show grid on the x-axis to indicate value positions\n",
    "# plt.grid(True, axis='x')\n",
    "\n",
    "# # Display the plot\n",
    "# plt.show()\n"
   ]
  },
  {
   "attachments": {},
   "cell_type": "markdown",
   "metadata": {},
   "source": [
    "## Covariance Matrix\n",
    "* What is variance?\n",
    "* What is covariance?\n",
    "* What is covariance matrix?"
   ]
  },
  {
   "cell_type": "markdown",
   "metadata": {},
   "source": [
    "### Variance"
   ]
  },
  {
   "cell_type": "code",
   "execution_count": 6,
   "metadata": {},
   "outputs": [
    {
     "data": {
      "text/plain": [
       "4.333333333333333"
      ]
     },
     "execution_count": 6,
     "metadata": {},
     "output_type": "execute_result"
    }
   ],
   "source": [
    "def covar(x, y):\n",
    "    x_mean = np.mean(x)\n",
    "    y_mean = np.mean(y)\n",
    "    n = len(x)\n",
    "    return sum((x - x_mean) * (y - y_mean)) / (n - 1)\n",
    "\n",
    "covar(data[:, 0], data[:,0])\n",
    "\n"
   ]
  },
  {
   "cell_type": "markdown",
   "metadata": {},
   "source": [
    "### Covariance"
   ]
  },
  {
   "cell_type": "code",
   "execution_count": 31,
   "metadata": {},
   "outputs": [
    {
     "data": {
      "text/plain": [
       "4.500000010063152"
      ]
     },
     "execution_count": 31,
     "metadata": {},
     "output_type": "execute_result"
    }
   ],
   "source": [
    "good =  data[:,0]\n",
    "superb = data[:, 1]\n",
    "\n",
    "def covar(x, y):\n",
    "    x_mean = np.mean(x)\n",
    "    y_mean = np.mean(y)\n",
    "\n",
    "    return np.sum((x-x_mean) * (y-y_mean)) / (len(x)-1)\n",
    "\n",
    "def covar_matrix(data):\n",
    "    n = data.shape[1]\n",
    "    covar_matrix = np.zeros((n, n))\n",
    "\n",
    "    for i in range(n):\n",
    "        for j in range(n):\n",
    "            covar_matrix[i, j] = covar(data[:, i], data[:, j])\n",
    "\n",
    "    return covar_matrix\n",
    "    \n",
    "covar_matrix(data)\n",
    "\n",
    "#            # good                      superb\n",
    "#         [  \n",
    "# # good       Var(good)                  covar(good, superb)\n",
    "# # superb     covar( superb, good)         Var(superb)\n",
    "#          ]\n",
    "# Our goal: a vector to do the dot product with the original features\n"
   ]
  },
  {
   "attachments": {},
   "cell_type": "markdown",
   "metadata": {},
   "source": [
    "## Eigenvalue, Eigenvecor\n",
    "<!-- We can do Eigen-decomposition on a symmetric matrix $A$\n",
    "<!-- * $AV=VD$\n",
    "* Importantly, if A is a symmetric matrix, $v_1, ..., v_d$ are orthogonal to each other. **V is an orthogonal matrix**\n",
    "* D is a diagonal matrix\n",
    "* $A=VDV^T$  -->\n",
    "\n",
    "\n",
    "* all the eigenvalues of $A$ are nonnegative $A$ is positive semi-difinite\n",
    "\n",
    "$$\n",
    "A=P D P^{-1}\n",
    "$$\n",
    "\n",
    "Where:\n",
    "- $A$ is the square matrix being decomposed.\n",
    "- $P$ is a matrix whose columns are the eigenvectors of $A$.\n",
    "- $D$ is a diagonal matrix whose diagonal elements are the eigenvalues of $A$.\n",
    "- $P^{-1}$ is the inverse of matrix $P$. -->\n",
    "\n",
    "$ A p = \\lambda p$,  where $p \\in \\mathbb{R}^{d}$\n",
    "$$\n",
    "\\left[\\begin{array}{cccc}\n",
    "A_{11} & A_{12} & \\cdots & A_{1 d} \\\\\n",
    "A_{21} & A_{22} & \\cdots & A_{2 d} \\\\\n",
    "\\vdots & \\vdots & \\ddots & \\vdots \\\\\n",
    "A_{d 1} & A_{d 2} & \\cdots & A_{d d}\n",
    "\\end{array}\\right]\\left[\\begin{array}{c}\n",
    "p_1 \\\\\n",
    "p_2 \\\\\n",
    "\\vdots \\\\\n",
    "p_d\n",
    "\\end{array}\\right]\n",
    "$$\n",
    "\n",
    "* $A$: A general square matrix. In your description, it's used interchangeably with $S$, but typically $A$ can represent any square matrix, not necessarily symmetric.\n",
    "* $v$: An eigenvector of $A$. In the context given, it plays the same role as $p$ but for the matrix $A$.\n",
    "* $v_i$: The $i^{th}$ element of the eigvector $v$ (or $p$).\n",
    "* $A_{ij}$: The element of matrix $A$ (or $S$) in the $i^{th}$ row and $j^{th}$ column."
   ]
  },
  {
   "cell_type": "markdown",
   "metadata": {},
   "source": [
    "## Eigenvalue, Eigenvecor\n",
    "<!-- We can do Eigen-decomposition on a symmetric matrix $A$\n",
    "<!-- * $AV=VD$\n",
    "* Importantly, if A is a symmetric matrix, $v_1, ..., v_d$ are orthogonal to each other. **V is an orthogonal matrix**\n",
    "* D is a diagonal matrix\n",
    "* $A=VDV^T$  -->\n",
    "\n",
    "\n",
    "* all the eigenvalues of $A$ are nonnegative $A$ is positive semi-difinite\n",
    "\n",
    "$$\n",
    "A=P D P^{-1}\n",
    "$$\n",
    "\n",
    "Where:\n",
    "- $A$ is the square matrix being decomposed.\n",
    "- $P$ is a matrix whose columns are the eigenvectors of $A$.\n",
    "- $D$ is a diagonal matrix whose diagonal elements are the eigenvalues of $A$.\n",
    "- $P^{-1}$ is the inverse of matrix $P$. -->\n",
    "\n",
    "$ A p = \\lambda p$,  where $p \\in \\mathbb{R}^{d}$\n",
    "$$\n",
    "\\left[\\begin{array}{cccc}\n",
    "A_{11} & A_{12} & \\cdots & A_{1 d} \\\\\n",
    "A_{21} & A_{22} & \\cdots & A_{2 d} \\\\\n",
    "\\vdots & \\vdots & \\ddots & \\vdots \\\\\n",
    "A_{d 1} & A_{d 2} & \\cdots & A_{d d}\n",
    "\\end{array}\\right]\\left[\\begin{array}{c}\n",
    "p_1 \\\\\n",
    "p_2 \\\\\n",
    "\\vdots \\\\\n",
    "p_d\n",
    "\\end{array}\\right]\n",
    "$$\n",
    "\n",
    "* $A$: A general square matrix. In your description, it's used interchangeably with $S$, but typically $A$ can represent any square matrix, not necessarily symmetric.\n",
    "* $v$: An eigenvector of $A$. In the context given, it plays the same role as $p$ but for the matrix $A$.\n",
    "* $v_i$: The $i^{th}$ element of the eigvector $v$ (or $p$).\n",
    "* $A_{ij}$: The element of matrix $A$ (or $S$) in the $i^{th}$ row and $j^{th}$ column."
   ]
  },
  {
   "cell_type": "code",
   "execution_count": 37,
   "metadata": {},
   "outputs": [
    {
     "name": "stdout",
     "output_type": "stream",
     "text": [
      "Covariance matrix: \n",
      "[[4.33333333 0.83333333]\n",
      " [0.83333333 5.58333333]]\n",
      "Eigen values: [6.         3.91666667]\n",
      "Eigen vectors: [[-0.4472136  -0.89442719]\n",
      " [-0.89442719  0.4472136 ]]\n",
      "Reduced Feature:  [ 0.         -1.3416408  -4.02492238 -5.36656315]\n"
     ]
    }
   ],
   "source": [
    "def covar(x, y):\n",
    "    \"\"\" Covariance of two variables.\n",
    "    It measures how two variables change together by \n",
    "     the average of the product of the differences of each data point from the sample mean.\n",
    "    Equation: cov(x, y) = Σ (x_i - mean(x)) * (y_i - mean(y)) / n\n",
    "    Args:\n",
    "        x, y (np.ndarray): Two NumPy arrays of the same length.\"\"\"\n",
    "    return np.sum((x - x.mean())*(y - y.mean()))/len(x)\n",
    "\n",
    "def covar_matrix(X):\n",
    "    \"\"\" Covariance matrix of a dataset.\n",
    "    It is a square matrix that describes the covariance between two or more variables in a dataset.\n",
    "    Args:\n",
    "        X (np.ndarray): A NumPy array of shape (n_samples, n_features).\"\"\"\n",
    "    n_samples, n_features = X.shape\n",
    "    covar_matrix = np.zeros((n_features, n_features))\n",
    "    for i in range(n_features):\n",
    "        for j in range(n_features):\n",
    "            covar_matrix[i, j] = covar(X[:, i], X[:, j])\n",
    "    return covar_matrix\n",
    "\n",
    "# plot eigenvectors on the data plot marked by components\n",
    "def plot_eigenvectors(data, eigenvector):\n",
    "    fig, ax = plt.subplots()\n",
    "    ax.scatter(data[:,0], data[:,1])\n",
    "    # add label on the data points\n",
    "    labels = ['Negative', 'Positive', 'Moderately Positive', 'Strongly Positive']\n",
    "    for i in range(data.shape[0]):\n",
    "        ax.text(data[i,0], data[i,1], labels[i], fontsize=6, ha='right')\n",
    "    for i in range(2):\n",
    "        ax.quiver(0, 0, eigenvector[i,0], eigenvector[i,1], angles='xy', scale_units='xy', scale=1, color='red')\n",
    "        ax.text(eigenvector[i,0], eigenvector[i,1], f'Component {i+1}', fontsize=6)\n",
    "    ax.set_aspect('equal')\n",
    "    ax.set_xlim(-1, 6)\n",
    "    ax.set_ylim(-1, 6)\n",
    "    plt.show()\n",
    "\n",
    "# Step1: Computing covariance matrix\n",
    "# data = (data - data.mean(axis=0)) \n",
    "covmat=covar_matrix(data) * len(data) / (len(data) - 1)\n",
    "\n",
    "# Step2: Performing EigenDecomposition\n",
    "lambd, eigenvector= np.linalg.eig(covmat)\n",
    "\n",
    "# Step3: Ordering the eigenvalues and eigenvectors\n",
    "idx = lambd.argsort()[::-1]\n",
    "lambd = lambd[idx]\n",
    "eigenvector = eigenvector[:,idx]\n",
    "print('Covariance matrix: \\n{}'.format(covmat))\n",
    "print('Eigen values: {}'.format(lambd))\n",
    "print('Eigen vectors: {}'.format(eigenvector))\n",
    "# plot_eigenvectors(data, eigenvector)\n",
    "# Covariance matrix: \n",
    "# [[4.33333333 0.83333333]\n",
    "#  [0.83333333 5.58333333]]\n",
    "# Eigen values: [6.         3.91666667]\n",
    "# Eigen vectors: [[-0.4472136  -0.89442719]\n",
    "#  [-0.89442719  0.4472136 ]]\n",
    "principal_components = np.array([[-0.4472136,  -0.89442719],  # principal component 1\n",
    " [-0.89442719,  0.4472136 ]]) # principal component 2\n",
    "# 6. \n",
    "print(\"Reduced Feature: \", data.dot(principal_components))\n",
    "\n",
    "# print(np.var() * len(data) / (len(data) - 1)) # 6.000000013417536\n",
    "\n"
   ]
  },
  {
   "cell_type": "markdown",
   "metadata": {},
   "source": [
    "<!-- without centering, PCA might capture variance related to the offset from the origin.  -->"
   ]
  },
  {
   "cell_type": "code",
   "execution_count": 38,
   "metadata": {},
   "outputs": [
    {
     "name": "stdout",
     "output_type": "stream",
     "text": [
      "-2.220446049250313e-16\n"
     ]
    }
   ],
   "source": [
    "# Step4: Projecting the data onto the new feature space\n",
    "# matrix propagation\n",
    "data_pca = np.dot(data-data.mean(axis=0), eigenvector) \n",
    "# print(data_pca)\n",
    "print(covar(data_pca[:,0], data_pca[:,1]))\n",
    "# 2.220446049250313e-16-> approximating to 0\n",
    "\n",
    "# print('Variance of PCA transformed data: {}, {}'.format(var(data_pca1), var(data_pca2)))\n",
    "# print('Explained Variance Ratio: {}'.format(lambd/np.sum(lambd)))\n",
    "# print('Variance of PCA transformed data: {}, {}'.format(var(data_pca1)*len(data)/(len(data)-1), var(data_pca2)*len(data)/(len(data)-1)))"
   ]
  },
  {
   "cell_type": "code",
   "execution_count": 80,
   "metadata": {},
   "outputs": [
    {
     "name": "stdout",
     "output_type": "stream",
     "text": [
      "[-1.25 -1.25  0.75  1.75]\n"
     ]
    },
    {
     "data": {
      "image/png": "[encoded data removed]",
      "text/plain": [
       "<Figure size 1000x200 with 1 Axes>"
      ]
     },
     "metadata": {},
     "output_type": "display_data"
    }
   ],
   "source": [
    "\n",
    "# Data points for the two versions\n",
    "original_version = [0, 0, 2, 3] - np.mean([0, 0, 2, 3])\n",
    "print(original_version)\n",
    "projected_version = list(data_pca1)\n",
    "\n",
    "# Adjusting the plot to prevent overlapping by offsetting the two versions on separate axes\n",
    "plt.figure(figsize=(10, 2))  # Adjusting figure size for clarity\n",
    "\n",
    "# Offsetting the two versions slightly on the y-axis to prevent overlapping\n",
    "y_offset = 0.1  # Offset amount\n",
    "\n",
    "# Plot for the original version as points, offset downwards\n",
    "plt.plot(original_version, [-y_offset]*len(original_version), 'o', label='Feature with Maximum Variance', markersize=10, color='blue')\n",
    "\n",
    "# Plot for the add-1 version as points, offset upwards\n",
    "plt.plot(projected_version, [y_offset]*len(projected_version), 's', label='Porjection on the 1st component ', markersize=10, color='red')\n",
    "\n",
    "# Removing y-axis and ticks as the focus is on the values' spread\n",
    "plt.yticks([])\n",
    "plt.xticks(range(4))  # Assuming the possible range of values for illustration\n",
    "plt.xlabel('Values')\n",
    "\n",
    "# Adding a legend to distinguish the versions\n",
    "plt.legend()\n",
    "\n",
    "# Show grid on the x-axis to indicate value positions\n",
    "plt.grid(True, axis='x')\n",
    "\n",
    "# Display the plot\n",
    "plt.show()\n"
   ]
  },
  {
   "cell_type": "code",
   "execution_count": 45,
   "metadata": {},
   "outputs": [],
   "source": [
    "\n",
    "# verify the result: covmat*eigenvector = lambd*eigenvector\n",
    "# print('Verify the result: covmat*eigenvector = lambd*eigenvector')\n",
    "# print(np.dot(covmat, eigenvector))\n",
    "# print(lambd*eigenvector)\n",
    "\n",
    "# let's understand  covmat . S P=P D\n",
    "# print(np.dot(covmat, eigenvector[:, 0])) # (d, d) * (d, 1)\n",
    "# print(eigenvector[:, 0]*lambd[0]) # (d, 1)\n",
    "\n",
    "# check whether eigenvector is orthogonal\n",
    "# np.dot(eigenvector[:, 0], eigenvector[:, 1])"
   ]
  },
  {
   "cell_type": "markdown",
   "metadata": {},
   "source": [
    "### In assignment, you can simply use Scikit-Learn "
   ]
  },
  {
   "cell_type": "code",
   "execution_count": 54,
   "metadata": {},
   "outputs": [],
   "source": [
    "data = np.array([\n",
    "    # good superb\n",
    "    [0,    0],  # D1: Neutral or negative\n",
    "    [3,    0],  # D2: Moderately positive\n",
    "    [5,    2],  # D3: Positive\n",
    "    [2,    5]   # D4: Highly positive\n",
    "])"
   ]
  },
  {
   "cell_type": "code",
   "execution_count": 14,
   "metadata": {},
   "outputs": [
    {
     "name": "stdout",
     "output_type": "stream",
     "text": [
      "Eigen values: [6.         3.91666667]\n"
     ]
    }
   ],
   "source": [
    "from sklearn.decomposition import PCA\n",
    "# covariance, eigenvalues and eigenvectors from sklearn PCA\n",
    "pca = PCA(n_components=2, random_state=2)\n",
    "pca.fit(data)\n",
    "covmat = pca.get_covariance()\n",
    "lambd = pca.explained_variance_ \n",
    "# print('Covariance matrix: \\n{}'.format(covmat))\n",
    "# print('Explained Variance Ratio: {}'.format(pca.explained_variance_ratio_))\n",
    "print('Eigen values: {}'.format(lambd))\n",
    "# print('Eigen vectors: {}'.format(eigenvector))\n",
    "# transform the data\n",
    "data_pca = pca.transform(data)\n",
    "# print('Variance of PCA transformed data: {}, {}'.format(var(data_pca[:,0]), var(data_pca[:,1])))\n",
    "# Covariance matrix: \n",
    "# [[4.33333333 0.83333333]\n",
    "#  [0.83333333 5.58333333]]\n",
    "# Eigen values: [6.         3.91666667]\n",
    "# Eigen vectors: [[-0.4472136  -0.89442719]\n",
    "#  [-0.89442719  0.4472136 ]]\n",
    "\n"
   ]
  },
  {
   "cell_type": "code",
   "execution_count": 17,
   "metadata": {},
   "outputs": [
    {
     "data": {
      "text/plain": [
       "2.220446049250313e-16"
      ]
     },
     "execution_count": 17,
     "metadata": {},
     "output_type": "execute_result"
    }
   ],
   "source": [
    "covar(data_pca[:,0], data_pca[:,1])"
   ]
  },
  {
   "attachments": {},
   "cell_type": "markdown",
   "metadata": {},
   "source": [
    "## Remove correlation using Eigenvector\n",
    "* Project data into new coordinates\n",
    "    * eigenvalues/eigenvectors are not actually ordered typically but in this case they are and the first eigenvalue accounts for the most variance. By that standard it is superior.\n",
    "* Why does the transformation of eigenvector remove the correlation?\n",
    "    + \"covariance among each pair of the principal axes is zero (the principal axes are uncorrelated i.e. they are orthogonal to each other).\" (copy from 4.7)"
   ]
  },
  {
   "cell_type": "code",
   "execution_count": 120,
   "metadata": {},
   "outputs": [
    {
     "name": "stdout",
     "output_type": "stream",
     "text": [
      "The orginal covariance/unnormalized correlations:\n",
      "[[1.        0.7355261]\n",
      " [0.7355261 1.       ]]\n",
      "The covariance/unnormalized correlations after removing correlation:\n",
      "[[1.73552610e+00 2.87461239e-16]\n",
      " [2.87461239e-16 2.64473903e-01]]\n"
     ]
    }
   ],
   "source": [
    "# Z=X^T P\n",
    "Z = np.dot(Xnorm, eigenvector) # (n, D) * (D, d) D = d\n",
    "eigenvector.shape\n",
    "# Z # (D, D)\n",
    "\n",
    "# check covariance\n",
    "X = Xnorm\n",
    "print(\"The orginal covariance/unnormalized correlations:\")\n",
    "print(np.dot(X.T, X)/len(X) -  np.dot(X.mean(axis=0, keepdims=True).T , X.mean(axis=0, keepdims=True)))\n",
    "\n",
    "print(\"The covariance/unnormalized correlations after removing correlation:\")\n",
    "X = Z\n",
    "print(np.dot(X.T, X)/len(X) -  np.dot(X.mean(axis=0, keepdims=True).T , X.mean(axis=0, keepdims=True)))"
   ]
  },
  {
   "attachments": {},
   "cell_type": "markdown",
   "metadata": {},
   "source": [
    "## Back to the idea of dimensionality reduction\n",
    "* Could we use distance metrics we learnt from last week?\n",
    "        $$\n",
    "        \\mathcal{L}=\\sum_{i<j}\\left(d_{i j}-\\left\\|\\mathbf{y}_i-\\mathbf{y}_j\\right\\|\\right)^2\n",
    "        $$\n",
    "        + How many computations we need?\n",
    "        + Projection-based method\n",
    "* t-SNE: $p_{i j}=\\frac{w_{i j}}{Z}$ is the normalized similarity between points i and j. \n",
    "    + Two closed neighbours in the high-dimensional space -> large $p_{i j}$. Clearly, it gives high price for putting closd neighbours far away. \n",
    "    + How about the price to put points far away closed? \n",
    "    + How to define $q_{i j}$? \n",
    "    + How close neighbours attract each other while all points repulse each other? How to optimize?\n",
    "            $$\\min \\mathcal{L}=\\sum_{i, j} p_{i j} \\log \\frac{p_{i j}}{q_{i j}} = \\sum_{i j} p_{i j} \\log p_{i j}-\\sum_{i j} p_{i j} \\log q_{i j}$$ \n",
    "            $$\\min -\\sum_{i, j} p_{i j} \\log w_{i j}+\\log \\sum_{i, j} w_{i j}$$\n",
    "$w_{i j}$=sim($x_i^d, x_j^d$)-> normalized similarity $q_{i , j}$\n",
    "            <!-- ![image.png](attachment:image.png) -->\n",
    "    + Some materials for different tastes: [High-level visualization](https://www.enjoyalgorithms.com/blog/tsne-algorithm-in-ml); [another high-level visualization](https://www.youtube.com/watch?v=NEaUSP4YerM&t=215s); [Concrete explanation and background in math](https://www.youtube.com/watch?v=MnRskV3NY1k&t=1896s)\n",
    "    + Why do we need t-SNE instead of PCA? See [the image](https://www.astroml.org/_images/fig_S_manifold_PCA_1.png) for an intuitive unserstanding.\n",
    "    "
   ]
  },
  {
   "attachments": {},
   "cell_type": "markdown",
   "metadata": {},
   "source": [
    "## Variance vs Coefficient Correlation"
   ]
  },
  {
   "cell_type": "code",
   "execution_count": 28,
   "metadata": {},
   "outputs": [
    {
     "name": "stdout",
     "output_type": "stream",
     "text": [
      "[[1.         0.96674865]\n",
      " [0.96674865 1.        ]]\n"
     ]
    }
   ],
   "source": [
    "f1 = np.array([1,2,3,4,5])\n",
    "f2 = np.array([1,2.5,3,4.9,4.9])\n",
    "x = np.stack((f1, f2),) # (num_feat, num_data)\n",
    "print((np.corrcoef(x, rowvar=True)))\n"
   ]
  },
  {
   "cell_type": "code",
   "execution_count": 27,
   "metadata": {},
   "outputs": [
    {
     "name": "stdout",
     "output_type": "stream",
     "text": [
      "[[2.5   2.55 ]\n",
      " [2.55  2.783]]\n",
      "[2.5   2.783]\n",
      "[1.58113883 1.6682326 ]\n",
      "[[1.         0.96674865]\n",
      " [0.96674865 1.        ]]\n"
     ]
    }
   ],
   "source": [
    "c = np.cov(x, rowvar=True, dtype=None)\n",
    "print(c)\n",
    "d = np.diag(c)\n",
    "print(d)\n",
    "stddev = np.sqrt(d.real)\n",
    "print(stddev)\n",
    "corr = c/stddev[:, None]\n",
    "corr = corr/stddev[None, :]\n",
    "print(corr)"
   ]
  },
  {
   "cell_type": "code",
   "execution_count": 126,
   "metadata": {},
   "outputs": [
    {
     "name": "stdout",
     "output_type": "stream",
     "text": [
      "[0.40242142 0.14923182 0.12059623]\n",
      "0.6722494722420844\n"
     ]
    }
   ],
   "source": [
    "# Measure the reconstruction error\n",
    "# n_comp = range(1, 10)\n",
    "# rec_error = np.zeros(len(n_comp))\n",
    "# for k in n_comp:\n",
    "#     pca = PCA(n_components=k)\n",
    "#     Zred = pca.fit_transform(Xnorm)\n",
    "#     Xrec = pca.inverse_transform(Zred)\n",
    "#     rec_error[k-1] = np.linalg.norm(Xnorm-Xrec, 'fro')/np.linalg.norm(Xnorm, 'fro')\n",
    "#     # print(\"k={}, rec_error={}\".format(k, rec_error[k]))\n",
    "# #Visualize the change in error\n",
    "# plt.plot(n_comp,rec_error)\n",
    "# plt.xlabel('No of principal components (k)')\n",
    "# plt.ylabel('Reconstruction Error')\n",
    "# np.linalg.norm(Xnorm-Xrec, 'fro')"
   ]
  }
 ],
 "metadata": {
  "kernelspec": {
   "display_name": "allennlp260",
   "language": "python",
   "name": "python3"
  },
  "language_info": {
   "codemirror_mode": {
    "name": "ipython",
    "version": 3
   },
   "file_extension": ".py",
   "mimetype": "text/x-python",
   "name": "python",
   "nbconvert_exporter": "python",
   "pygments_lexer": "ipython3",
   "version": "3.12.2"
  },
  "orig_nbformat": 4,
  "vscode": {
   "interpreter": {
    "hash": "a76e165ef781bae0213771e3c52fcb1dfc11aa754df214bdcb59aab9db239e7c"
   }
  }
 },
 "nbformat": 4,
 "nbformat_minor": 2
}
