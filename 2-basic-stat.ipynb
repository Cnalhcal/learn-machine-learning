{
 "cells": [
  {
   "cell_type": "code",
   "execution_count": null,
   "metadata": {},
   "outputs": [],
   "source": [
    "# How could you use Q1, Q3 to determine the upper bound and lower bound for detecting outliers?"
   ]
  },
  {
   "cell_type": "code",
   "execution_count": 8,
   "metadata": {},
   "outputs": [],
   "source": [
    "import numpy as np\n",
    "from my_ml_package.visualize import plot_pdf, plot_cdf, plot_histogram\n",
    "from my_ml_package.stat import generate_sample"
   ]
  },
  {
   "attachments": {},
   "cell_type": "markdown",
   "metadata": {},
   "source": [
    "\n",
    " \n",
    "* Basic Terminology in Statistics\n",
    "  * A random experiment: \"an experiment or a process for which the outcome cannot be predicted with certainty\"\n",
    "  * Sample space v.s. Event\n",
    "  * Random Variables: \"quantities of interest that are determined by the result of the experiment are known as random variable\"\n",
    "\n",
    "* Probability\n",
    "  * Probability of an event\n",
    "  * Joint probability v.s Conditional probability\n",
    "  * Bayes Rule: \"how you should change your existing beliefs in the light of new occurrence\"\n",
    "    + $Pr(\\text{cancer=True} | \\text{Test=Positive}) = \\frac{Pr(\\text{cancer=True}) Pr(\\text{Test=Positive}|\\text{cancer=True})}{Pr(\\text{Test=Positive})}$\n",
    "    + It can be used to calculate unknown poterior probability [in some cases](https://machinelearningmastery.com/bayes-theorem-for-machine-learning/#:~:text=It%20is%20often%20the%20case,\\)%20*%20P\\(not%20A\\))\n",
    "    + How does this Bayes rule help use build ML models?\n",
    "    parameters; data\n",
    "\n",
    "    maximize Pr(parameters|data) $\\propto$ Pr(data|parameters) * Pr(parameters) \n",
    "\n",
    "    maximize Pr(model|data) $\\propto$ Pr(data|model) * Pr(model) \n",
    "\n",
    "\n",
    "**Reference**\n",
    "* Introduction to Probability and Statistics for Engineers and Scientists"
   ]
  },
  {
   "attachments": {},
   "cell_type": "markdown",
   "metadata": {},
   "source": [
    "## Random Variables"
   ]
  },
  {
   "cell_type": "code",
   "execution_count": 15,
   "metadata": {},
   "outputs": [],
   "source": [
    "probs = [1/6, 1/6,1/6, 1/6, 1/6, 1/6]\n",
    "x =     [1,   2,  3,   4,   5,   6] "
   ]
  },
  {
   "attachments": {},
   "cell_type": "markdown",
   "metadata": {},
   "source": [
    "## Distributions"
   ]
  },
  {
   "cell_type": "code",
   "execution_count": 17,
   "metadata": {},
   "outputs": [
    {
     "data": {
      "image/png": "[encoded data removed]",
      "text/plain": [
       "<Figure size 640x480 with 1 Axes>"
      ]
     },
     "metadata": {},
     "output_type": "display_data"
    }
   ],
   "source": [
    "# plot_pdf(x, probs)\n",
    "# plot_cdf(x, probs)\n",
    "\n",
    "# Common distributions\n",
    "sample = generate_sample(sample_size=1000, pdf_or_pmf=np.random.poisson)\n",
    "plot_histogram(sample, bins=30)"
   ]
  },
  {
   "attachments": {},
   "cell_type": "markdown",
   "metadata": {},
   "source": [
    "## Central Limit Theorem\n",
    "As the sample size becomes large, the distribution of the sample mean (or sum) of independent, identically distributed (i.i.d.) variables approaches a normal distribution, regardless of the original distribution of the variables."
   ]
  },
  {
   "cell_type": "code",
   "execution_count": 24,
   "metadata": {},
   "outputs": [
    {
     "data": {
      "image/png": "[encoded data removed]",
      "text/plain": [
       "<Figure size 640x480 with 1 Axes>"
      ]
     },
     "metadata": {},
     "output_type": "display_data"
    }
   ],
   "source": [
    "# 1. Large sample size; 2. Sample mean/summation-> 3. Normal distribution\n",
    "# pdf: Probability Density Function-> Continuous variable; pmf: Probability Mass Function-> Categorical variable\n",
    "means = [np.mean(generate_sample(sample_size=3000, pdf_or_pmf=np.random.poisson)) for _ in range(1000)]\n",
    "plot_histogram(means, bins=30)\n",
    "\n",
    "# y = wx+b # trained sample\n",
    "\n",
    "# hypothesis testing -> t-test, z-test\n",
    "# confidence interval"
   ]
  },
  {
   "cell_type": "markdown",
   "metadata": {},
   "source": [
    "## InterQuartile Range"
   ]
  },
  {
   "cell_type": "code",
   "execution_count": 13,
   "metadata": {},
   "outputs": [
    {
     "name": "stdout",
     "output_type": "stream",
     "text": [
      "Q1: 3\n",
      "Q2: 6\n",
      "Q3: 9\n",
      "Lower Bound for Outliers: -6.0\n",
      "Upper Bound for Outliers: 18.0\n"
     ]
    }
   ],
   "source": [
    "from my_ml_package.stat import find_position_for_percentile, find_percentile\n",
    "# Example dataset\n",
    "data = [1, 2, 3, 4, 5, 6, 7, 8, 9, 10, 100]\n",
    "\n",
    "Q1 = find_percentile(25, data)  # Q1\n",
    "Q2 = find_percentile(50, data)  # Q2\n",
    "Q3 = find_percentile(75, data)  # Q3\n",
    "print(f\"Q1: {Q1}\")  \n",
    "print(f\"Q2: {Q2}\")  \n",
    "print(f\"Q3: {Q3}\")\n",
    "\n",
    "tolerance_range = 1.5*(Q3-Q1)\n",
    "lower_bound = Q1 - tolerance_range\n",
    "upper_bound = Q3 + tolerance_range\n",
    "# # Print the results\n",
    "print(f\"Lower Bound for Outliers: {lower_bound}\")\n",
    "print(f\"Upper Bound for Outliers: {upper_bound}\")\n"
   ]
  },
  {
   "cell_type": "code",
   "execution_count": null,
   "metadata": {},
   "outputs": [],
   "source": []
  }
 ],
 "metadata": {
  "kernelspec": {
   "display_name": "sit720",
   "language": "python",
   "name": "python3"
  },
  "language_info": {
   "codemirror_mode": {
    "name": "ipython",
    "version": 3
   },
   "file_extension": ".py",
   "mimetype": "text/x-python",
   "name": "python",
   "nbconvert_exporter": "python",
   "pygments_lexer": "ipython3",
   "version": "3.11.4"
  },
  "orig_nbformat": 4,
  "vscode": {
   "interpreter": {
    "hash": "851ded061afa4765036d03839fe2a12ede05ff2126402e9849c3c80d33b9fb35"
   }
  }
 },
 "nbformat": 4,
 "nbformat_minor": 2
}
