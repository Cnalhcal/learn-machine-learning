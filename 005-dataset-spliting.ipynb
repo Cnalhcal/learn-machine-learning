{
 "cells": [
  {
   "cell_type": "code",
   "execution_count": 1,
   "metadata": {},
   "outputs": [],
   "source": [
    "from sklearn.model_selection import train_test_split, LeaveOneOut, KFold, StratifiedKFold, GroupKFold, LeavePGroupsOut\n",
    "import numpy as np\n",
    "import pandas as pd"
   ]
  },
  {
   "cell_type": "markdown",
   "metadata": {},
   "source": [
    "Why do we split data for training and testing separately?\n",
    "\n",
    "* See [examples](https://arxiv.org/pdf/2109.06827.pdf)\n",
    "* I.I.D. (VERY IMPORTANT!!!)"
   ]
  },
  {
   "cell_type": "markdown",
   "metadata": {},
   "source": [
    "## Data Splitting\n",
    "Train/test split by  `train_test_split`:\n",
    "* By default, `train_test_split` splits the data into 75% training data and 25% test data which is a good rule of thumb.\n",
    "* `stratify=y` makes sure that the labels to be distributed in train and test sets as they are in the original dataset."
   ]
  },
  {
   "cell_type": "code",
   "execution_count": 10,
   "metadata": {},
   "outputs": [
    {
     "data": {
      "text/plain": [
       "[('I was excited to see this film because I love historical dramas, but it was a huge disappointment. The storyline was disjointed, and it seemed like the director was trying too hard to be artsy. The acting was mediocre at best, and I found myself checking my watch multiple times throughout. Overall, a very underwhelming experience.',\n",
       "  'Negative',\n",
       "  'Netflix'),\n",
       " ('...', 'Negative', 'YouTube'),\n",
       " (\"This movie is a true gem. The storyline was gripping from start to finish, filled with unexpected twists and turns. The performances were top-notch, with the lead actors delivering some of their career-best performances. The cinematography was beautiful, and the soundtrack perfectly complemented the mood of the film. It's a must-watch for anyone who appreciates quality cinema.\",\n",
       "  'Positive',\n",
       "  'Netflix'),\n",
       " ('...', 'Negative', 'Yelp')]"
      ]
     },
     "execution_count": 10,
     "metadata": {},
     "output_type": "execute_result"
    }
   ],
   "source": [
    "data = [(\"This book turned out to be a dull and uninteresting depiction of what could have been a fascinating dive into history.\", \n",
    "      'Negative', \n",
    "      'Amazon'),\n",
    "     (\"The Apple Watch is an exceptional piece of technology that seamlessly blends style with functionality.\",  \n",
    "      'Positive', \n",
    "      'Amazon'),\n",
    "     (\"I was excited to see this film because I love historical dramas, but it was a huge disappointment. The storyline was disjointed, and it seemed like the director was trying too hard to be artsy. The acting was mediocre at best, and I found myself checking my watch multiple times throughout. Overall, a very underwhelming experience.\", \n",
    "      'Negative' , \n",
    "      'Netflix'),\n",
    "     (\"This movie is a true gem. The storyline was gripping from start to finish, filled with unexpected twists and turns. The performances were top-notch, with the lead actors delivering some of their career-best performances. The cinematography was beautiful, and the soundtrack perfectly complemented the mood of the film. It's a must-watch for anyone who appreciates quality cinema.\", \n",
    "      'Positive',\n",
    "      'Netflix'),\n",
    "      (\"...\",\n",
    "       'Negative' , \n",
    "      'YouTube'),\n",
    "     (\"...\",\n",
    "      'Positive',\n",
    "      'YouTube'),\n",
    "      (\"...\",\n",
    "       'Negative' , \n",
    "      'Yelp'),\n",
    "     (\"...\",\n",
    "      'Positive',\n",
    "      'Yelp'),  ]\n",
    "\n",
    "df = pd.DataFrame(data, columns=['review', 'sentiment', 'source'])\n",
    "y = df['sentiment']\n",
    "X = df.drop(columns=['sentiment'])\n",
    "X_train, X_test = train_test_split(data, test_size=0.5, random_state=42)\n",
    "X_train\n"
   ]
  },
  {
   "cell_type": "code",
   "execution_count": null,
   "metadata": {},
   "outputs": [],
   "source": []
  },
  {
   "cell_type": "markdown",
   "metadata": {},
   "source": [
    "## Cross Validation\n",
    "* KFold, GroupKFold\n",
    "* [Visualizing cross-validation behavior in scikit-learn](https://scikit-learn.org/stable/auto_examples/model_selection/plot_cv_indices.html)\n",
    "<!-- * [Caveats of Cross-validation](https://www.bing.com/search?q=7+cross+validation+mistaks&cvid=de14ffd0df5042cc883c14bea38f3da1&aqs=edge..69i57j0j69i11004.12424j0j4&FORM=ANAB01&PC=NSJS) -->\n"
   ]
  },
  {
   "cell_type": "code",
   "execution_count": null,
   "metadata": {},
   "outputs": [],
   "source": []
  },
  {
   "cell_type": "code",
   "execution_count": 14,
   "metadata": {},
   "outputs": [
    {
     "name": "stdout",
     "output_type": "stream",
     "text": [
      "(array([4, 5, 6, 7]), array([0, 1, 2, 3]))\n"
     ]
    }
   ],
   "source": [
    "# cv = KFold(n_splits=2, random_state=42, shuffle=True)\n",
    "# cv = LeaveOneOut()\n",
    "# cv = GroupKFold(n_splits=2)\n",
    "cv = LeavePGroupsOut(n_groups=2)\n",
    "# cv = StratifiedKFold(n_splits=2)\n",
    "\n",
    "print(next(cv.split(X, groups=[0, 0, 1, 1, 2, 2,3,3])))\n",
    "\n",
    "# Do not use list for big data\n",
    "# The combinatorial complexity for all the possible splitting combinations. For example, the group size is 2145. If you choose 5 from 2145, the number of all the possible combinations would be \n",
    "# math.comb(2145, 5) # => 376642337375304 \n",
    "# print(list(cv.split(X, groups=[0, 0, 1, 1, 2, 2,3,3])))\n",
    "\n"
   ]
  },
  {
   "cell_type": "code",
   "execution_count": 28,
   "metadata": {},
   "outputs": [
    {
     "name": "stdout",
     "output_type": "stream",
     "text": [
      "2145\n",
      "3000\n"
     ]
    }
   ],
   "source": [
    "# read data/data_5.csv\n",
    "import pandas as pd\n",
    "df = pd.read_csv('data/data_5.csv')\n",
    "print(df['property_id'].nunique())\n",
    "print(len(df))"
   ]
  },
  {
   "cell_type": "markdown",
   "metadata": {},
   "source": [
    "<!-- ## Hyperparameter Tuning\n",
    "Methods for Data Split\n",
    "* Subsampling\n",
    "* Stratified subsampling\n",
    "* [Grid Search](https://scikit-learn.org/stable/modules/grid_search.html) -->"
   ]
  }
 ],
 "metadata": {
  "kernelspec": {
   "display_name": "langchain",
   "language": "python",
   "name": "python3"
  },
  "language_info": {
   "codemirror_mode": {
    "name": "ipython",
    "version": 3
   },
   "file_extension": ".py",
   "mimetype": "text/x-python",
   "name": "python",
   "nbconvert_exporter": "python",
   "pygments_lexer": "ipython3",
   "version": "3.1.-1"
  }
 },
 "nbformat": 4,
 "nbformat_minor": 2
}
