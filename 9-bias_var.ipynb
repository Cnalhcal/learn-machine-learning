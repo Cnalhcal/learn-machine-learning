{
 "cells": [
  {
   "attachments": {},
   "cell_type": "markdown",
   "metadata": {},
   "source": [
    "\n",
    "\n",
    "During the model assessment, Test Error Rate or Accuracy cannot reflect **Variance** of the learning algorithm.\n",
    "* Test Error (Prediction Error; Generalization Error)\n",
    "    $$\\operatorname{Err}_{\\mathcal{T}}=\\mathrm{E}[L(Y, \\hat{f}(X)) \\mid \\mathcal{T}]$$ \n",
    "* Variance: indicate the variation of the test errors between different test samples (or including training sample). \n",
    "* Which setting is suitable to measure the variance?\n",
    "    + Vary models; fixed training data, test data\n",
    "    + Fixed model, training data; vary test data\n",
    "    + Fixed training data; vary model, test data\n",
    "    + Vary training data, model, test data\n",
    "\n",
    "<!-- * Expected Test Error\n",
    "    $$\\operatorname{Err}=\\mathrm{E}[L(Y, \\hat{f}(X))]=\\mathrm{E}\\left[\\operatorname{Err}_{\\mathcal{T}}\\right]$$ -->\n",
    "\n",
    "*  the prediction error (light red curves) $\\operatorname{Err}_{\\mathcal{T}}$ for 100 simulated training sets each of size 50. The lasso was used to produce the sequence of fits.\n",
    "\n"
   ]
  },
  {
   "attachments": {},
   "cell_type": "markdown",
   "metadata": {},
   "source": [
    "<center><img src=\"pics/bias_variance.png\" width=\"500\"></center>\n",
    "\n",
    "* The more variance of the fit model, the more difference between training sample and test sample.\n",
    "* Actually, the gap between training sample and test sample is commonly larger than the performance gaps between test samples."
   ]
  },
  {
   "attachments": {},
   "cell_type": "markdown",
   "metadata": {},
   "source": [
    "How can we use the last setting can be used to develop an ensemble model to reduce variance?"
   ]
  }
 ],
 "metadata": {
  "kernelspec": {
   "display_name": "sit720",
   "language": "python",
   "name": "python3"
  },
  "language_info": {
   "name": "python",
   "version": "3.10.9"
  },
  "orig_nbformat": 4
 },
 "nbformat": 4,
 "nbformat_minor": 2
}
