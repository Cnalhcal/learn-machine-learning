{
 "cells": [
  {
   "cell_type": "markdown",
   "metadata": {},
   "source": [
    "Formulate the objective probabilistically for \"judging\" which sets of parameters are good\n",
    "\n",
    "    maximize Pr(parameters|data) $\\propto$ Pr(data|parameters) * Pr(parameters)\n"
   ]
  },
  {
   "cell_type": "markdown",
   "metadata": {},
   "source": []
  }
 ],
 "metadata": {
  "language_info": {
   "name": "python"
  }
 },
 "nbformat": 4,
 "nbformat_minor": 2
}
