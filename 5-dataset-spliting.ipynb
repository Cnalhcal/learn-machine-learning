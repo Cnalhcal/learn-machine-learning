{
 "cells": [
  {
   "cell_type": "code",
   "execution_count": 10,
   "metadata": {},
   "outputs": [],
   "source": [
    "from sklearn.model_selection import train_test_split, LeaveOneOut, KFold, StratifiedKFold, GroupKFold\n",
    "import numpy as np"
   ]
  },
  {
   "cell_type": "markdown",
   "metadata": {},
   "source": [
    "Why do we split data for training and testing separately?\n",
    "\n",
    "* See [examples](https://arxiv.org/pdf/2109.06827.pdf)\n",
    "* I.I.D. (VERY IMPORTANT!!!)"
   ]
  },
  {
   "cell_type": "markdown",
   "metadata": {},
   "source": [
    "## Data Splitting\n",
    "Train/test split by  `train_test_split`:\n",
    "* By default, `train_test_split` splits the data into 75% training data and 25% test data which is a good rule of thumb.\n",
    "* `stratify=y` makes sure that the labels to be distributed in train and test sets as they are in the original dataset."
   ]
  },
  {
   "cell_type": "code",
   "execution_count": 13,
   "metadata": {},
   "outputs": [
    {
     "data": {
      "text/plain": [
       "[['The movie was a dull and uninteresting depiction of a fascinating historical event.',\n",
       "  'I was excited to see this film because I love historical dramas, but it was a huge disappointment. The storyline was disjointed, and it seemed like the director was trying too hard to be artsy. The acting was mediocre at best, and I found myself checking my watch multiple times throughout. Overall, a very underwhelming experience.'],\n",
       " ['A beautifully crafted masterpiece that captures the essence of childhood adventure.',\n",
       "  \"This movie is a true gem. The storyline was gripping from start to finish, filled with unexpected twists and turns. The performances were top-notch, with the lead actors delivering some of their career-best performances. The cinematography was beautiful, and the soundtrack perfectly complemented the mood of the film. It's a must-watch for anyone who appreciates quality cinema.\"],\n",
       " array([1, 3]),\n",
       " array([2, 4])]"
      ]
     },
     "execution_count": 13,
     "metadata": {},
     "output_type": "execute_result"
    }
   ],
   "source": [
    "X = [\"The movie was a dull and uninteresting depiction of a fascinating historical event.\",\n",
    "\"A beautifully crafted masterpiece that captures the essence of childhood adventure.\",\n",
    "\"I was excited to see this film because I love historical dramas, but it was a huge disappointment. The storyline was disjointed, and it seemed like the director was trying too hard to be artsy. The acting was mediocre at best, and I found myself checking my watch multiple times throughout. Overall, a very underwhelming experience.\",\n",
    "\"This movie is a true gem. The storyline was gripping from start to finish, filled with unexpected twists and turns. The performances were top-notch, with the lead actors delivering some of their career-best performances. The cinematography was beautiful, and the soundtrack perfectly complemented the mood of the film. It's a must-watch for anyone who appreciates quality cinema.\"]\n",
    "\n",
    "X_train, X_test, y_train, y_test = train_test_split(X, y, test_size=0.33, random_state=42)\n"
   ]
  },
  {
   "cell_type": "markdown",
   "metadata": {},
   "source": [
    "## Corss Validation\n",
    "* KFold, GroupKFold\n",
    "* [Visualizing cross-validation behavior in scikit-learn](https://scikit-learn.org/stable/auto_examples/model_selection/plot_cv_indices.html)\n",
    "<!-- * [Caveats of Cross-validation](https://www.bing.com/search?q=7+cross+validation+mistaks&cvid=de14ffd0df5042cc883c14bea38f3da1&aqs=edge..69i57j0j69i11004.12424j0j4&FORM=ANAB01&PC=NSJS) -->\n"
   ]
  },
  {
   "cell_type": "code",
   "execution_count": 8,
   "metadata": {},
   "outputs": [
    {
     "name": "stdout",
     "output_type": "stream",
     "text": [
      "[(array([2, 3]), array([0, 1])), (array([0, 1]), array([2, 3]))]\n"
     ]
    }
   ],
   "source": [
    "X = np.array([[1, 2], \n",
    "               [3, 4], \n",
    "               [1, 2], \n",
    "               [3, 4]])\n",
    "# cv = KFold(n_splits=2)\n",
    "# cv = LeaveOneOut()\n",
    "# cv = GroupKFold(n_splits=2)\n",
    "cv = StratifiedKFold(n_splits=2)\n",
    "print(list(cv.split(X, y=[0, 1, 0, 1])))"
   ]
  },
  {
   "cell_type": "markdown",
   "metadata": {},
   "source": [
    "<!-- ## Hyperparameter Tuning\n",
    "Methods for Data Split\n",
    "* Subsampling\n",
    "* Stratified subsampling\n",
    "* [Grid Search](https://scikit-learn.org/stable/modules/grid_search.html) -->"
   ]
  }
 ],
 "metadata": {
  "kernelspec": {
   "display_name": "langchain",
   "language": "python",
   "name": "python3"
  },
  "language_info": {
   "codemirror_mode": {
    "name": "ipython",
    "version": 3
   },
   "file_extension": ".py",
   "mimetype": "text/x-python",
   "name": "python",
   "nbconvert_exporter": "python",
   "pygments_lexer": "ipython3",
   "version": "3.11.4"
  }
 },
 "nbformat": 4,
 "nbformat_minor": 2
}
