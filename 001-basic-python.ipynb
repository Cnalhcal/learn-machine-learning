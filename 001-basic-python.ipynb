{
 "cells": [
  {
   "cell_type": "markdown",
   "metadata": {},
   "source": [
    "## Features as A Programming Language"
   ]
  },
  {
   "cell_type": "markdown",
   "metadata": {},
   "source": [
    "### Control Flow"
   ]
  },
  {
   "cell_type": "code",
   "execution_count": 1,
   "metadata": {},
   "outputs": [],
   "source": [
    "# sequential execution\n",
    "\n",
    "# conditional execution\n",
    "\n",
    "# loop execution"
   ]
  },
  {
   "cell_type": "markdown",
   "metadata": {},
   "source": [
    "### Data Types"
   ]
  },
  {
   "cell_type": "code",
   "execution_count": null,
   "metadata": {},
   "outputs": [],
   "source": [
    "# integer, float, string, Boolean, tuples, list, dictionary and set\n"
   ]
  },
  {
   "cell_type": "code",
   "execution_count": null,
   "metadata": {},
   "outputs": [],
   "source": [
    "# Immutable data types (including integer, floats, strings, Booleans, and tuples) will have the different memory \n",
    "#  address once you change the value.\n",
    "## For integer, once you assign another value, the memory address of x will change\n",
    "x = 3 \n",
    "print(id(x))\n",
    "x = x + 3\n",
    "print(id(x))\n",
    "print(x)\n",
    "\n",
    "## ERROR!!! For tuple,  you cannot change values in the tuple\n",
    "x = (1, 2, 3)\n",
    "x[0] = 2\n",
    "\n",
    "\n",
    "# Mutable data types (including list, dictionary and set) will have the same memory address\n",
    "#  once you change the value.\n",
    "d = {'x': 1, \"y\": 2, \"z\": 3}\n",
    "print(\"The original address: \", id(d))\n",
    "d['x'] = 2\n",
    "print(\"The address aftering changing a value: \", id(d))\n",
    "print(d)"
   ]
  },
  {
   "cell_type": "markdown",
   "metadata": {},
   "source": [
    "### Function\n"
   ]
  },
  {
   "cell_type": "code",
   "execution_count": 2,
   "metadata": {},
   "outputs": [
    {
     "name": "stdout",
     "output_type": "stream",
     "text": [
      "3\n"
     ]
    }
   ],
   "source": [
    "x = 3\n",
    "def add3(x):\n",
    "    x= x + 3 \n",
    "add3(x)\n",
    "print(x)\n",
    "\n",
    "# x = [3]\n",
    "# def add3(x):\n",
    "#     x[0] = x[0] + 3\n",
    "\n",
    "# add3(x)\n",
    "# print(x)"
   ]
  },
  {
   "cell_type": "markdown",
   "metadata": {},
   "source": [
    "### An Interesting Question: Why the integer x is changed and the list x does not? Any hypothesis? How to check?\n",
    "\n",
    "<!-- But a deeper understanding requires knowledge of pointer in C programming, which underlies the implementation of Python data types. [This link](https://realpython.com/pointers-in-python/#immutable-vs-mutable-objects) provides a good starting point.\n",
    "\n",
    "<!-- * The first `x` is defined in what we call **global scope**.\n",
    "* All the objects created in the function will be stored in **a local scope**. Hence, the first `x` in `x= x+3` is a newly created object in the local scope.\n",
    "* We can verify the above assumption by looing at their memory addresses. The addresses are different. --> "
   ]
  },
  {
   "cell_type": "code",
   "execution_count": 4,
   "metadata": {},
   "outputs": [
    {
     "name": "stdout",
     "output_type": "stream",
     "text": [
      "The memory address of x: 4313998320\n",
      "The memory address of x passed into the function: 4313998320\n",
      "The memory address of the newly created x in the function: 4313998416\n",
      "3\n"
     ]
    }
   ],
   "source": [
    "x = 3 # define x in the global scope\n",
    "print(\"The memory address of x:\", id(x))\n",
    "def add3(x):\n",
    "    print(\"The memory address of x passed into the function:\", id(x))\n",
    "    x = x + 3 # a new memory adress will be assigned to x in the function scope\n",
    "    print(\"The memory address of the newly created x in the function:\", id(x))\n",
    "add3(x)\n",
    "print(x)\n"
   ]
  },
  {
   "cell_type": "code",
   "execution_count": null,
   "metadata": {},
   "outputs": [],
   "source": [
    "x = [3] # define x in the global scope\n",
    "print(\"The memory address of x:\", id(x))\n",
    "def add3(x):\n",
    "    x[0] = x[0] + 3 # Here, we assign the new value into the same memory address as x in the global scope\n",
    "    print(\"The memory address of x in the function:\", id(x))\n",
    "add3(x)\n",
    "print(x)"
   ]
  },
  {
   "cell_type": "markdown",
   "metadata": {},
   "source": [
    "Global Scope\n",
    "<!-- * If we do not want to create a new object x in the function, and always want to access x in the global scope,  use the `global` keyword\n",
    "* Note that since x is immutable data type (integer), the memory address is still changed. I have an explanation of mutable and immutable data types. See the section below for mutable and immutable data types -->"
   ]
  },
  {
   "cell_type": "code",
   "execution_count": 3,
   "metadata": {},
   "outputs": [
    {
     "name": "stdout",
     "output_type": "stream",
     "text": [
      "4313998320\n",
      "4313998416\n",
      "6\n"
     ]
    }
   ],
   "source": [
    "\n",
    "x = 3 # define x in the global scope\n",
    "print(id(x))\n",
    "def add3():\n",
    "    global x # define x with the x in the global scope\n",
    "    x= x + 3 # all the x here refer to the one in the global scope now\n",
    "    print(id(x))\n",
    "add3()\n",
    "print(x)"
   ]
  },
  {
   "cell_type": "markdown",
   "metadata": {},
   "source": [
    " <!-- Why does the list x change?  When you call `x[0] = x[0] + 3`, you do not define a new object called `x`. Instead, you refer to the same `x` in the global scope. -->"
   ]
  },
  {
   "cell_type": "code",
   "execution_count": 4,
   "metadata": {},
   "outputs": [
    {
     "name": "stdout",
     "output_type": "stream",
     "text": [
      "The memory address of x: 139839104859904\n",
      "The memory address of x in the function: 139839104859904\n",
      "[6]\n"
     ]
    }
   ],
   "source": [
    "# You have to know the underlying implementation of these data types to understand their behaviours with pointer\n",
    "# For immutable data types, the memory address of x in the function and x in the global scope is the same\n",
    "x = [3] # define x in the global scope\n",
    "print(\"The memory address of x:\", id(x))\n",
    "def add3(x):\n",
    "    x[0] = x[0] + 3\n",
    "    print(\"The memory address of x in the function:\", id(x))\n",
    "add3(x)\n",
    "print(x)\n"
   ]
  }
 ],
 "metadata": {
  "kernelspec": {
   "display_name": "Python 3 (ipykernel)",
   "language": "python",
   "name": "python3"
  },
  "language_info": {
   "codemirror_mode": {
    "name": "ipython",
    "version": 3
   },
   "file_extension": ".py",
   "mimetype": "text/x-python",
   "name": "python",
   "nbconvert_exporter": "python",
   "pygments_lexer": "ipython3",
   "version": "3.1.-1"
  }
 },
 "nbformat": 4,
 "nbformat_minor": 4
}
