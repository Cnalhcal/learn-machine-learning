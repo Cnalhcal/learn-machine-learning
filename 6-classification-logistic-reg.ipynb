{
 "cells": [
  {
   "cell_type": "code",
   "execution_count": 1,
   "metadata": {},
   "outputs": [],
   "source": [
    "from my_ml_package.classification import sigmoid, logistic_regression\n",
    "import numpy as np"
   ]
  },
  {
   "cell_type": "code",
   "execution_count": 12,
   "metadata": {},
   "outputs": [
    {
     "name": "stdout",
     "output_type": "stream",
     "text": [
      "beta_0: 0.07599928462722418, beta_1: [0.42017187]\n",
      "beta_0: 0.0999999943039172, beta_1: [0.49999998]\n"
     ]
    }
   ],
   "source": [
    "\n",
    "# synthetic data to test logistic regression\n",
    "np.random.seed(42)\n",
    "X = np.random.randn(100, 1)\n",
    "ture_w = np.array([0.5])\n",
    "true_b = 0.1\n",
    "y = sigmoid(np.dot(X, ture_w) + true_b)\n",
    "\n",
    "beta1, beta0 = logistic_regression(X, y, num_iter=1000, lr=0.01)\n",
    "print(f\"beta_0: {beta0}, beta_1: {beta1}\")\n",
    "\n",
    "beta1, beta0 = logistic_regression(X, y, num_iter=10000, lr=0.01)\n",
    "print(f\"beta_0: {beta0}, beta_1: {beta1}\")"
   ]
  },
  {
   "cell_type": "code",
   "execution_count": null,
   "metadata": {},
   "outputs": [],
   "source": []
  }
 ],
 "metadata": {
  "kernelspec": {
   "display_name": "sit720",
   "language": "python",
   "name": "python3"
  },
  "language_info": {
   "codemirror_mode": {
    "name": "ipython",
    "version": 3
   },
   "file_extension": ".py",
   "mimetype": "text/x-python",
   "name": "python",
   "nbconvert_exporter": "python",
   "pygments_lexer": "ipython3",
   "version": "3.11.4"
  },
  "orig_nbformat": 4,
  "vscode": {
   "interpreter": {
    "hash": "851ded061afa4765036d03839fe2a12ede05ff2126402e9849c3c80d33b9fb35"
   }
  }
 },
 "nbformat": 4,
 "nbformat_minor": 2
}
