{
 "cells": [
  {
   "cell_type": "code",
   "execution_count": 4,
   "metadata": {},
   "outputs": [],
   "source": [
    "from my_ml_package.classification import sigmoid, logistic_regression_for_binary\n",
    "import numpy as np"
   ]
  },
  {
   "cell_type": "markdown",
   "metadata": {},
   "source": [
    "## Binary Classification"
   ]
  },
  {
   "cell_type": "code",
   "execution_count": 7,
   "metadata": {},
   "outputs": [
    {
     "name": "stdout",
     "output_type": "stream",
     "text": [
      "beta_0: 0.0999999943039172, beta_1: [0.49999998]\n"
     ]
    }
   ],
   "source": [
    "# synthetic data to test logistic regression\n",
    "np.random.seed(42)\n",
    "X = np.random.randn(100, 1)\n",
    "ture_beta1 = np.array([0.5])\n",
    "true_beta0 = 0.1\n",
    "y = sigmoid(np.dot(X, ture_beta1) + true_beta0)\n",
    "\n",
    "beta1, beta0 = logistic_regression_for_binary(X, y, num_iter=10000, lr=0.01)\n",
    "print(f\"beta_0: {beta0}, beta_1: {beta1}\")\n",
    "\n",
    "# beta1, beta0 = logistic_regression(X, y, num_iter=10000, lr=0.01)\n",
    "# print(f\"beta_0: {beta0}, beta_1: {beta1}\")"
   ]
  },
  {
   "cell_type": "markdown",
   "metadata": {},
   "source": [
    "## Multi-class Classification"
   ]
  },
  {
   "cell_type": "code",
   "execution_count": 12,
   "metadata": {},
   "outputs": [
    {
     "name": "stdout",
     "output_type": "stream",
     "text": [
      "Accuracy: 1.0\n"
     ]
    }
   ],
   "source": [
    "from sklearn import datasets\n",
    "from sklearn.model_selection import train_test_split\n",
    "import numpy as np\n",
    "from my_ml_package.classification import sigmoid, logistic_regression_for_multiclass, lr_predict_multiclass\n",
    "X, y = datasets.load_iris(return_X_y=True)\n",
    "X_train, X_test, y_train, y_test = train_test_split(X, y, test_size=0.2, random_state=42)\n",
    "\n",
    "W, b = logistic_regression_for_multiclass(X_train, y_train, num_iter=10000, lr=0.01)\n",
    "y_pred = lr_predict_multiclass(X_test, W, b)\n",
    "print(f\"Accuracy: {np.mean(y_pred == y_test)}\")"
   ]
  },
  {
   "cell_type": "code",
   "execution_count": null,
   "metadata": {},
   "outputs": [],
   "source": []
  }
 ],
 "metadata": {
  "kernelspec": {
   "display_name": "sit720",
   "language": "python",
   "name": "python3"
  },
  "language_info": {
   "codemirror_mode": {
    "name": "ipython",
    "version": 3
   },
   "file_extension": ".py",
   "mimetype": "text/x-python",
   "name": "python",
   "nbconvert_exporter": "python",
   "pygments_lexer": "ipython3",
   "version": "3.11.4"
  },
  "orig_nbformat": 4,
  "vscode": {
   "interpreter": {
    "hash": "851ded061afa4765036d03839fe2a12ede05ff2126402e9849c3c80d33b9fb35"
   }
  }
 },
 "nbformat": 4,
 "nbformat_minor": 2
}
