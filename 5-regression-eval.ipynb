{
 "cells": [
  {
   "cell_type": "markdown",
   "metadata": {},
   "source": [
    "## Regression Metrics\n",
    "\n",
    "* MSE, RMSE\n",
    "$$\\underbrace{E_{\\mathbf{x}, y, D}\\left[\\left(h_D(\\mathbf{x})-y\\right)^2\\right]}_{\\text {Expected Tet Error }}=\\underbrace{E_{\\mathbf{x} \\cdot D}\\left[\\left(h_D(\\mathbf{x})-\\bar{h}(\\mathbf{x})\\right)^2\\right]}_{\\text {Variance }}+\\underbrace{E_{\\mathbf{x}, y}\\left[(\\bar{y}(\\mathbf{x})-y)^2\\right]}_{\\text {Noise }}+\\underbrace{E_{\\mathbf{x}}\\left[(\\bar{h}(\\mathbf{x})-\\bar{y}(\\mathbf{x}))^2\\right]}_{\\text {Bias }}$$\n",
    "\n",
    "* MAE\n",
    "* [Coefficient of determination](https://online.stat.psu.edu/stat462/node/95/) $R^2$"
   ]
  }
 ],
 "metadata": {
  "language_info": {
   "name": "python"
  }
 },
 "nbformat": 4,
 "nbformat_minor": 2
}
