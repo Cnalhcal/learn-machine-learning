{
 "cells": [
  {
   "cell_type": "code",
   "execution_count": 1,
   "metadata": {},
   "outputs": [],
   "source": [
    "from my_ml_package.classification import sigmoid, logistic_regression\n",
    "import numpy as np"
   ]
  },
  {
   "cell_type": "code",
   "execution_count": 6,
   "metadata": {},
   "outputs": [
    {
     "name": "stdout",
     "output_type": "stream",
     "text": [
      "[0.4999999 0.3      ] 0.099999964716276\n"
     ]
    }
   ],
   "source": [
    "\n",
    "# synthetic data to test logistic regression\n",
    "np.random.seed(42)\n",
    "X = np.random.randn(100, 2)\n",
    "ture_w = np.array([0.5, 0.3])\n",
    "true_b = 0.1\n",
    "y = sigmoid(np.dot(X, ture_w) + true_b)\n",
    "\n",
    "w, b = logistic_regression(X, y, num_iter=1000, lr=0.1)\n",
    "print(w, b)\n"
   ]
  },
  {
   "cell_type": "code",
   "execution_count": null,
   "metadata": {},
   "outputs": [],
   "source": []
  }
 ],
 "metadata": {
  "kernelspec": {
   "display_name": "sit720",
   "language": "python",
   "name": "python3"
  },
  "language_info": {
   "codemirror_mode": {
    "name": "ipython",
    "version": 3
   },
   "file_extension": ".py",
   "mimetype": "text/x-python",
   "name": "python",
   "nbconvert_exporter": "python",
   "pygments_lexer": "ipython3",
   "version": "3.11.4"
  },
  "orig_nbformat": 4,
  "vscode": {
   "interpreter": {
    "hash": "851ded061afa4765036d03839fe2a12ede05ff2126402e9849c3c80d33b9fb35"
   }
  }
 },
 "nbformat": 4,
 "nbformat_minor": 2
}
