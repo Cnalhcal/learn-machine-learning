{
 "cells": [
  {
   "cell_type": "markdown",
   "metadata": {
    "pycharm": {
     "name": "#%% md\n"
    }
   },
   "source": [
    "# Coding Test \n",
    "\n",
    "You will be assessed overall on:\n",
    "\n",
    "    1) How far you get in the alloted time.\n",
    "    2) Code optimisations.\n",
    "    3) Code reusability.\n",
    "    4) Code readability.\n",
    "\n"
   ]
  },
  {
   "cell_type": "markdown",
   "metadata": {
    "collapsed": false,
    "jupyter": {
     "outputs_hidden": false
    },
    "pycharm": {
     "name": "#%% md\n"
    }
   },
   "source": [
    "# Transformers"
   ]
  },
  {
   "cell_type": "code",
   "execution_count": null,
   "metadata": {},
   "outputs": [],
   "source": []
  },
  {
   "cell_type": "markdown",
   "metadata": {},
   "source": [
    "## 1. Coding Test\n",
    "Below you will find some code which is a classical example of the use of a transformer model.\n",
    "Your task is to complete the code such that the training runs and the validation loss decreases.\n",
    "\n",
    "Based on [Attention is all you need, Vaswani et al. 2017](https://arxiv.org/abs/1706.03762), write the code\n",
    "1. for the multi-head self-attention mechanism\n",
    "2. for the forward pass of the layer\n",
    "3. for generating causal masks.\n",
    "\n",
    "Finally, run the training and validation with the provided functions and dataset.\n",
    "\n",
    "Note: `pip install portalocker`"
   ]
  },
  {
   "cell_type": "code",
   "execution_count": 3,
   "metadata": {
    "collapsed": false,
    "jupyter": {
     "outputs_hidden": false
    },
    "pycharm": {
     "is_executing": true,
     "name": "#%%\n"
    }
   },
   "outputs": [],
   "source": [
    "import os\n",
    "import time\n",
    "from copy import deepcopy\n",
    "\n",
    "import math\n",
    "from typing import Tuple, Optional\n",
    "import torch\n",
    "from torch import Tensor, nn\n",
    "from torch.utils.data import dataset\n",
    "from torchtext.datasets import PennTreebank\n",
    "from torchtext.data.utils import get_tokenizer\n",
    "from torchtext.vocab import build_vocab_from_iterator"
   ]
  },
  {
   "cell_type": "code",
   "execution_count": 3,
   "metadata": {
    "collapsed": false,
    "jupyter": {
     "outputs_hidden": false
    }
   },
   "outputs": [],
   "source": [
    "class MultiHeadSelfAttention(nn.Module):\n",
    "    def __init__(self, dim: int, n_heads: int, dropout: Optional[float] = None):\n",
    "        \"\"\" Initializes the MultiHeadSelfAttention layer. \n",
    "\n",
    "        :param dim: Total dimensionality of the input and output of the self-attention layer.\n",
    "        :param n_heads: Number of attention heads. `dim` should be divisible by `n_heads` to equally\n",
    "                        split the dimensionality across all heads.\n",
    "        :param dropout: Optional dropout rate for attention weights; defaults to None if not provided.\n",
    "        \"\"\"\n",
    "        super(MultiHeadSelfAttention, self).__init__()\n",
    "        self.dim = dim\n",
    "        self.n_heads = n_heads\n",
    "        self.head_dim = dim // n_heads\n",
    "        assert n_heads * self.head_dim == dim, f\"embedding dim={dim} not divisible by n_heads={n_heads}.\"\n",
    "        self.dropout = nn.Dropout(p=dropout)\n",
    "        self.linear_query = nn.Linear(dim, dim)\n",
    "        self.linear_key = nn.Linear(dim, dim)\n",
    "        self.linear_value = nn.Linear(dim, dim)\n",
    "        self.linear_cat_attn = nn.Linear(dim, dim)\n",
    "\n",
    "    def attention(self, query: Tensor, key: Tensor, value: Tensor, mask: Optional[Tensor] = None) -> Tensor:\n",
    "        \"\"\" Computes the scaled dot-product attention over the provided query, key, and value tensors.\n",
    "\n",
    "        :param query: Tensor of shape (batch_size, n_heads, seq_len, dim), queries for attention.\n",
    "        :param key: Tensor of shape (batch_size, n_heads, seq_len, dim), keys for attention.\n",
    "        :param value: Tensor of shape (batch_size, n_heads, seq_len, dim), values for attention.\n",
    "        :param mask: Optional tensor for masking irrelevant parts of the input sequence.\n",
    "        :return: Tensor of shape (batch_size, n_heads, seq_len, dim), the weighted sum of the value using the attention weights.     \n",
    "        \"\"\"\n",
    "        \n",
    "\n",
    "        # weights via scaled dot product attention\n",
    "        d_k = query.size(-1)\n",
    "        weights = torch.matmul(query, key.transpose(-2, -1)) / math.sqrt(d_k)\n",
    "        if mask is not None:\n",
    "            weights = weights.masked_fill(mask == 0, float('-inf'))\n",
    "        normalized_weights = weights.softmax(dim=-1)\n",
    "\n",
    "        # apply dropout\n",
    "        if self.dropout is not None:\n",
    "            normalized_weights = self.dropout(normalized_weights)\n",
    "\n",
    "        return torch.matmul(normalized_weights, value)\n",
    "\n",
    "    def forward(self, query: Tensor, key: Tensor, value: Tensor, mask: Optional[Tensor] = None) -> Tensor:\n",
    "        \"\"\" The forward method for MultiHeadSelfAttention.\n",
    "        \n",
    "        :param query: Tensor of shape (batch_size, seq_len, dim), queries for attention.\n",
    "        :param key: Tensor of shape (batch_size, seq_len, dim), keys for attention.\n",
    "        :param value: Tensor of shape (batch_size, seq_len, dim), values for attention.\n",
    "        :param mask: Optional tensor for masking irrelevant parts of the input sequence.\n",
    "        :return: Tensor of shape (batch_size, seq_len, dim), the output of the attention layer.\n",
    "        \"\"\"\n",
    "        # linear projection\n",
    "        query = self.linear_query(query)\n",
    "        key = self.linear_key(key)\n",
    "        value = self.linear_value(value)\n",
    "\n",
    "        # split the heads\n",
    "        query = query.view(query.shape[0], -1, self.n_heads, self.head_dim).transpose(1, 2)\n",
    "        key = key.view(key.shape[0], -1, self.n_heads, self.head_dim).transpose(1, 2)\n",
    "        value = value.view(value.shape[0], -1, self.n_heads, self.head_dim).transpose(1, 2)\n",
    "        \n",
    "        # attention output: (batch_size, n_heads, seq_len, dim)\n",
    "        attn_output =  self.attention(query, key, value, mask)\n",
    "\n",
    "        # concatenate heads\n",
    "        attn_output = attn_output.transpose(1, 2).contiguous().view(query.size(0), -1, self.dim)\n",
    "\n",
    "        return self.linear_cat_attn(attn_output)\n"
   ]
  },
  {
   "cell_type": "code",
   "execution_count": 4,
   "metadata": {
    "collapsed": false,
    "jupyter": {
     "outputs_hidden": false
    },
    "pycharm": {
     "is_executing": true,
     "name": "#%%\n"
    }
   },
   "outputs": [],
   "source": [
    "class EncoderBlock(nn.Module):\n",
    "    def __init__(self, attn: MultiHeadSelfAttention, d_model: int, dim_feedforward: int, layer_norm_eps=1e-5, dropout=0.1):\n",
    "        super(EncoderBlock, self).__init__()\n",
    "        self.attn = attn\n",
    "        self.linear1 = nn.Linear(d_model, dim_feedforward)\n",
    "        self.dropout = nn.Dropout(dropout)\n",
    "        self.linear2 = nn.Linear(dim_feedforward, d_model)\n",
    "        self.norm1 = nn.LayerNorm(d_model, eps=layer_norm_eps)\n",
    "        self.norm2 = nn.LayerNorm(d_model, eps=layer_norm_eps)\n",
    "        self.dropout1 = nn.Dropout(dropout)\n",
    "        self.dropout2 = nn.Dropout(dropout)\n",
    "        self.activation = nn.ReLU()\n",
    "\n",
    "    def forward(self, x: Tensor, mask: Optional[Tensor] = None) -> Tensor:\n",
    "        \"\"\" The encoder block, generally, passes the input through a multi-head self-attention layer followed by feedforward networks to transform the input.\n",
    "    \n",
    "\n",
    "        :param x: Tensor of shape (batch_size, seq_len, d_model), the input to the encoder block.\n",
    "        :param mask: Optional tensor of shape (batch_size, seq_len, seq_len), a mask tensor for the\n",
    "                     self-attention layer to ignore certain positions within the input sequence.\n",
    "        :return: Tensor of shape (batch_size, seq_len, d_model), the output of the encoder block.\n",
    "        \"\"\"\n",
    "        # a multi-head self-attention layer -> residual connection -> normalization\n",
    "        x = self.norm1(x + self._self_attn(x, mask))\n",
    "\n",
    "        # feedforward network -> residual connection -> normalization\n",
    "        x = self.norm2(x + self._feed_forward(x))\n",
    "        return x\n",
    "\n",
    "    def _self_attn(self, x: Tensor, mask: Optional[Tensor]) -> Tensor:\n",
    "        x = self.attn(x, x, x, mask)\n",
    "        return self.dropout1(x)\n",
    "\n",
    "    def _feed_forward(self, x: Tensor) -> Tensor:\n",
    "        x = self.dropout(self.activation(self.linear1(x)))\n",
    "        return self.dropout2(self.linear2(x))"
   ]
  },
  {
   "cell_type": "code",
   "execution_count": 5,
   "metadata": {
    "collapsed": false,
    "jupyter": {
     "outputs_hidden": false
    },
    "pycharm": {
     "is_executing": true,
     "name": "#%%\n"
    }
   },
   "outputs": [],
   "source": [
    "class TransformerEncoder(nn.Module):\n",
    "    def __init__(self, encoder: EncoderBlock, n_blocks: int):\n",
    "        super(TransformerEncoder, self).__init__()\n",
    "        self.encoder_blocks = nn.ModuleList([deepcopy(encoder) for _ in range(n_blocks)])\n",
    "\n",
    "    def forward(self, x: Tensor, mask: Optional[Tensor] = None) -> Tensor:\n",
    "        for encoder in self.encoder_blocks:\n",
    "            x = encoder(x, mask)\n",
    "        return x"
   ]
  },
  {
   "cell_type": "code",
   "execution_count": 3,
   "metadata": {
    "collapsed": false,
    "jupyter": {
     "outputs_hidden": false
    },
    "pycharm": {
     "is_executing": true,
     "name": "#%%\n"
    }
   },
   "outputs": [
    {
     "data": {
      "text/plain": [
       "tensor([[[1., 0., 0.],\n",
       "         [1., 1., 0.],\n",
       "         [1., 1., 1.]]])"
      ]
     },
     "execution_count": 3,
     "metadata": {},
     "output_type": "execute_result"
    }
   ],
   "source": [
    "import torch\n",
    "def generate_square_subsequent_mask(size):\n",
    "    \"\"\" Mask out [MASK] tokens in the input sequence.\n",
    "    :param size: the length of the sequence\n",
    "    :return: a tensor of shape (1, size, size) with ones on the lower triangular part (including diagonal) and zeros on the upper triangular part.\n",
    "    \"\"\"\n",
    "\n",
    "    return torch.tril(torch.ones((1, size, size)))\n"
   ]
  },
  {
   "cell_type": "code",
   "execution_count": 7,
   "metadata": {
    "collapsed": false,
    "jupyter": {
     "outputs_hidden": false
    },
    "pycharm": {
     "is_executing": true,
     "name": "#%%\n"
    }
   },
   "outputs": [],
   "source": [
    "class TransformerModelManualAttn(nn.Module):\n",
    "\n",
    "    def __init__(self, ntoken: int, d_model: int, nhead: int, d_hid: int,\n",
    "                 nlayers: int, dropout: float = 0.5):\n",
    "        super().__init__()\n",
    "        self.pos_encoder = PositionalEncodingTorch(d_model, dropout)\n",
    "        encoder_layers = EncoderBlock(attn=MultiHeadSelfAttention(dim=emsize, n_heads=nhead, dropout=dropout),\n",
    "                                      d_model=d_model, dim_feedforward=d_hid, dropout=dropout)\n",
    "        self.transformer_encoder = TransformerEncoder(encoder_layers, nlayers)\n",
    "        self.embedding = nn.Embedding(ntoken, d_model)\n",
    "        self.d_model = d_model\n",
    "        self.linear = nn.Linear(d_model, ntoken)\n",
    "\n",
    "        self.init_weights()\n",
    "\n",
    "    def init_weights(self) -> None:\n",
    "        initrange = 0.1\n",
    "        self.embedding.weight.data.uniform_(-initrange, initrange)\n",
    "        self.linear.bias.data.zero_()\n",
    "        self.linear.weight.data.uniform_(-initrange, initrange)\n",
    "\n",
    "    def forward(self, src: Tensor, src_mask: Tensor = None) -> Tensor:\n",
    "        \"\"\"\n",
    "        Move the input data through the transformer model. The process involves\n",
    "        embedding the input, applying positional encoding, passing the result through\n",
    "        a transformer encoder, and finally projecting the output to the vocabulary space.\n",
    "\n",
    "        :param src: Tensor of shape (batch_size, seq_len), containing the indices of input tokens.\n",
    "        :param src_mask: Optional tensor used for masking in self-attention layers.\n",
    "        :return: Tensor of shape (batch_size, seq_len, ntoken), containing the logits of predicted token probabilities.\n",
    "        \"\"\"\n",
    "        src = self.embedding(src)\n",
    "        src = self.pos_encoder(src)\n",
    "        output = self.transformer_encoder(src, src_mask)\n",
    "        output = self.linear(output)\n",
    "        return output"
   ]
  },
  {
   "cell_type": "markdown",
   "metadata": {
    "collapsed": false,
    "jupyter": {
     "outputs_hidden": false
    },
    "pycharm": {
     "name": "#%% md\n"
    }
   },
   "source": [
    "The code below is given as-is, please contact the examinator if there is any issue running this, unrelated to your code above."
   ]
  },
  {
   "cell_type": "code",
   "execution_count": 8,
   "metadata": {
    "collapsed": false,
    "jupyter": {
     "outputs_hidden": false
    },
    "pycharm": {
     "is_executing": true,
     "name": "#%%\n"
    }
   },
   "outputs": [],
   "source": [
    "class PositionalEncodingTorch(nn.Module):\n",
    "\n",
    "    def __init__(self, d_model: int, dropout: float = 0.1, max_len: int = 5000):\n",
    "        super().__init__()\n",
    "        self.dropout = nn.Dropout(p=dropout)\n",
    "\n",
    "        position = torch.arange(max_len).unsqueeze(1)\n",
    "        div_term = torch.exp(torch.arange(0, d_model, 2) * (-math.log(10000.0) / d_model))\n",
    "        pe = torch.zeros(max_len, 1, d_model)\n",
    "        pe[:, 0, 0::2] = torch.sin(position * div_term)\n",
    "        pe[:, 0, 1::2] = torch.cos(position * div_term)\n",
    "        self.register_buffer('pe', pe)\n",
    "\n",
    "    def forward(self, x: Tensor) -> Tensor:\n",
    "        \"\"\"\n",
    "        Arguments:\n",
    "            x: Tensor, shape ``[seq_len, batch_size, embedding_dim]``\n",
    "        \"\"\"\n",
    "        x = x + self.pe[:x.size(0)]\n",
    "        return self.dropout(x)"
   ]
  },
  {
   "cell_type": "markdown",
   "metadata": {
    "collapsed": false,
    "jupyter": {
     "outputs_hidden": false
    },
    "pycharm": {
     "is_executing": true,
     "name": "#%%\n"
    }
   },
   "source": [
    "## Data Processing"
   ]
  },
  {
   "cell_type": "code",
   "execution_count": 33,
   "metadata": {},
   "outputs": [
    {
     "data": {
      "text/plain": [
       "False"
      ]
     },
     "execution_count": 33,
     "metadata": {},
     "output_type": "execute_result"
    }
   ],
   "source": [
    "torch.cuda.is_available()"
   ]
  },
  {
   "cell_type": "code",
   "execution_count": 48,
   "metadata": {
    "collapsed": false,
    "jupyter": {
     "outputs_hidden": false
    },
    "pycharm": {
     "is_executing": true,
     "name": "#%%\n"
    }
   },
   "outputs": [
    {
     "name": "stdout",
     "output_type": "stream",
     "text": [
      "torch.Size([4105, 20]) torch.Size([8211, 10]) torch.Size([8211, 10])\n"
     ]
    },
    {
     "data": {
      "text/plain": [
       "tensor([[  99,  244,  291,  ...,    2,  933,    5],\n",
       "        [  15,    4,   71,  ...,    2,  428,   61],\n",
       "        [  25,   44,  124,  ...,    1, 3625,   48],\n",
       "        ...,\n",
       "        [ 188, 5267,    0,  ...,    0,    0,   95],\n",
       "        [   5,    4,    3,  ...,    7, 1230,   65],\n",
       "        [ 300,  434,    1,  ...,   34,   12,  380]])"
      ]
     },
     "execution_count": 48,
     "metadata": {},
     "output_type": "execute_result"
    }
   ],
   "source": [
    "# Load data, build vocabulary\n",
    "train_iter, val_iter, test_iter = PennTreebank()\n",
    "tokenizer = get_tokenizer('basic_english')\n",
    "vocab = build_vocab_from_iterator(map(tokenizer, train_iter), specials=['<unk>'])\n",
    "vocab.set_default_index(vocab['<unk>'])\n",
    "\n",
    "# get train, validation, and test data\n",
    "data = [torch.tensor(vocab(tokenizer(item)), dtype=torch.long) for item in train_iter] # shape (num_examples, num_tokens)\n",
    "data = [torch.tensor(vocab(tokenizer(item)), dtype=torch.long) for item in val_iter]\n",
    "data = [torch.tensor(vocab(tokenizer(item)), dtype=torch.long) for item in test_iter] \n",
    "\n",
    "# get one long sequence of tokens for training, validation, and testing\n",
    "train_data = torch.cat(tuple(filter(lambda t: t.numel() > 0, data))) # shape (num_examples*num_tokens,)\n",
    "val_data = torch.cat(tuple(filter(lambda t: t.numel() > 0, data)))\n",
    "test_data = torch.cat(tuple(filter(lambda t: t.numel() > 0, data)))\n",
    "\n",
    "# batchify the data\n",
    "batch_size = 20\n",
    "eval_batch_size = 10\n",
    "seq_len = train_data.shape[0] // batch_size\n",
    "train_data = train_data[:seq_len * batch_size]\n",
    "train_data = train_data.view(batch_size, seq_len).t().contiguous()\n",
    "seq_len = val_data.shape[0] // eval_batch_size\n",
    "val_data = val_data[:seq_len * eval_batch_size]\n",
    "val_data = val_data.view(eval_batch_size, seq_len).t().contiguous()\n",
    "seq_len = test_data.shape[0] // eval_batch_size\n",
    "test_data = test_data[:seq_len * eval_batch_size]\n",
    "test_data = test_data.view(eval_batch_size, seq_len).t().contiguous()\n",
    "print(train_data.shape, val_data.shape, test_data.shape)\n",
    "\n",
    "# move to the device\n",
    "device = torch.device('cuda:0' if torch.cuda.is_available() else 'cpu')\n",
    "train_data.to(device)\n",
    "val_data.to(device)\n",
    "test_data.to(device)\n",
    "\n",
    "# ======================  My local Python environment does not have the required packages to run this code. Due to time constraint, \n",
    "# ======================= I cannot re-set a new one to run this code. I am sorry for the inconvenience for reviewing my code. =======================\n"
   ]
  },
  {
   "cell_type": "markdown",
   "metadata": {},
   "source": [
    "## Training"
   ]
  },
  {
   "cell_type": "code",
   "execution_count": 42,
   "metadata": {},
   "outputs": [
    {
     "name": "stdout",
     "output_type": "stream",
     "text": [
      "4104\n"
     ]
    },
    {
     "data": {
      "text/plain": [
       "tensor([[  99,  699,  300,    1,    4,    3,    0,    3, 2542,  779,  117,  747,\n",
       "           19,    7,    0,  114,  838,    3,    4,   14],\n",
       "        [  15,  414,  244,  129,  434,    1,    3,  262,    7,  476,   29,  176,\n",
       "            1,    0,  240,  329,    1,  204,  572,  325],\n",
       "        [  25,   15,    4,    1,  291,    0,    1,   34, 3278,  790,   45,    2,\n",
       "         9626,   15,   12,   39,    0,    0,  128,    4],\n",
       "        [   2,   34,   44,  638,   71,  349,    0,   18,    7,    7,    1,  447,\n",
       "           97,    6,   75,  143,    0,  100,   40,   26],\n",
       "        [   9, 6127,    2, 1580,  124,   80,  237,   44, 6377, 3192, 2878,  704,\n",
       "           11,    0,    3,    2, 4708,   14,   14,    1],\n",
       "        [  31,   28,    2,   80,  841,   51,    1,   13,  600,    7,   17,  648,\n",
       "           34,    6,    2,    9,    0,   75,   33, 1111],\n",
       "        [ 754,   36,   11,   24, 2843,   38, 3681,    2,  166, 5093,  282,    5,\n",
       "         5510, 1887,   19,   31,    7,  306,    0, 3628],\n",
       "        [ 383,  338,  244,    8, 1199,    9,  309,   22, 1846,   36,  547, 2678,\n",
       "         6623,    7,    2, 1386,   34,  308, 1230,   45],\n",
       "        [  30,   86, 4760, 4615, 1233,   10,   14, 1811,    7,  790,   21,  180,\n",
       "            9, 3999,    2,    5,  933,   69,   12,    0],\n",
       "        [ 121,    3,    4,    7,    0,   73,   60,  227,  295,   12,   75, 1174,\n",
       "           10,  180,    1, 8374,  428,   24,    5,  849],\n",
       "        [   1, 1928,  748,  879,   12, 1621, 5205,  118, 2242,    0, 7910,   97,\n",
       "          240,  285,  760, 1227, 3625,    8,   61,  232],\n",
       "        [  36,   78,   46, 3381,   77,   13,   20,    1,   11, 1661,    3, 2345,\n",
       "           68,    0,   16,   30, 4124,    0,   48,   72],\n",
       "        [  94,    3,   56,   33,    0,    2,    0, 2152,    1, 2614,    1,  206,\n",
       "            9,   32,   11,    1,   34, 2889,   11,    3],\n",
       "        [  61, 2517,    2,  332, 2882,    4,    9,  226, 3288, 2349, 1418, 1375,\n",
       "          314, 1156,   43,  137,  838,    1, 4292,    0],\n",
       "        [ 112,    6,    2,   12, 2460,  318,   10,   34,   34, 1740,   48, 1190,\n",
       "           26,   44,   26, 2154,  580,  137,   32, 2243],\n",
       "        [ 143, 3610,    3,    0,  865,   19, 2266,  138,  387,    7,  130, 1283,\n",
       "         3155,   20,  119, 4834, 3625, 1303,   59,  400],\n",
       "        [   2, 1487,    1, 4113,    7,   13,   12, 9897,   30, 5703,    7,   13,\n",
       "           69,  122,   21,   35,    7,  861, 3687,    8],\n",
       "        [   9,   21,   49,    4, 2979,    2,   28,   46,    1, 1661,  300,    2,\n",
       "            1,   20,    1,  398, 4738,   29,   18,   55],\n",
       "        [  31,    1,    8,  501, 1175,   68,  130, 6797,  240, 1190, 1255,   22,\n",
       "           38,    0,    2,    4, 1107,   81,  423,    3],\n",
       "        [ 617, 4767,   10,    5, 1876,  143, 1824,   56, 2471,  403,  117,    3,\n",
       "         1569,    0,    2,   26, 2460,    0, 1318,    1],\n",
       "        [3135, 4708,    8,    2,   17,    2,   93,  824,  178, 1395,   20,  186,\n",
       "           18, 6956,  502,    0,    3,    5,    7,   76],\n",
       "        [ 282,  341,   48,    2,    1,    9,    0,   17,    1,    8,  200,  129,\n",
       "          245,   17,  637,    5,    1,    0, 1488,  130],\n",
       "        [  20, 1167,   69,  321,  288,   31, 6449,    0, 1578,    0,   20,   12,\n",
       "           56,    5,    6, 5069,    0, 3788, 3640,  796],\n",
       "        [   1,    0,    5,    6,    3, 6738,    6, 1730, 7827, 1264,  736,    0,\n",
       "            2,  262,    2,   48,    0,   60,   12,  843],\n",
       "        [ 449,  232,  798,    1,  133, 2361,  399,    7,    7,    4,  117,  596,\n",
       "            2,  272,    1, 1227,   19,   29,  103, 4570],\n",
       "        [ 461,   72,    0, 1074,   49, 3134,    1,  475,   62,   40,    7,  447,\n",
       "          131,    1,  743,  326,   28,   81,   11,  767],\n",
       "        [ 441,   12,  601,   12,    8,   68,  676,  129, 4531, 1049,   48,    2,\n",
       "           41,  361,  100,   81,    0,  537,  337,    4],\n",
       "        [ 196, 1346,  809,   44,   10,  143, 2475,   24,   32,    6,  767,  648,\n",
       "           16,  270,  414,  440, 6398,   36,  874,  330],\n",
       "        [1621,   19,   14,   13,    8,    2,    0,    8, 1507, 1123,   30,    5,\n",
       "          403,   27,    5,  128,    8, 1704,   54, 1176],\n",
       "        [   2,    1,  649,    2,  599,    9, 1593, 1557,  892,    4,    0,  815,\n",
       "            0,    5,   36,   53,  405,  266,   12,    1],\n",
       "        [ 396, 3025,  671,   22, 3361,   31,    0,    0, 6491,  487,  280,  832,\n",
       "           33,   65, 6235,   76,  205,  131,  226, 4616],\n",
       "        [  92, 3432, 2764,    0,  841,  114, 2057,   11,   46, 7532,   16,   97,\n",
       "          366,    0,  727,  901,    1,   41, 5839,    6],\n",
       "        [   3,    8,   14, 4113,   14,  837,    1,   29, 3942, 3283,    1, 3410,\n",
       "           19,  687,  747,    5,  452,   18,    1,    1],\n",
       "        [  15, 1353,  169,   25,  125,   17,  339, 2212, 1343,    0,  184, 1271,\n",
       "         1588,    2,  271,  393,  537, 9625, 2109, 4304],\n",
       "        [   6,   16,    4, 1753, 3013,  664,  640,    4,   53, 2180,  457, 1283,\n",
       "         1690,   22,  185, 2264,  533,    1, 1040,   20]])"
      ]
     },
     "execution_count": 42,
     "metadata": {},
     "output_type": "execute_result"
    }
   ],
   "source": [
    "bptt = 35\n",
    "range(0, train_data.shape[0] - 1, bptt) # [0, 35, 70, 105, ...], bptt means backprop through time\n",
    "i=0\n",
    "seq_len = min(bptt, len(train_data) - 1 - i)\n",
    "print(len(train_data) - 1 - 0)\n",
    "train_data[i:i + seq_len]"
   ]
  },
  {
   "cell_type": "code",
   "execution_count": 45,
   "metadata": {},
   "outputs": [
    {
     "data": {
      "text/plain": [
       "tensor([[  15,  414,  244,  129,  434,    1,    3,  262,    7,  476,   29,  176,\n",
       "            1,    0,  240,  329,    1,  204,  572,  325],\n",
       "        [  25,   15,    4,    1,  291,    0,    1,   34, 3278,  790,   45,    2,\n",
       "         9626,   15,   12,   39,    0,    0,  128,    4],\n",
       "        [   2,   34,   44,  638,   71,  349,    0,   18,    7,    7,    1,  447,\n",
       "           97,    6,   75,  143,    0,  100,   40,   26],\n",
       "        [   9, 6127,    2, 1580,  124,   80,  237,   44, 6377, 3192, 2878,  704,\n",
       "           11,    0,    3,    2, 4708,   14,   14,    1],\n",
       "        [  31,   28,    2,   80,  841,   51,    1,   13,  600,    7,   17,  648,\n",
       "           34,    6,    2,    9,    0,   75,   33, 1111],\n",
       "        [ 754,   36,   11,   24, 2843,   38, 3681,    2,  166, 5093,  282,    5,\n",
       "         5510, 1887,   19,   31,    7,  306,    0, 3628],\n",
       "        [ 383,  338,  244,    8, 1199,    9,  309,   22, 1846,   36,  547, 2678,\n",
       "         6623,    7,    2, 1386,   34,  308, 1230,   45],\n",
       "        [  30,   86, 4760, 4615, 1233,   10,   14, 1811,    7,  790,   21,  180,\n",
       "            9, 3999,    2,    5,  933,   69,   12,    0],\n",
       "        [ 121,    3,    4,    7,    0,   73,   60,  227,  295,   12,   75, 1174,\n",
       "           10,  180,    1, 8374,  428,   24,    5,  849],\n",
       "        [   1, 1928,  748,  879,   12, 1621, 5205,  118, 2242,    0, 7910,   97,\n",
       "          240,  285,  760, 1227, 3625,    8,   61,  232],\n",
       "        [  36,   78,   46, 3381,   77,   13,   20,    1,   11, 1661,    3, 2345,\n",
       "           68,    0,   16,   30, 4124,    0,   48,   72],\n",
       "        [  94,    3,   56,   33,    0,    2,    0, 2152,    1, 2614,    1,  206,\n",
       "            9,   32,   11,    1,   34, 2889,   11,    3],\n",
       "        [  61, 2517,    2,  332, 2882,    4,    9,  226, 3288, 2349, 1418, 1375,\n",
       "          314, 1156,   43,  137,  838,    1, 4292,    0],\n",
       "        [ 112,    6,    2,   12, 2460,  318,   10,   34,   34, 1740,   48, 1190,\n",
       "           26,   44,   26, 2154,  580,  137,   32, 2243],\n",
       "        [ 143, 3610,    3,    0,  865,   19, 2266,  138,  387,    7,  130, 1283,\n",
       "         3155,   20,  119, 4834, 3625, 1303,   59,  400],\n",
       "        [   2, 1487,    1, 4113,    7,   13,   12, 9897,   30, 5703,    7,   13,\n",
       "           69,  122,   21,   35,    7,  861, 3687,    8],\n",
       "        [   9,   21,   49,    4, 2979,    2,   28,   46,    1, 1661,  300,    2,\n",
       "            1,   20,    1,  398, 4738,   29,   18,   55],\n",
       "        [  31,    1,    8,  501, 1175,   68,  130, 6797,  240, 1190, 1255,   22,\n",
       "           38,    0,    2,    4, 1107,   81,  423,    3],\n",
       "        [ 617, 4767,   10,    5, 1876,  143, 1824,   56, 2471,  403,  117,    3,\n",
       "         1569,    0,    2,   26, 2460,    0, 1318,    1],\n",
       "        [3135, 4708,    8,    2,   17,    2,   93,  824,  178, 1395,   20,  186,\n",
       "           18, 6956,  502,    0,    3,    5,    7,   76],\n",
       "        [ 282,  341,   48,    2,    1,    9,    0,   17,    1,    8,  200,  129,\n",
       "          245,   17,  637,    5,    1,    0, 1488,  130],\n",
       "        [  20, 1167,   69,  321,  288,   31, 6449,    0, 1578,    0,   20,   12,\n",
       "           56,    5,    6, 5069,    0, 3788, 3640,  796],\n",
       "        [   1,    0,    5,    6,    3, 6738,    6, 1730, 7827, 1264,  736,    0,\n",
       "            2,  262,    2,   48,    0,   60,   12,  843],\n",
       "        [ 449,  232,  798,    1,  133, 2361,  399,    7,    7,    4,  117,  596,\n",
       "            2,  272,    1, 1227,   19,   29,  103, 4570],\n",
       "        [ 461,   72,    0, 1074,   49, 3134,    1,  475,   62,   40,    7,  447,\n",
       "          131,    1,  743,  326,   28,   81,   11,  767],\n",
       "        [ 441,   12,  601,   12,    8,   68,  676,  129, 4531, 1049,   48,    2,\n",
       "           41,  361,  100,   81,    0,  537,  337,    4],\n",
       "        [ 196, 1346,  809,   44,   10,  143, 2475,   24,   32,    6,  767,  648,\n",
       "           16,  270,  414,  440, 6398,   36,  874,  330],\n",
       "        [1621,   19,   14,   13,    8,    2,    0,    8, 1507, 1123,   30,    5,\n",
       "          403,   27,    5,  128,    8, 1704,   54, 1176],\n",
       "        [   2,    1,  649,    2,  599,    9, 1593, 1557,  892,    4,    0,  815,\n",
       "            0,    5,   36,   53,  405,  266,   12,    1],\n",
       "        [ 396, 3025,  671,   22, 3361,   31,    0,    0, 6491,  487,  280,  832,\n",
       "           33,   65, 6235,   76,  205,  131,  226, 4616],\n",
       "        [  92, 3432, 2764,    0,  841,  114, 2057,   11,   46, 7532,   16,   97,\n",
       "          366,    0,  727,  901,    1,   41, 5839,    6],\n",
       "        [   3,    8,   14, 4113,   14,  837,    1,   29, 3942, 3283,    1, 3410,\n",
       "           19,  687,  747,    5,  452,   18,    1,    1],\n",
       "        [  15, 1353,  169,   25,  125,   17,  339, 2212, 1343,    0,  184, 1271,\n",
       "         1588,    2,  271,  393,  537, 9625, 2109, 4304],\n",
       "        [   6,   16,    4, 1753, 3013,  664,  640,    4,   53, 2180,  457, 1283,\n",
       "         1690,   22,  185, 2264,  533,    1, 1040,   20],\n",
       "        [   1,    6,  244,   18,  845,   85,    3,  393, 3695,   17,  926,  133,\n",
       "           84,   13,   11,   60,    1, 2738, 2511,  932]])"
      ]
     },
     "execution_count": 45,
     "metadata": {},
     "output_type": "execute_result"
    }
   ],
   "source": [
    "train_data[i + 1:i + seq_len + 1]"
   ]
  },
  {
   "cell_type": "code",
   "execution_count": null,
   "metadata": {},
   "outputs": [],
   "source": [
    "def get_batch(source: Tensor, i: int, bptt: int) -> Tuple[Tensor, Tensor]:\n",
    "    seq_len = min(bptt, len(source) - 1 - i) # ensure that each token in the batch has a next token\n",
    "    data = source[i:i + seq_len]\n",
    "    target = source[i + 1:i + seq_len + 1].reshape(-1)\n",
    "    return data, target\n",
    "\n",
    "def train(\n",
    "        model,\n",
    "        train_data: Tensor,\n",
    "        bptt: int,\n",
    "        criterion,\n",
    "        ntokens: int,\n",
    "        optimizer: torch.optim.Optimizer,\n",
    "        scheduler: torch.optim.lr_scheduler,\n",
    "        epoch: int = 0,\n",
    "        device: torch.device = None,\n",
    "        use_causal_mask: bool = True\n",
    ") -> None:\n",
    "    model.train()\n",
    "    total_loss = 0.\n",
    "    log_interval = 200\n",
    "    start_time = time.time()\n",
    "    src_mask = generate_square_subsequent_mask(bptt).to(device) if use_causal_mask else None\n",
    "    num_batches = len(train_data) // bptt\n",
    "    for batch, i in enumerate(range(0, train_data.shape[0] - 1, bptt)):\n",
    "        data, targets = get_batch(train_data, i, bptt=bptt)\n",
    "        if data.shape[0] < bptt and src_mask is not None:\n",
    "            src_mask = generate_square_subsequent_mask(data.shape[0]).to(device)\n",
    "        output = model(src=data, src_mask=src_mask)\n",
    "        loss = criterion(output.view(-1, ntokens), targets)\n",
    "\n",
    "        optimizer.zero_grad()\n",
    "        loss.backward()\n",
    "        torch.nn.utils.clip_grad_norm_(model.parameters(), 0.5)\n",
    "        optimizer.step()\n",
    "\n",
    "        total_loss += loss.item()\n",
    "        if batch % log_interval == 0 and batch > 0:\n",
    "            lr = scheduler.get_last_lr()[0]\n",
    "            ms_per_batch = (time.time() - start_time) * 1000 / log_interval\n",
    "            cur_loss = total_loss / log_interval\n",
    "            ppl = math.exp(cur_loss)\n",
    "            print(f'| epoch {epoch:3d} | {batch:5d}/{num_batches:5d} batches | '\n",
    "                  f'lr {lr:02.2f} | ms/batch {ms_per_batch:5.2f} | '\n",
    "                  f'loss {cur_loss:5.2f}'\n",
    "                  f' | ppl {ppl:8.2f}'\n",
    "                  )\n",
    "            total_loss = 0\n",
    "            start_time = time.time()\n",
    "\n",
    "\n",
    "def evaluate(\n",
    "        model,\n",
    "        eval_data: Tensor,\n",
    "        bptt: int,\n",
    "        ntokens: int,\n",
    "        criterion,\n",
    "        device: torch.device = None,\n",
    "        use_causal_mask: bool = True,\n",
    ") -> float:\n",
    "    model.eval()\n",
    "    total_loss = 0.\n",
    "    src_mask = generate_square_subsequent_mask(bptt).to(device) if use_causal_mask else None\n",
    "    with torch.no_grad():\n",
    "        for i in range(0, eval_data.shape[0] - 1, bptt):\n",
    "            data, targets = get_batch(eval_data, i, bptt=bptt)\n",
    "            if data.shape[0] < bptt and src_mask is not None:\n",
    "                src_mask = generate_square_subsequent_mask(data.shape[0]).to(device)\n",
    "            output = model(data, src_mask=src_mask)\n",
    "            output_flat = output.view(-1, ntokens)\n",
    "            total_loss += data.shape[0] * criterion(output_flat, targets).item()\n",
    "    return total_loss / (len(eval_data) - 1)\n",
    "\n",
    "bptt = 35"
   ]
  },
  {
   "cell_type": "code",
   "execution_count": null,
   "metadata": {},
   "outputs": [],
   "source": [
    "\n",
    "# Model Parameters\n",
    "ntokens = len(vocab)\n",
    "emsize = 200\n",
    "d_hid = 200\n",
    "nlayers = 2\n",
    "nhead = 2\n",
    "dropout = 0.1\n",
    "use_causal_mask = True\n",
    "\n",
    "# Create Model\n",
    "model = TransformerModelManualAttn(ntokens, emsize, nhead, d_hid, nlayers, dropout).to(device)\n",
    "\n",
    "### Run model\n",
    "criterion = nn.CrossEntropyLoss()\n",
    "lr = 5.0  # learning rate\n",
    "optimizer = torch.optim.SGD(model.parameters(), lr=lr, )\n",
    "scheduler = torch.optim.lr_scheduler.StepLR(optimizer, step_size=1, gamma=0.95)\n",
    "\n",
    "best_val_loss = float('inf')\n",
    "epochs = 10\n",
    "\n",
    "# Train\n",
    "home = os.path.join(os.path.expanduser(\"~\"), \"transformer_test\")\n",
    "save_dir = os.path.join(os.path.join(home, 'pytorch_example')) # feel free to change path\n",
    "os.makedirs(save_dir, exist_ok=True)\n",
    "best_model_params_path = os.path.join(save_dir, \"best_model_params.pt\")\n",
    "\n",
    "for epoch in range(1, epochs + 1):\n",
    "    epoch_start_time = time.time()\n",
    "    train(model, train_data, bptt, criterion, ntokens, optimizer, scheduler, epoch, device, use_causal_mask)\n",
    "    val_loss = evaluate(model, val_data, bptt, ntokens, criterion, device, use_causal_mask)\n",
    "    val_ppl = math.exp(val_loss)\n",
    "    elapsed = time.time() - epoch_start_time\n",
    "    print('-' * 89)\n",
    "    print(f'| end of epoch {epoch:3d} | time: {elapsed:5.2f}s | '\n",
    "          f'valid loss {val_loss:5.2f} | valid ppl {val_ppl:8.2f}')\n",
    "    print('-' * 89)\n",
    "\n",
    "    if val_loss < best_val_loss:\n",
    "        best_val_loss = val_loss\n",
    "        torch.save(model.state_dict(), best_model_params_path)\n",
    "\n",
    "    scheduler.step()\n",
    "model.load_state_dict(torch.load(best_model_params_path))  # load best model states\n",
    "\n",
    "# Test\n",
    "test_loss = evaluate(model, test_data, bptt, ntokens, criterion, device)\n",
    "test_ppl = math.exp(test_loss)\n",
    "print('=' * 89)\n",
    "print(f'| End of training | test loss {test_loss:5.2f} | '\n",
    "      f'test ppl {test_ppl:8.2f}')\n",
    "print('=' * 89)"
   ]
  },
  {
   "cell_type": "markdown",
   "metadata": {
    "collapsed": false,
    "jupyter": {
     "outputs_hidden": false
    },
    "pycharm": {
     "name": "#%% md\n"
    }
   },
   "source": [
    "## 2. General knowledge and LLMs\n",
    "\n",
    "**Describe the attention complexity in memory and computation costs. Do you know methods to try to reduce this cost?**"
   ]
  },
  {
   "cell_type": "markdown",
   "metadata": {
    "collapsed": false,
    "jupyter": {
     "outputs_hidden": false
    },
    "pycharm": {
     "name": "#%% md\n"
    }
   },
   "source": [
    "Computational Cost is in the complexity of $O(N^2 \\dot D)$ if each query/key is of dimension $D$ and there are $N$ tokens\n",
    "* The dot product operation for a single pair of query and key is $O(D)$.\n",
    "* This dot product is computed for each pair of tokens in a sequence of length $N$.\n",
    "\n",
    "The memory cost is in the complexity of $O(N^2 \\dot D)$ because the attention matrix (N by N) needs to be stored during the forward pass to calculate gradients during backpropagation\n",
    "\n",
    "Methods to reduce the cost:\n",
    "* Sparse Attention \n",
    "* Low-Rank Approximations (LoRA)"
   ]
  },
  {
   "cell_type": "markdown",
   "metadata": {
    "collapsed": false,
    "jupyter": {
     "outputs_hidden": false
    },
    "pycharm": {
     "name": "#%% md\n"
    }
   },
   "source": [
    "**Why use a causal mask in attention? Are there any other interesting masks or patterns that can be used for training or for generation?**\n",
    "* At the training timen, a causal mask for auto-regressive language modeling can prevent the model from \"seeing the future tokens.\n",
    "* Padding Mask is commonly used to ignore padding tokens in input sequences, ensuring that these don't affect the computation of attention scores. This is commonly used for many NLP tasks, e.g., auto-encoding language modeling and text classification via batching. If batched generation is required, it can be used for generative tasks.\n",
    "\n"
   ]
  },
  {
   "cell_type": "markdown",
   "metadata": {
    "collapsed": false,
    "jupyter": {
     "outputs_hidden": false
    },
    "pycharm": {
     "name": "#%% md\n"
    }
   },
   "source": []
  }
 ],
 "metadata": {
  "kernelspec": {
   "display_name": "Python 3 (ipykernel)",
   "language": "python",
   "name": "python3"
  },
  "language_info": {
   "codemirror_mode": {
    "name": "ipython",
    "version": 3
   },
   "file_extension": ".py",
   "mimetype": "text/x-python",
   "name": "python",
   "nbconvert_exporter": "python",
   "pygments_lexer": "ipython3",
   "version": "3.8.19"
  }
 },
 "nbformat": 4,
 "nbformat_minor": 4
}
