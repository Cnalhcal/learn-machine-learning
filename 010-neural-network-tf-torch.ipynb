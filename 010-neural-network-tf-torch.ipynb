{
 "cells": [
  {
   "cell_type": "markdown",
   "metadata": {},
   "source": [
    "## Basic Data Structures\n",
    "### 1. `torch.tensor` (analogous to `tf.constant`)\n",
    "\n",
    "- **Function**: `torch.tensor` is a function in PyTorch used to create a tensor. Similar to `tf.constant`, it creates a tensor with a fixed value. However, unlike TensorFlow's `tf.Tensor` created by `tf.constant`, PyTorch's tensors are mutable by default.\n",
    "- **Usage**: Used to create a tensor from data, like a list or a NumPy array.\n",
    "\n",
    "### 2. `torch.Tensor` (analogous to `tf.Tensor`)\n",
    "\n",
    "- **Class**: `torch.Tensor` is the base class for tensors in PyTorch. All tensors in PyTorch are instances of this class. Like TensorFlow's `tf.Tensor`, it represents multi-dimensional arrays.\n",
    "- **Usage**: Used as the primary data structure in PyTorch for all operations, including storing and manipulating data.\n",
    "\n",
    "### 3. `torch.nn.Parameter` (analogous to `tf.Variable`)\n",
    "\n",
    "\n",
    "\n",
    "### Summary Comparison\n",
    "\n",
    "- **Immutable Tensors**:\n",
    "  - **TensorFlow**: `tf.constant` (immutable `tf.Tensor`)\n",
    "  - **PyTorch**: `torch.tensor` (mutable by default)\n",
    "\n",
    "- **Basic Tensor Class**:\n",
    "  - **TensorFlow**: `tf.Tensor`\n",
    "  - **PyTorch**: `torch.Tensor`\n",
    "\n",
    "- **Mutable State/Model Parameters**:\n",
    "  - **TensorFlow**: `tf.Variable`\n",
    "  - **PyTorch**: `torch.nn.Parameter`. It is a subclass of `torch.Tensor` specifically designed for use with `torch.nn.Module` (the base class for all neural network modules in PyTorch). Unlike regular tensors, when a `torch.nn.Parameter` is assigned as an attribute of a `torch.nn.Module`, it is automatically added to the list of the module's parameters and will be considered by optimizers.\n",
    "\n",
    "- **Learnable Parameters**: It is a subclass of `torch.Tensor` specifically designed for use with `torch.nn.Module` (the base class for all neural network modules in PyTorch).\n"
   ]
  },
  {
   "cell_type": "markdown",
   "metadata": {},
   "source": []
  }
 ],
 "metadata": {
  "language_info": {
   "name": "python"
  }
 },
 "nbformat": 4,
 "nbformat_minor": 2
}
