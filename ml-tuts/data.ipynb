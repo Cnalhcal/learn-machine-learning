{
 "cells": [
  {
   "cell_type": "code",
   "execution_count": null,
   "metadata": {},
   "outputs": [],
   "source": [
    "from my_ml_package.data.digit import load_digits\n",
    "from my_ml_package.visualize import plot_digit\n",
    "## Problem: Clustering of Digit Images (0-9) \n",
    "X, y = load_digits(\"data/digitData0.csv\", \"data/digitData1.csv\") \n",
    "plot_digit(X.to_numpy())"
   ]
  }
 ],
 "metadata": {
  "language_info": {
   "name": "python"
  }
 },
 "nbformat": 4,
 "nbformat_minor": 2
}
