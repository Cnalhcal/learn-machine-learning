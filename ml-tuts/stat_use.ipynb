{
 "cells": [
  {
   "cell_type": "markdown",
   "metadata": {},
   "source": [
    "* Model Metrics: Examples: Statistical measures such as accuracy, precision, recall, F1 score (for classification), and R-squared, RMSE (for regression) are used to evaluate and compare the performance of machine learning models.\n",
    "  \n",
    "*  Hypothesis Testing and Confidence Interval of the estimators: For example, in Linear Algebra, we want to explore the sampling distribution of the slope. This is predicated on the idea that for any given sample, the slope is calculated using the observed x and y, but when we look at many such slope calculations from many different samples, the distribution of those slope values is what we want to analyze. The hypothesis testing and confidence intervals are essential for assessing the significance of model parameters, comparing different models, and determining the reliability of the predictions.\n",
    "  \n",
    "* Estimate Uncertainty: Statistics is fundamental in estimating the uncertainty in predictions. This aspect is critical in decision-making fields like autonomous vehicles, where decisions based on model predictions can have significant consequences.\n",
    "Examples: confidence intervals and resampling techniques like bootstrapping and cross validation.\n",
    "\n",
    "* Bayesian Methods to Incorporate Prior Knowledge: Bayesian methods, deeply rooted in statistics, provide a powerful framework for incorporating prior knowledge into the model and updating this knowledge as more data becomes available. This approach is particularly useful in situations where data is scarce or expensive to obtain.\n",
    "\n"
   ]
  },
  {
   "cell_type": "markdown",
   "metadata": {},
   "source": []
  }
 ],
 "metadata": {
  "language_info": {
   "name": "python"
  }
 },
 "nbformat": 4,
 "nbformat_minor": 2
}
