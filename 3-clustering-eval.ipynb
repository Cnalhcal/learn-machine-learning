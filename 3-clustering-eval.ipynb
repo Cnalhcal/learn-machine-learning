{
 "cells": [
  {
   "cell_type": "code",
   "execution_count": null,
   "metadata": {},
   "outputs": [],
   "source": [
    "from sklearn import metrics\n",
    "import numpy as np\n",
    "from my_ml_package.clustering.metrics import silhouette_score, calculate_distortion, calculate_purity"
   ]
  },
  {
   "cell_type": "code",
   "execution_count": 11,
   "metadata": {},
   "outputs": [],
   "source": [
    "y =          ['A',  'B', 'B', 'B', 'A',]\n",
    "y_pred =     [ 1,    2,   2,   2,   2, ]\n",
    "\n",
    "# Adults (A): Average height is around 170 cm to 180 cm, and weight is around 70 kg to 80 kg.\n",
    "# Babies (B): Average height might be around 50 cm to 70 cm (considering infants to toddlers), and weight could be around 3 kg to 10 kg.\n",
    "X = np.array([\n",
    "    [175, 75],  # Adult\n",
    "    [60, 5],    # Baby\n",
    "    [50, 4],    # Baby\n",
    "    [70, 7],    # Baby\n",
    "    [180, 80]   # Adult\n",
    "])\n",
    "\n"
   ]
  },
  {
   "cell_type": "markdown",
   "metadata": {},
   "source": [
    "## Purity \n",
    "* A supervised metric\n",
    "* Similar to accuracy\n",
    "* How to match the ground-truth labels and cluster labels?"
   ]
  },
  {
   "cell_type": "code",
   "execution_count": 12,
   "metadata": {},
   "outputs": [
    {
     "name": "stdout",
     "output_type": "stream",
     "text": [
      "[[1 1]\n",
      " [0 3]]\n",
      "Purity Score: 0.8\n"
     ]
    }
   ],
   "source": [
    "purity_score = calculate_purity(y, y_pred)\n",
    "print(f\"Purity Score: {purity_score}\")"
   ]
  },
  {
   "cell_type": "markdown",
   "metadata": {},
   "source": [
    "## Silhouette Coefficient\n",
    "The silhouette_score gives the average value for all the samples. This gives a perspective into the density and separation of the formed clusters\n",
    "\n",
    "* a: The mean distance between a data point and all other points in the same cluster.\n",
    "* b: The mean distance between a data point and all other points in **the next nearest cluster**.\n",
    "* The silhouette score $S$ for a single data point is then calculated using the formula:\n",
    "$$S=\\frac{b-a}{\\max (a, b)}$$\n",
    "\n",
    "Questions:\n",
    "* How to identify **the next neareat cluster**?\n",
    "* What does it measure?\n",
    "  * cohesion (how close points are to other points in the same cluster) and \n",
    "  * separation (how distinct or well-separated a cluster is from other clusters)\n",
    "* What do 1, 0, -1 mean?"
   ]
  },
  {
   "cell_type": "code",
   "execution_count": 9,
   "metadata": {},
   "outputs": [
    {
     "name": "stdout",
     "output_type": "stream",
     "text": [
      "Mean Silhouette Score: 0.8088985194499744\n"
     ]
    }
   ],
   "source": [
    "print(f'Mean Silhouette Score: {silhouette_score(X, y_pred)}')\n",
    "# print(f'Mean Silhouette Score:{metrics.silhouette_score(X, labels)}')"
   ]
  },
  {
   "cell_type": "code",
   "execution_count": null,
   "metadata": {},
   "outputs": [],
   "source": [
    "print(f\"Adjusted Rand index for K-Means performance: {metrics.adjusted_rand_score(y, y_pred)}\")\n",
    "# Mutual Information\n",
    "print(f\"Normalized mutual information for K-Means performance: {metrics.normalized_mutual_info_score(y, y_pred)}\")"
   ]
  }
 ],
 "metadata": {
  "kernelspec": {
   "display_name": "learn_ml",
   "language": "python",
   "name": "python3"
  },
  "language_info": {
   "codemirror_mode": {
    "name": "ipython",
    "version": 3
   },
   "file_extension": ".py",
   "mimetype": "text/x-python",
   "name": "python",
   "nbconvert_exporter": "python",
   "pygments_lexer": "ipython3",
   "version": "3.12.2"
  }
 },
 "nbformat": 4,
 "nbformat_minor": 2
}
