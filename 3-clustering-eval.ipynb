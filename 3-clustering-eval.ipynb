{
 "cells": [
  {
   "cell_type": "code",
   "execution_count": 1,
   "metadata": {},
   "outputs": [],
   "source": [
    "from sklearn import metrics\n",
    "import numpy as np\n",
    "from my_ml_package.clustering.metrics import silhouette_score, calculate_distortion, calculate_purity"
   ]
  },
  {
   "cell_type": "code",
   "execution_count": 2,
   "metadata": {},
   "outputs": [],
   "source": [
    "# Adults (A): Average height is around 170 cm to 180 cm, and weight is around 70 kg to 80 kg.\n",
    "# Babies (B): Average height might be around 50 cm to 70 cm (considering infants to toddlers), and weight could be around 3 kg to 10 kg.\n",
    "X = np.array([\n",
    "    [175, 75],  # Adult\n",
    "    [60, 5],    # Baby\n",
    "    [50, 4],    # Baby\n",
    "    [70, 7],    # Baby\n",
    "    [180, 80]   # Adult\n",
    "])\n",
    "\n",
    "y =          ['A',  'B', 'B', 'B', 'A',]\n",
    "y_pred =     [ 1,    2,   2,   2,   2, ]\n",
    "\n",
    "# MARGARET: how close the points are to each other within the same cluster.\n",
    "# AKIN: get inter distance and intro distance between datapoints and between clusters"
   ]
  },
  {
   "cell_type": "markdown",
   "metadata": {},
   "source": [
    "## Purity \n",
    "* A supervised metric\n",
    "* Similar to accuracy\n",
    "* How to match the ground-truth labels and cluster labels?"
   ]
  },
  {
   "cell_type": "code",
   "execution_count": 16,
   "metadata": {},
   "outputs": [
    {
     "name": "stdout",
     "output_type": "stream",
     "text": [
      "[[1 1]\n",
      " [0 3]]\n"
     ]
    },
    {
     "data": {
      "text/plain": [
       "0.8"
      ]
     },
     "execution_count": 16,
     "metadata": {},
     "output_type": "execute_result"
    }
   ],
   "source": [
    "# cm = metrics.cluster.contingency_matrix(y, y_pred)\n",
    "# print(cm)\n",
    "# #     1, 2\n",
    "# # A  [[1 1]\n",
    "# # B   [0 3]]\n",
    "\n",
    "# correct_predictions = np.amax(cm, axis=0) # Assign each cluster to the class most frequent in the cluster\n",
    "# purity_score =  np.sum(correct_predictions) / np.sum(cm) \n",
    "# print(f\"Purity Score: {purity_score}\")\n",
    "\n",
    "\n"
   ]
  },
  {
   "cell_type": "markdown",
   "metadata": {},
   "source": [
    "## Distortion\n",
    "**Within Cluster Sum of Squares (WCSS)**"
   ]
  },
  {
   "cell_type": "code",
   "execution_count": 10,
   "metadata": {},
   "outputs": [
    {
     "name": "stdout",
     "output_type": "stream",
     "text": [
      "Distortion: 15186.0\n"
     ]
    }
   ],
   "source": [
    "distortion = calculate_distortion(X, y_pred)\n",
    "print(f\"Distortion: {distortion}\")"
   ]
  },
  {
   "cell_type": "markdown",
   "metadata": {},
   "source": [
    "## Silhouette Coefficient\n",
    "The silhouette_score gives the average value for all the samples. This gives a perspective into the density and separation of the formed clusters\n",
    "\n",
    "* a: The mean distance between a data point and all other points in the same cluster.\n",
    "* b: The mean distance between a data point and all other points in **the next nearest cluster**.\n",
    "* The silhouette score $S$ for a single data point is then calculated using the formula:\n",
    "$$S=\\frac{b-a}{\\max (a, b)}$$\n",
    "<!-- I refer to [this web for silhouette analysis](https://scikit-learn.org/stable/auto_examples/cluster/plot_kmeans_silhouette_analysis.html). -->\n",
    "Questions:\n",
    "* How to identify **the next neareat cluster**?\n",
    "* What does it measure?\n",
    "  * Cohesion (how close points are to other points in the same cluster) and \n",
    "  * Separation (how distinct or well-separated a cluster is from other clusters)\n",
    "  * In summary, it measure how similar an object is to its own cluster compared to other clusters\n",
    "* What do 1, 0, -1 mean?"
   ]
  },
  {
   "cell_type": "code",
   "execution_count": 9,
   "metadata": {},
   "outputs": [
    {
     "name": "stdout",
     "output_type": "stream",
     "text": [
      "Mean Silhouette Score: 0.8088985194499744\n"
     ]
    }
   ],
   "source": [
    "print(f'Mean Silhouette Score: {silhouette_score(X, y_pred)}')\n",
    "# print(f'Mean Silhouette Score:{metrics.silhouette_score(X, labels)}')"
   ]
  },
  {
   "cell_type": "code",
   "execution_count": null,
   "metadata": {},
   "outputs": [],
   "source": [
    "# print(f\"Adjusted Rand index for K-Means performance: {metrics.adjusted_rand_score(y, y_pred)}\")\n",
    "# Mutual Information\n",
    "# print(f\"Normalized mutual information for K-Means performance: {metrics.normalized_mutual_info_score(y, y_pred)}\")"
   ]
  },
  {
   "cell_type": "markdown",
   "metadata": {},
   "source": [
    "## Plotting (Hyperparameter vs Metrics)\n",
    "<!-- (Peak? Elbow?) -->\n",
    "<!-- Rather than looking for a point where the rate of increase sharply decreases (as there's no \"decrease\" in goodness to observe), you're looking for:\n",
    "\n",
    "The peak value of the silhouette score across different k values, which indicates the best balance between cohesion within clusters and separation between clusters.\n",
    "The point beyond which additional clusters do not meaningfully improve or may even worsen the silhouette score. This might manifest not as a traditional \"elbow\" but as a peak or plateau in the silhouette score plot. After reaching the peak score, the plot may plateau or start to decrease, indicating that the optimal number of clusters has been exceeded. -->\n"
   ]
  },
  {
   "cell_type": "code",
   "execution_count": null,
   "metadata": {},
   "outputs": [],
   "source": [
    "# DO NOT use this high-level interface\n",
    "# from yellowbrick.cluster import KElbowVisualizer"
   ]
  },
  {
   "cell_type": "code",
   "execution_count": 7,
   "metadata": {},
   "outputs": [
    {
     "name": "stdout",
     "output_type": "stream",
     "text": [
      "Distortion for 2 clusters: 229.66666666666666\n",
      "Distortion for 3 clusters: 75.5\n",
      "Distortion for 4 clusters: 25.0\n",
      "Distortion for 5 clusters: 0.0\n"
     ]
    },
    {
     "data": {
      "text/plain": [
       "[<matplotlib.lines.Line2D at 0x16c6e4860>]"
      ]
     },
     "execution_count": 7,
     "metadata": {},
     "output_type": "execute_result"
    },
    {
     "data": {
      "image/png": "[encoded data removed]",
      "text/plain": [
       "<Figure size 640x480 with 1 Axes>"
      ]
     },
     "metadata": {},
     "output_type": "display_data"
    }
   ],
   "source": [
    "from my_ml_package.clustering.k_means import k_means, predict\n",
    "import matplotlib.pyplot as plt\n",
    "\n",
    "K = range(2, 6)\n",
    "distortions = []\n",
    "for k in range(2, 6):\n",
    "    centroids, labels = k_means(X, k)\n",
    "    distortion = calculate_distortion(X, labels)\n",
    "    distortions.append(distortion)\n",
    "    print(f\"Distortion for {k} clusters: {distortion}\")\n",
    "\n",
    "\n",
    "plt.plot(K, distortions, 'bx-')"
   ]
  },
  {
   "cell_type": "code",
   "execution_count": null,
   "metadata": {},
   "outputs": [],
   "source": []
  }
 ],
 "metadata": {
  "kernelspec": {
   "display_name": "learn_ml",
   "language": "python",
   "name": "python3"
  },
  "language_info": {
   "codemirror_mode": {
    "name": "ipython",
    "version": 3
   },
   "file_extension": ".py",
   "mimetype": "text/x-python",
   "name": "python",
   "nbconvert_exporter": "python",
   "pygments_lexer": "ipython3",
   "version": "3.12.2"
  }
 },
 "nbformat": 4,
 "nbformat_minor": 2
}
