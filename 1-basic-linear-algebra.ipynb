{
  "cells": [
    {
      "cell_type": "code",
      "execution_count": 1,
      "metadata": {},
      "outputs": [],
      "source": [
        "import numpy as np"
      ]
    },
    {
      "attachments": {},
      "cell_type": "markdown",
      "metadata": {
        "id": "eM-B_L05VhgW"
      },
      "source": [
        "## Vector and Matrix in Python"
      ]
    },
    {
      "cell_type": "code",
      "execution_count": 7,
      "metadata": {},
      "outputs": [
        {
          "name": "stdout",
          "output_type": "stream",
          "text": [
            "[1 2 3 4]\n",
            "(2, 2)\n"
          ]
        }
      ],
      "source": [
        "# define a vector with length 4\n",
        "v = np.array([1, 2, 3, 4])\n",
        "print(v)\n",
        "\n",
        "# define a two-dimensional matrix\n",
        "m = np.array([[1, 2], \n",
        "              [3, 4]])\n",
        "print(m.shape)\n",
        "# v.dot()\n"
      ]
    },
    {
      "cell_type": "markdown",
      "metadata": {},
      "source": [
        "What is \"dimension\" of the matrix `m`?"
      ]
    },
    {
      "cell_type": "code",
      "execution_count": 8,
      "metadata": {},
      "outputs": [
        {
          "name": "stdout",
          "output_type": "stream",
          "text": [
            "m shape (2, 2)\n"
          ]
        }
      ],
      "source": [
        "# the term \"dimension\" has a specific meaning that is distinct from how it's used to describe the shape of arrays in programming. \n",
        "# Note that the dimension of a vector space (or simply a space) refers to the number of vectors in a basis for the space.\n",
        "# print('v shape', v.shape)\n",
        "# 3blue1brown\n",
        "print('m shape', m.shape)"
      ]
    },
    {
      "attachments": {},
      "cell_type": "markdown",
      "metadata": {},
      "source": [
        "Transpose $x^T$"
      ]
    },
    {
      "cell_type": "code",
      "execution_count": 9,
      "metadata": {
        "colab": {
          "base_uri": "https://localhost:8080/"
        },
        "id": "n5wwZtTMVhgX",
        "outputId": "d6231edc-983a-4a76-ea52-72fa05c5807f"
      },
      "outputs": [
        {
          "name": "stdout",
          "output_type": "stream",
          "text": [
            "m: [[1 2]\n",
            " [3 4]]\n",
            "m.T [[1 3]\n",
            " [2 4]]\n",
            "m.T shape (2, 2)\n"
          ]
        }
      ],
      "source": [
        "# x.T\n",
        "print('m:', m)\n",
        "print('m.T', m.transpose())\n",
        "print('m.T shape', m.T.shape)\n",
        "# in numpy, a vector equals to the transpose of the vector\n"
      ]
    },
    {
      "cell_type": "markdown",
      "metadata": {},
      "source": [
        "Multipication (Dot Product) of Vector"
      ]
    },
    {
      "cell_type": "code",
      "execution_count": 10,
      "metadata": {},
      "outputs": [
        {
          "data": {
            "text/plain": [
              "5"
            ]
          },
          "execution_count": 10,
          "metadata": {},
          "output_type": "execute_result"
        }
      ],
      "source": [
        "x1 = np.array([1, 2,])\n",
        "x2 = np.array([1, 2])\n",
        "x1.dot(x2)"
      ]
    },
    {
      "cell_type": "markdown",
      "metadata": {},
      "source": [
        "Matrices can be multiplied together in two ways.\n"
      ]
    },
    {
      "cell_type": "code",
      "execution_count": 11,
      "metadata": {},
      "outputs": [
        {
          "name": "stdout",
          "output_type": "stream",
          "text": [
            "[[19 22]\n",
            " [43 50]]\n"
          ]
        }
      ],
      "source": [
        "# dot product of two matrices\n",
        "A = np.array([[1, 2], \n",
        "              [3, 4]])\n",
        "B = np.array([[5, 6], \n",
        "              [7, 8]])\n",
        "\n",
        "print(A.dot(B))\n"
      ]
    },
    {
      "cell_type": "markdown",
      "metadata": {},
      "source": [
        "Element wise: when two matrices have the same dimensions, matrix elements in the same position in each matrix are multiplied together\n",
        "In python this uses the '$*$' operator.\n",
        "```python\n",
        "A = B * C\n",
        "```\n"
      ]
    },
    {
      "cell_type": "code",
      "execution_count": 12,
      "metadata": {},
      "outputs": [
        {
          "data": {
            "text/plain": [
              "array([[ 5, 12],\n",
              "       [21, 32]])"
            ]
          },
          "execution_count": 12,
          "metadata": {},
          "output_type": "execute_result"
        }
      ],
      "source": [
        "A * B"
      ]
    },
    {
      "cell_type": "markdown",
      "metadata": {},
      "source": [
        "Matrix multiplication (Dot Product): when the number of columns in the first matrix is the same as the number of rows in the second.\n",
        "In python this uses the '$@$' operator"
      ]
    },
    {
      "cell_type": "code",
      "execution_count": null,
      "metadata": {},
      "outputs": [],
      "source": [
        "# matrix multiplication (dot product)\n",
        "\n",
        "# define two matrices\n",
        "A = np.random.randn(4,3)\n",
        "print(np.shape(A))\n",
        "print(A)\n",
        "# print(A.dot(A)) # Error\n",
        "\n",
        "C = np.random.randn(3,2)\n",
        "# print(np.dot(A,C))\n",
        "# print(A @ C)\n",
        "print(A.dot(C))\n",
        "print(A.dot(C).shape)"
      ]
    },
    {
      "cell_type": "markdown",
      "metadata": {},
      "source": [
        "## Vector-Matrix Multiplication (Linear Transformation of Data)\n",
        "See [this AWESOME video](https://www.youtube.com/watch?v=kYB8IZa5AuE)\n",
        "\n",
        "<img src=\"pics/transformed_data_point.png\" width=450>"
      ]
    },
    {
      "cell_type": "code",
      "execution_count": 13,
      "metadata": {},
      "outputs": [
        {
          "name": "stdout",
          "output_type": "stream",
          "text": [
            "Original vector: [1 0]\n",
            "Transformed vector: [ 0 -1]\n"
          ]
        }
      ],
      "source": [
        "# Define the vector v\n",
        "v = np.array([1, 0])\n",
        "\n",
        "# Define the rotation matrix A for a 90-degree rotation counterclockwise\n",
        "A = np.array([[0, -1], \n",
        "              [1,  0]])\n",
        "\n",
        "# v @ A -> [0, -1]\n",
        "\n",
        "# Perform the matrix-vector multiplication (linear transformation)\n",
        "v_transformed = np.dot(v, A)\n",
        "\n",
        "# Print the original and transformed vectors\n",
        "print(\"Original vector:\", v)\n",
        "print(\"Transformed vector:\", v_transformed)\n"
      ]
    },
    {
      "cell_type": "markdown",
      "metadata": {},
      "source": [
        "Another Real Example: Language Transformed by a Matrix in Large Language Models (See [this paper](https://aclanthology.org/P19-1356.pdf) for details)\n",
        "\n",
        "<img src=\"pics/language-transform1.png\" width=350>\n",
        "<img src=\"pics/language-transform.png\" width=70>\n",
        "\n",
        "<!-- PP: In \"She sat on the chair,\" \"on the chair\" is a prepositional phrase that tells where she sat.\n",
        "ADJP: in \"The man with the blue hat is tall,\" \"with the blue hat\" functions as an adjective phrase modifying \"man.\"\n",
        "VP: In the sentence \"The cat is sleeping on the mat,\" \"is sleeping on the mat\" is the VP.\n",
        "NP: in \"The quick brown fox jumps over the lazy dog,\" \"the quick brown fox\" and \"the lazy dog\" are both NPs. -->"
      ]
    }
  ],
  "metadata": {
    "colab": {
      "provenance": []
    },
    "kernelspec": {
      "display_name": "base",
      "language": "python",
      "name": "python3"
    },
    "language_info": {
      "codemirror_mode": {
        "name": "ipython",
        "version": 3
      },
      "file_extension": ".py",
      "mimetype": "text/x-python",
      "name": "python",
      "nbconvert_exporter": "python",
      "pygments_lexer": "ipython3",
      "version": "3.11.4"
    },
    "orig_nbformat": 4,
    "vscode": {
      "interpreter": {
        "hash": "43cae3e9bfb3f5b17a32986a8d7b9d2dfbcb889988692924b547bacfc7e713ac"
      }
    }
  },
  "nbformat": 4,
  "nbformat_minor": 0
}
