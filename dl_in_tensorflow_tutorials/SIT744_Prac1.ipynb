{
 "cells": [
  {
   "cell_type": "markdown",
   "metadata": {
    "colab_type": "text",
    "id": "9grGwZt-JlHg"
   },
   "source": [
    "---\n",
    "SIT 744 - Deep Learning\n",
    "\n",
    "---\n",
    "\n",
    "\n",
    "\n",
    "\n",
    "\n",
    "\n"
   ]
  },
  {
   "cell_type": "markdown",
   "metadata": {
    "colab_type": "text",
    "id": "RRNczKjiJlHj"
   },
   "source": [
    "# Practical 1: Software installation and setup\n",
    "\n",
    "<span style=\"color:maroon\">\n",
    "This first tutorial is for everyone to set up the programming environment, get familiar with the essential coding and programming knowledge required for this unit.</span>\n",
    "\n",
    "- The official programming language for this unit is **python**. Besides, most of our programming tasks, as well as assessments in the assignments, will be using **Jupyter** notebook.\n",
    "    \n",
    "- For deep learning, we will use **Google TensorFlow** (version 2)\n",
    "\n",
    "- <span style=\"color:maroon\">*Students should be warned that this unit is **NOT** about teaching Python or a programming language*!\n",
    "\n",
    "\n",
    "For those who have less experience with Python, please go through the Review section on **Scipy** at the end of this notebook. Learning a programming language takes time and you should practice regularly. Successful completion of this unit is, however, not resting on the in-depth knowledge of Python, it only requires sufficient command of Python to perform machine learning tasks involved. Hence with the basic knowledge of Python and well-planned practice through this unit, you should be able to complete the unit well.\n",
    "\n",
    "In summary, **the purpose of this session is to illustrate**\n",
    "\n",
    "1. How to install all necessary software and tools for the course, including: Python, Jupyter Notebooks.\n",
    "2. How to install and test installed Numpy and Scikit-Learn packages.\n",
    "\n",
    "*You are expected to follow these steps on your own during the prac time*. The tutor will be available to assist if you need assistance. You can also post questions on the unit forum if you have questions."
   ]
  },
  {
   "cell_type": "markdown",
   "metadata": {
    "colab_type": "text",
    "id": "tphDlXz5JlHl"
   },
   "source": [
    "## Task 1: Installing Python \n",
    "\n",
    "There are many ways to install Python and packages but the most straightforward way is using a scientific distribution such as [Anaconda Scientific Distribution](https://store.continuum.io/cshop/anaconda/). We highly recommend you to use **anaconda** because it comes with most of the modules you need for the course, e.g IPython, numpy, matplotlib and you don't need to install them individually. Follow these steps to install anaconda:\n",
    "\n",
    "1. Download Anaconda with Python 3.x compatible with your OS from https://www.anaconda.com/download/.\n",
    "2. Choose the corresponding OS (Windows, MacOS, Linux) and CPU_architecture (32- or 64-bit), click to download intstallation file.\n",
    "3. Open the downloaded file and click on Next\n",
    "4. Click on I Agree\n",
    "5. Click on Next\n",
    "6. Click on Next and complete the installation.\n",
    "7. Check out the [Continuum documentation](http://docs.continuum.io/anaconda/install.html) if there is a problem with installation. "
   ]
  },
  {
   "cell_type": "markdown",
   "metadata": {
    "colab_type": "text",
    "id": "ElMTEdMEJlHm"
   },
   "source": [
    "\n",
    "## Task 2: Create Anaconda virtual environments\n",
    "\n",
    "We will use TensorFlow in this unit and TensorFlow may require a Python version different from the the Anaconda default.\n",
    "\n",
    "You can check your current Python version with following command in the Anaconda Prompt.\n",
    "\n",
    "```shell\n",
    "$ python --version\n",
    "```\n",
    "\n",
    "\n",
    "\n",
    "If you need to install the different Python version to work with TensorFlow, you should create a virtual ennironment for that Python version. \n",
    "\n",
    "Still in the Anaconda Prompt, run\n",
    "\n",
    "```shell\n",
    "$ conda create --name tfenv python=3.7\n",
    "```\n",
    "\n",
    "Then every time we need to use Python 3.7, we can activate that environment by running\n",
    "\n",
    "```shell\n",
    "$ conda activate tfenv\n",
    "```\n",
    "\n",
    "It is a good practice to keep separate Anaconda environments for different projects."
   ]
  },
  {
   "cell_type": "markdown",
   "metadata": {
    "colab_type": "text",
    "id": "3yRTylf5JlHn"
   },
   "source": [
    "## Task 3: Install Jupyter\n",
    "\n",
    "You will use IPython Notebook (aka Jupyter Notebook) for most of the practicals in this unit. In this unit, you are recommended to use [JupyterLab](http://jupyterlab.readthedocs.io/en/stable/), which was designed to replace the Jupyter Notebook. \n",
    "\n",
    "To install JupyterLab, you run the following conda command:\n",
    "\n",
    "```shell\n",
    "$ conda install jupyterlab\n",
    "```\n",
    "\n",
    "You may also like to install useful JupyterLab extensions.\n",
    "\n",
    "```shell\n",
    "$ jupyter labextension install @jupyterlab/toc\n",
    "```\n",
    "\n",
    "### Start Jupyter\n",
    "\n",
    "To start Jupyter, cd the directory that contains your notebook (say, DIR).\n",
    "```shell\n",
    "$ cd DIR\n",
    "```\n",
    "\n",
    "and run the following command:\n",
    "```shell\n",
    "$ jupyter lab\n",
    "```\n",
    "\n",
    "Alternatively, you can specify the notebook directory (DIR):\n",
    "```shell\n",
    "$ jupyter lab --notebook-dir=DIR\n",
    "```\n",
    "  "
   ]
  },
  {
   "cell_type": "markdown",
   "metadata": {
    "colab_type": "text",
    "id": "Qy0bbjWzJlHo"
   },
   "source": [
    "## Task 4: Install TensorFlow\n",
    "\n",
    "Install TensorFlow with CPU only :\n",
    "```shell\n",
    "$ conda install tensorflow\n",
    "```\n",
    "\n",
    "Install TensorFlow with GPU support:\n",
    "```shell\n",
    "$ conda install tensorflow-gpu\n",
    "```\n",
    "\n",
    "If you want to install Tensorflow on other configurations, you can follow the instructions in [this guide](https://www.tensorflow.org/install/)."
   ]
  },
  {
   "cell_type": "markdown",
   "metadata": {
    "colab_type": "text",
    "id": "SMrwXxlJJlHq"
   },
   "source": [
    "### Testing the installation\n",
    "\n",
    "Import TensorFlow and print out the version\n"
   ]
  },
  {
   "cell_type": "code",
   "execution_count": 1,
   "metadata": {
    "colab": {},
    "colab_type": "code",
    "id": "u4WXCciXJlHr",
    "outputId": "8ce5026f-d810-43a0-fe28-218d98a35bdd"
   },
   "outputs": [
    {
     "name": "stdout",
     "output_type": "stream",
     "text": [
      "2.16.2\n"
     ]
    }
   ],
   "source": [
    "import tensorflow as tf\n",
    "print(tf.__version__)"
   ]
  },
  {
   "cell_type": "markdown",
   "metadata": {
    "colab_type": "text",
    "id": "V6tLYuLZJlHx"
   },
   "source": [
    "### Other packages\n",
    "\n",
    "In addition to TensorFlow, we also install `tensorflow-datasets` to access readily available datasets.\n",
    "\n",
    "```shell\n",
    "$ conda install tensorflow-datasets\n",
    "```"
   ]
  },
  {
   "cell_type": "code",
   "execution_count": 2,
   "metadata": {
    "colab": {},
    "colab_type": "code",
    "id": "ojZIANhCJlHy",
    "outputId": "1d0d36a8-a11f-42b0-ee65-b4c2425e58e0"
   },
   "outputs": [
    {
     "name": "stdout",
     "output_type": "stream",
     "text": [
      "1.2.0\n"
     ]
    }
   ],
   "source": [
    "import tensorflow_datasets  as tfds\n",
    "print(tfds.__version__)"
   ]
  },
  {
   "cell_type": "markdown",
   "metadata": {
    "colab_type": "text",
    "id": "GvT-bigZJlH2"
   },
   "source": [
    "> Following the example above, please install the following conda packages:\n",
    "> - pydot\n",
    "> - graphviz"
   ]
  },
  {
   "cell_type": "markdown",
   "metadata": {
    "colab_type": "text",
    "id": "QJKzNmilKbKe"
   },
   "source": [
    "## Task 5: Use GPU with Google Colab\n",
    "\n",
    "\n",
    "*You may need a Google account to access Google Colab.*\n",
    "\n",
    "\n",
    "GPU is very useful for training deep learning models. If you do not have a computer with a GPU, you can use the free ones provided by Google. \n",
    "\n",
    "> Go through this [Google Colab introduction](https://colab.research.google.com/notebooks/intro.ipynb#).\n",
    "\n",
    "For using TensorFlow 2, go through [this notebook](https://colab.research.google.com/notebooks/tensorflow_version.ipynb).\n",
    "\n",
    "It is important to understand how to enable GPU in Google Colab, which is explained [here](https://colab.research.google.com/notebooks/gpu.ipynb). In your Colab notebook, select Edit→Notebook Settings and choose **GPU** in the *Hardware accelerator* dropdown menu. You may need to restart your runtime (via the shortcut `Ctrl+M .`).\n",
    "\n",
    "> Confirm GPU is enabled for your notebook.\n"
   ]
  },
  {
   "cell_type": "code",
   "execution_count": 3,
   "metadata": {
    "colab": {
     "base_uri": "https://localhost:8080/",
     "height": 51
    },
    "colab_type": "code",
    "id": "IAM5aOWGQID9",
    "outputId": "d8f1e805-1035-4d69-ee86-998db7d2d02f"
   },
   "outputs": [
    {
     "name": "stdout",
     "output_type": "stream",
     "text": [
      "Found GPU at: /device:GPU:0\n"
     ]
    }
   ],
   "source": [
    "#%tensorflow_version 2.x\n",
    "import tensorflow as tf\n",
    "device_name = tf.test.gpu_device_name()\n",
    "if device_name != '/device:GPU:0':\n",
    "  raise SystemError('GPU device not found')\n",
    "print('Found GPU at: {}'.format(device_name))"
   ]
  },
  {
   "cell_type": "code",
   "execution_count": 4,
   "metadata": {
    "colab": {
     "base_uri": "https://localhost:8080/",
     "height": 51
    },
    "colab_type": "code",
    "id": "kOq0220PRb4V",
    "outputId": "a22fe2e3-874b-46e9-8b0b-f99be71e6f91"
   },
   "outputs": [],
   "source": [
    " #%%time\n",
    " with tf.device('/device:GPU:0'):\n",
    "    random_image = tf.random.normal((10000, 10000, 3))\n",
    "    tf.math.reduce_sum(random_image)"
   ]
  },
  {
   "cell_type": "code",
   "execution_count": 5,
   "metadata": {
    "colab": {
     "base_uri": "https://localhost:8080/",
     "height": 51
    },
    "colab_type": "code",
    "id": "VotWUGjpRS_1",
    "outputId": "3069f6b4-d425-4f76-a5ba-4a44d96a9386"
   },
   "outputs": [],
   "source": [
    " #%%time\n",
    " with tf.device('/cpu:0'):\n",
    "    random_image = tf.random.normal((10000, 10000, 3))\n",
    "    tf.math.reduce_sum(random_image)\n",
    "  "
   ]
  },
  {
   "cell_type": "markdown",
   "metadata": {
    "colab_type": "text",
    "id": "odNES2IjJlH8"
   },
   "source": [
    "## **Review**: Scipy — Scientific Computing Tools for Python<!--span style=\"color:#0b486b\">3. Scipy: Scientific Computing Tools for Python</span-->"
   ]
  },
  {
   "cell_type": "markdown",
   "metadata": {
    "colab_type": "text",
    "id": "5RKSyAZ-JlH-"
   },
   "source": [
    "[SciPy](https://www.scipy.org) (pronounced “Sigh Pie”) is a Python-based ecosystem of open-source software for mathematics, science, and engineering. In particular, the SciPy ecosystem these are some of the core packages:\n",
    "\n",
    "- Numpy: a base N-dimensional array package\n",
    "- Matplotlib: a package that allows you to create charts and plots from data.\n",
    "- Pandas: tools and data structures to organize and analyze your data.\n",
    "- SciPy library: a fundamental library for scientific computing such as optimization.\n",
    "\n",
    "All of these packages are pre-installed when you install the Anaconda. You can check the availibility and versions of above packages as follows:"
   ]
  },
  {
   "cell_type": "code",
   "execution_count": 6,
   "metadata": {
    "colab": {
     "base_uri": "https://localhost:8080/",
     "height": 85
    },
    "colab_type": "code",
    "id": "idP2UAnHJlH_",
    "outputId": "0aa5f553-6c76-4629-d963-64d149552ccf"
   },
   "outputs": [
    {
     "name": "stdout",
     "output_type": "stream",
     "text": [
      "The scipy version is 1.6.2\n",
      "The numpy version is 1.17.0.\n",
      "The matplotlib version is 3.3.4\n",
      "The pandas version is 1.2.4\n"
     ]
    }
   ],
   "source": [
    "# scipy\n",
    "import scipy\n",
    "print(f'The scipy version is {scipy.__version__}')\n",
    "\n",
    "# numpy\n",
    "import numpy\n",
    "print(f\"The numpy version is {numpy.__version__}.\")\n",
    "\n",
    "# matplotlib\n",
    "import matplotlib\n",
    "print(f'The matplotlib version is {matplotlib.__version__}')\n",
    "\n",
    "# pandas\n",
    "import pandas\n",
    "print(f'The pandas version is {pandas.__version__}')"
   ]
  },
  {
   "cell_type": "markdown",
   "metadata": {
    "colab_type": "text",
    "id": "XNIRludKJlID"
   },
   "source": [
    "We now briefly go through these packages to know NumPy, Matplotlib and Pandas to read and write machine learning Python\n",
    "scripts."
   ]
  },
  {
   "cell_type": "markdown",
   "metadata": {
    "colab_type": "text",
    "id": "RNid-J9wJlIE"
   },
   "source": [
    "## Numpy<!--3.1 Numpy-->"
   ]
  },
  {
   "cell_type": "markdown",
   "metadata": {
    "colab_type": "text",
    "id": "GmON5qPYJlIF"
   },
   "source": [
    "[Numpy](http://www.numpy.org/) is the core library for scientific computing in Python. It provides a high-performance multidimensional array object, and tools for working with these arrays. Numpy is a pre-built package included in Anaconda 3. You only need to import to use the package."
   ]
  },
  {
   "cell_type": "markdown",
   "metadata": {
    "colab_type": "text",
    "id": "Wf-uUMmkJlIG"
   },
   "source": [
    "\n",
    "###  Arrays<!--3.1.1 Arrays-->\n",
    "A numpy array is a grid of values, all of the same type, and is indexed by a tuple of nonnegative integers. The number of dimensions is the <em>rank</em> of the array; the <em>shape</em> of an array is a tuple of integers giving the size of the array along each dimension.\n",
    "You can initialize numpy arrays from nested Python lists or use pre-defined functions to create arrays"
   ]
  },
  {
   "cell_type": "code",
   "execution_count": 3,
   "metadata": {
    "colab": {
     "base_uri": "https://localhost:8080/",
     "height": 425
    },
    "colab_type": "code",
    "id": "FryTYaQWJlIH",
    "outputId": "94e92374-e187-40b3-8a17-45b831e379ca"
   },
   "outputs": [
    {
     "name": "stdout",
     "output_type": "stream",
     "text": [
      "Arrays are created from nested Python lists\n",
      "\n",
      "The data type of a is <class 'numpy.ndarray'>\n",
      "The shape of a is (3,).\n",
      "The shape of b is (2, 3).\n",
      "\n",
      "Arrays are created with pre-defined functions\n",
      "\n",
      "An all-zero array \n",
      "[[0. 0.]\n",
      " [0. 0.]\n",
      " [0. 0.]]\n",
      "\n",
      "An all ones array\n",
      "[[1. 1.]\n",
      " [1. 1.]\n",
      " [1. 1.]]\n",
      "\n",
      "A constant\n",
      "[[7 7]\n",
      " [7 7]]\n",
      "\n",
      "A 2x2 identity  array\n",
      "[[1. 0.]\n",
      " [0. 1.]]\n"
     ]
    }
   ],
   "source": [
    "import numpy as np\n",
    "\n",
    "\n",
    "a = np.array([1, 2, 3])   # Create a rank 1 array\n",
    "b = np.array([[1,2,3],[4,5,6]])    # Create a rank 2 array\n",
    "\n",
    "print(\"Arrays are created from nested Python lists\\n\")\n",
    "\n",
    "print(f\"The data type of a is {type(a)}\")          \n",
    "print(f\"The shape of a is {a.shape}.\")    \n",
    "\n",
    "print(f\"The shape of b is {b.shape}.\")               \n",
    "\n",
    "print(\"\\nArrays are created with pre-defined functions\\n\")\n",
    "\n",
    "c = np.zeros((3,2))   # Create an array of all zeros\n",
    "print(f\"\"\"An all-zero array \n",
    "{c}\"\"\")\n",
    "         \n",
    "\n",
    "d = np.ones((3,2))    # Create an array of all ones\n",
    "print(f\"\"\"\n",
    "An all ones array\n",
    "{d}\"\"\")\n",
    "\n",
    "\n",
    "e = np.full((2,2), 7)  # Create a constant array\n",
    "print(f\"\"\"\n",
    "A constant\n",
    "{e}\"\"\")\n",
    "\n",
    "f = np.eye(2)         # Create a 2x2 identity matrix\n",
    "print(f\"\"\"\n",
    "A 2x2 identity  array\n",
    "{f}\"\"\")"
   ]
  },
  {
   "cell_type": "markdown",
   "metadata": {
    "colab_type": "text",
    "id": "FIJPw60QJlIM"
   },
   "source": [
    "###  Array indexing<!--3.1.2  Array indexing-->\n",
    "Numpy offers several ways to index into arrays.\n",
    "\n",
    "<strong>Slicing:</strong>Numpy arrays can be sliced. Since arrays may be multidimensional, you must specify a slice for each dimension of the array:"
   ]
  },
  {
   "cell_type": "code",
   "execution_count": 11,
   "metadata": {
    "colab": {
     "base_uri": "https://localhost:8080/",
     "height": 136
    },
    "colab_type": "code",
    "id": "eKtqKUO_JlIN",
    "outputId": "99f5f83a-73b7-455e-c9d9-be0902337157"
   },
   "outputs": [
    {
     "name": "stdout",
     "output_type": "stream",
     "text": [
      "a is [[ 1  2  3  4]\n",
      " [ 5  6  7  8]\n",
      " [ 9 10 11 12]]\n",
      "b is [[2 3]\n",
      " [6 7]]\n",
      "2\n",
      "77\n"
     ]
    }
   ],
   "source": [
    "import numpy as np\n",
    "\n",
    "a = np.array([[1,2,3,4], [5,6,7,8], [9,10,11,12]])\n",
    "\n",
    "print(f'a is {a}')\n",
    "\n",
    "# Slice the subarray consisting of the first 2 rows and columns 1 and 2; \n",
    "b = a[:2, 1:3]\n",
    "\n",
    "print(f'b is {b}')\n",
    "\n",
    "# A slice of an array is a view into the same data, so modifying it\n",
    "# will modify the original array.\n",
    "\n",
    "print(a[0, 1])   \n",
    "b[0, 0] = 77     # b[0, 0] is the same piece of data as a[0, 1]\n",
    "print(a[0, 1])   "
   ]
  },
  {
   "cell_type": "markdown",
   "metadata": {
    "colab_type": "text",
    "id": "tsFQoHXbJlIR"
   },
   "source": [
    "You can also mix integer indexing with slice indexing to  yield an array of lower rank than the original array."
   ]
  },
  {
   "cell_type": "code",
   "execution_count": 9,
   "metadata": {
    "colab": {
     "base_uri": "https://localhost:8080/",
     "height": 51
    },
    "colab_type": "code",
    "id": "gcN8QqLtJlIS",
    "outputId": "8460a70b-9e6d-4a3c-cfbe-6f2586ec48b1"
   },
   "outputs": [
    {
     "name": "stdout",
     "output_type": "stream",
     "text": [
      "[5 6 7 8] (4,)\n",
      "[77  6 10] (3,)\n"
     ]
    }
   ],
   "source": [
    "row_r1 = a[1, :]    # Rank 1 view of the second row of a\n",
    "print(row_r1, row_r1.shape) \n",
    "\n",
    "# We can make the same distinction when accessing columns of an array:\n",
    "col_r1 = a[:, 1]\n",
    "print(col_r1, col_r1.shape)  \n"
   ]
  },
  {
   "cell_type": "markdown",
   "metadata": {
    "colab_type": "text",
    "id": "hTXSAuSTJlIW"
   },
   "source": [
    "<strong>Integer array indexing:</strong> When you index into numpy arrays using slicing, the resulting array view will always be a subarray of the original array. In contrast, integer array indexing allows you to construct arbitrary arrays using the data from another array. Here is an example:"
   ]
  },
  {
   "cell_type": "code",
   "execution_count": 10,
   "metadata": {
    "colab": {
     "base_uri": "https://localhost:8080/",
     "height": 136
    },
    "colab_type": "code",
    "id": "y_dvLV-DJlIX",
    "outputId": "4256e197-0ee2-4d9c-bafd-993c414a4a0b"
   },
   "outputs": [
    {
     "name": "stdout",
     "output_type": "stream",
     "text": [
      "[[ 1 77  3  4]\n",
      " [ 5  6  7  8]\n",
      " [ 9 10 11 12]]\n",
      "[77  6  9]\n",
      "[77  6  9]\n",
      "[77 77]\n",
      "[77 77]\n"
     ]
    }
   ],
   "source": [
    "print(a) \n",
    "\n",
    "\n",
    "# The returned array will have shape (3,) by choosing elements \n",
    "# at [0,1],[1,1], and [2,0]\n",
    "print(a[[0, 1, 2], [1, 1, 0]])\n",
    "\n",
    "# The above example of integer array indexing is equivalent to this:\n",
    "print(np.array([a[0, 1], a[1, 1], a[2, 0]]))\n",
    "\n",
    "# When using integer array indexing, you can reuse the same\n",
    "# element from the source array:\n",
    "print(a[[0, 0], [1, 1]])  # Prints \"[77 77]\"\n",
    "\n",
    "# Equivalent to the previous integer array indexing example\n",
    "print(np.array([a[0, 1], a[0, 1]])) "
   ]
  },
  {
   "cell_type": "markdown",
   "metadata": {
    "colab_type": "text",
    "id": "vNDTSF2WJlIb"
   },
   "source": [
    "<strong>Boolean array indexing:</strong> Boolean array indexing lets you pick out arbitrary elements of an array. Frequently this type of indexing is used to select the elements of an array that satisfy some condition. Here is an example:"
   ]
  },
  {
   "cell_type": "code",
   "execution_count": 11,
   "metadata": {
    "colab": {
     "base_uri": "https://localhost:8080/",
     "height": 102
    },
    "colab_type": "code",
    "id": "CQTdcG31JlIc",
    "outputId": "f737975f-51af-4e7f-ad4a-65f4f8cca047"
   },
   "outputs": [
    {
     "name": "stdout",
     "output_type": "stream",
     "text": [
      "[[False  True False False]\n",
      " [False  True  True  True]\n",
      " [ True  True  True  True]]\n",
      "[77  6  7  8  9 10 11 12]\n",
      "[77  6  7  8  9 10 11 12]\n"
     ]
    }
   ],
   "source": [
    "# Find the elements of a that are bigger than 2;this returns a \n",
    "# numpy array of Booleans of the same shape as a, where each \n",
    "# slot of bool_idx tells whether that element of a is > 5.\n",
    "\n",
    "bool_idx = (a > 5)  \n",
    "print(bool_idx)     \n",
    "\n",
    "# We use boolean array indexing to construct a rank 1 array consisting \n",
    "# of the elements of a corresponding to the True values of bool_idx\n",
    "print(a[bool_idx])  \n",
    "\n",
    "# We can do all of the above in a single concise statement:\n",
    "print(a[a > 5])"
   ]
  },
  {
   "cell_type": "markdown",
   "metadata": {
    "colab_type": "text",
    "id": "byXEz8sLJlIf"
   },
   "source": [
    "You can refer to [indexing documentation](https://docs.scipy.org/doc/numpy/reference/arrays.indexing.html) for further details about numpy array indexing."
   ]
  },
  {
   "cell_type": "markdown",
   "metadata": {
    "colab_type": "text",
    "id": "eQAAEqycJlIg"
   },
   "source": [
    "### Array math operations <!--3.1.3  Array math operations-->\n",
    "\n",
    "Basic mathematical functions operate elementwise on arrays, and are available both as operator overloads and as functions in the numpy module:\n",
    "\n"
   ]
  },
  {
   "cell_type": "code",
   "execution_count": 12,
   "metadata": {
    "colab": {
     "base_uri": "https://localhost:8080/",
     "height": 408
    },
    "colab_type": "code",
    "id": "fjXOTyLzJlIh",
    "outputId": "dab0fbb4-feb9-4a8b-9ee4-63174f2e0f59"
   },
   "outputs": [
    {
     "name": "stdout",
     "output_type": "stream",
     "text": [
      "Elementwise sum; both produce the array\n",
      "[[ 6.  8.]\n",
      " [10. 12.]]\n",
      "[[ 6.  8.]\n",
      " [10. 12.]]\n",
      "Elementwise difference; both produce the array\n",
      "[[-4. -4.]\n",
      " [-4. -4.]]\n",
      "[[-4. -4.]\n",
      " [-4. -4.]]\n",
      "Elementwise product; both produce the array\n",
      "[[ 5. 12.]\n",
      " [21. 32.]]\n",
      "[[ 5. 12.]\n",
      " [21. 32.]]\n",
      "Elementwise division; both produce the array\n",
      "[[0.2        0.33333333]\n",
      " [0.42857143 0.5       ]]\n",
      "[[0.2        0.33333333]\n",
      " [0.42857143 0.5       ]]\n",
      "Elementwise square root; produces the array\n",
      "[[1.         1.41421356]\n",
      " [1.73205081 2.        ]]\n"
     ]
    }
   ],
   "source": [
    "x = np.array([[1,2],[3,4]], dtype=np.float64)\n",
    "y = np.array([[5,6],[7,8]], dtype=np.float64)\n",
    "\n",
    "print(\"Elementwise sum; both produce the array\")\n",
    "print(x + y)\n",
    "print(np.add(x, y))\n",
    "\n",
    "print(\"Elementwise difference; both produce the array\")\n",
    "print(x - y)\n",
    "print(np.subtract(x, y))\n",
    "\n",
    "print(\"Elementwise product; both produce the array\")\n",
    "print(x * y)\n",
    "print(np.multiply(x, y))\n",
    "\n",
    "print(\"Elementwise division; both produce the array\")\n",
    "print(x / y)\n",
    "print(np.divide(x, y))\n",
    "\n",
    "print(\"Elementwise square root; produces the array\")\n",
    "print(np.sqrt(x))"
   ]
  },
  {
   "cell_type": "markdown",
   "metadata": {
    "colab_type": "text",
    "id": "ArsDhIqQJlIl"
   },
   "source": [
    "To execute matrix multiplication,  We instead use the <kbd>dot</kbd> function to compute inner products of vectors, to multiply a vector by a matrix, and to multiply matrices. <kbd>dot</kbd> is available both as a function in the numpy module and as an instance method of array objects: "
   ]
  },
  {
   "cell_type": "code",
   "execution_count": 13,
   "metadata": {
    "colab": {
     "base_uri": "https://localhost:8080/",
     "height": 102
    },
    "colab_type": "code",
    "id": "LaExrkbjJlIm",
    "outputId": "d4d26ccc-0340-442e-8e7e-5bd9b01051a4"
   },
   "outputs": [
    {
     "name": "stdout",
     "output_type": "stream",
     "text": [
      "219\n",
      "219\n",
      "[29. 67.]\n",
      "[[19. 22.]\n",
      " [43. 50.]]\n"
     ]
    }
   ],
   "source": [
    "v = np.array([9,10])\n",
    "w = np.array([11, 12])\n",
    "\n",
    "# Inner product of vectors; both produce 219\n",
    "print(v.dot(w))\n",
    "print(np.dot(v, w))\n",
    "\n",
    "# Matrix / vector product; both produce the rank 1 array [29 67]\n",
    "print(np.matmul(x,v)) # or x @ v\n",
    "\n",
    "\n",
    "# Matrix / matrix product; both produce the rank 2 array\n",
    "print(np.matmul(x, y))\n"
   ]
  },
  {
   "cell_type": "markdown",
   "metadata": {
    "colab_type": "text",
    "id": "w9tPRH6fJlIq"
   },
   "source": [
    "Numpy provides many useful functions for performing computations on arrays; Some useful function are <kbd>sum</kbd>, transpose <kbd>T</kbd>. The full list of mathematical functions provided by numpy in [the documentation](https://docs.scipy.org/doc/numpy/reference/routines.math.html). More functions for manipulating arrays can be found in [the documentation](https://docs.scipy.org/doc/numpy/reference/routines.array-manipulation.html)."
   ]
  },
  {
   "cell_type": "code",
   "execution_count": 14,
   "metadata": {
    "colab": {
     "base_uri": "https://localhost:8080/",
     "height": 102
    },
    "colab_type": "code",
    "id": "7j7RYunQJlIr",
    "outputId": "fb8b5c8b-01c2-4661-b2a3-e8dd0f716755"
   },
   "outputs": [
    {
     "name": "stdout",
     "output_type": "stream",
     "text": [
      "10\n",
      "[4 6]\n",
      "[3 7]\n",
      "[[1 3]\n",
      " [2 4]]\n"
     ]
    }
   ],
   "source": [
    "x = np.array([[1,2],[3,4]])\n",
    "print(np.sum(x))  # Compute sum of all elements\n",
    "print(np.sum(x, axis=0))  # Compute sum of each column\n",
    "print(np.sum(x, axis=1))  # Compute sum of each row\n",
    "\n",
    "print(x.T)  "
   ]
  },
  {
   "cell_type": "markdown",
   "metadata": {
    "colab_type": "text",
    "id": "OdiQf5B5JlIv"
   },
   "source": [
    "### Broadcasting <!--3.1.4 Broadcasting-->\n",
    "Broadcasting is a powerful mechanism that allows numpy to work with arrays of different shapes when performing arithmetic operations. Frequently we have a smaller array and a larger array, and we want to use the smaller array multiple times to perform some operation on the larger array.\n",
    "For example, suppose that we want to add a constant vector to each row of a matrix. We could do it like this:\n",
    "\n"
   ]
  },
  {
   "cell_type": "code",
   "execution_count": 8,
   "metadata": {
    "colab": {
     "base_uri": "https://localhost:8080/",
     "height": 85
    },
    "colab_type": "code",
    "id": "8_CamJFJJlIx",
    "outputId": "8db9fd72-984e-481d-c2aa-b0f61ead3210"
   },
   "outputs": [
    {
     "name": "stdout",
     "output_type": "stream",
     "text": [
      "[[ 2  2  4]\n",
      " [ 5  5  7]\n",
      " [ 8  8 10]\n",
      " [11 11 13]]\n"
     ]
    }
   ],
   "source": [
    "x = np.array([[1,2,3], [4,5,6], [7,8,9], [10, 11, 12]])\n",
    "v = np.array([1, 0, 1])\n",
    "\n",
    "y=x+v\n",
    "print(y)"
   ]
  },
  {
   "cell_type": "markdown",
   "metadata": {
    "colab_type": "text",
    "id": "vP3Q2_jCJlI0"
   },
   "source": [
    "Broadcasting two arrays together follows these rules:\n",
    "\n",
    "1. If the arrays do not have the same rank, prepend the shape of the lower rank array with 1s until both shapes have the same length.\n",
    "2. The two arrays are said to be compatible in a dimension if they have the same size in the dimension, or if one of the arrays has size 1 in that dimension.\n",
    "3. The arrays can be broadcast together if they are compatible in all dimensions.\n",
    "4. After broadcasting, each array behaves as if it had shape equal to the elementwise maximum of shapes of the two input arrays.\n",
    "5. In any dimension where one array had size 1 and the other array had size greater than 1, the first array behaves as if it were copied along that dimension\n",
    "\n",
    "More explanation for broadcasting arrays can be found in [the documentation](https://docs.scipy.org/doc/numpy/user/basics.broadcasting.html)."
   ]
  },
  {
   "cell_type": "markdown",
   "metadata": {
    "colab_type": "text",
    "id": "p5ZcF0KzJlI1"
   },
   "source": [
    "### Numpy Excercises"
   ]
  },
  {
   "cell_type": "markdown",
   "metadata": {
    "colab_type": "text",
    "id": "nlKKFaB0JlI2"
   },
   "source": [
    "**<span style=\"color:red\"> Exercise 1: </span>** : *<span style=\"color:#0b486b\"> Create a vector with values ranging from 10 to 20 (inclusive) then reverse that vector (the first element becomes the last)  </span>*.\n"
   ]
  },
  {
   "cell_type": "code",
   "execution_count": 16,
   "metadata": {
    "colab": {},
    "colab_type": "code",
    "id": "DW5R3Ii7JlI3"
   },
   "outputs": [],
   "source": [
    "# enter your own codes here\n"
   ]
  },
  {
   "cell_type": "markdown",
   "metadata": {
    "colab_type": "text",
    "id": "AdkHzRZiJlI7"
   },
   "source": [
    "**<span style=\"color:red\"> Exercise 2: </span>** : *<span style=\"color:#0b486b\"> Create random vector of size 10, print the maximum value and its index, and replace that value by 0  </span>*.\n",
    "Hint: Using *max* and *argmax* functions"
   ]
  },
  {
   "cell_type": "code",
   "execution_count": 17,
   "metadata": {
    "colab": {},
    "colab_type": "code",
    "id": "aIaMkXK9JlI8"
   },
   "outputs": [],
   "source": [
    "# enter your own codes here\n"
   ]
  },
  {
   "cell_type": "markdown",
   "metadata": {
    "colab_type": "text",
    "id": "YFqUm6ckJlI_"
   },
   "source": [
    "**<span style=\"color:red\"> Exercise 3: </span>** : *<span style=\"color:#0b486b\"> Given two vectors: ages and heights as follows:   </span>*"
   ]
  },
  {
   "cell_type": "code",
   "execution_count": 1,
   "metadata": {
    "colab": {
     "base_uri": "https://localhost:8080/",
     "height": 51
    },
    "colab_type": "code",
    "id": "RxQ4T7ySJlI_",
    "outputId": "0257bd84-0d2b-4ab5-9318-fd70d09b44da"
   },
   "outputs": [
    {
     "ename": "NameError",
     "evalue": "name 'np' is not defined",
     "output_type": "error",
     "traceback": [
      "\u001b[0;31m---------------------------------------------------------------------------\u001b[0m",
      "\u001b[0;31mNameError\u001b[0m                                 Traceback (most recent call last)",
      "Cell \u001b[0;32mIn[1], line 1\u001b[0m\n\u001b[0;32m----> 1\u001b[0m ages \u001b[38;5;241m=\u001b[39m \u001b[43mnp\u001b[49m\u001b[38;5;241m.\u001b[39mrandom\u001b[38;5;241m.\u001b[39mrandint(low\u001b[38;5;241m=\u001b[39m\u001b[38;5;241m20\u001b[39m, high\u001b[38;5;241m=\u001b[39m\u001b[38;5;241m60\u001b[39m, size\u001b[38;5;241m=\u001b[39m\u001b[38;5;241m10\u001b[39m)\n\u001b[1;32m      2\u001b[0m heights \u001b[38;5;241m=\u001b[39m np\u001b[38;5;241m.\u001b[39mrandom\u001b[38;5;241m.\u001b[39mrandint(low\u001b[38;5;241m=\u001b[39m\u001b[38;5;241m150\u001b[39m, high\u001b[38;5;241m=\u001b[39m\u001b[38;5;241m200\u001b[39m, size\u001b[38;5;241m=\u001b[39m\u001b[38;5;241m10\u001b[39m)\n\u001b[1;32m      3\u001b[0m \u001b[38;5;28mprint\u001b[39m(ages)\n",
      "\u001b[0;31mNameError\u001b[0m: name 'np' is not defined"
     ]
    }
   ],
   "source": [
    "ages = np.random.randint(low=20, high=60, size=10)\n",
    "heights = np.random.randint(low=150, high=200, size=10)\n",
    "print(ages)\n",
    "print(heights)"
   ]
  },
  {
   "cell_type": "markdown",
   "metadata": {
    "colab_type": "text",
    "id": "bkqITC_VJlJE"
   },
   "source": [
    "*<span style=\"color:#0b486b\"> Order(ascendingly) the people according to their age and print their corresponding heights. </span>* Hints: using *argsort* function."
   ]
  },
  {
   "cell_type": "code",
   "execution_count": 19,
   "metadata": {
    "colab": {},
    "colab_type": "code",
    "id": "Dj9Knfg7JlJF"
   },
   "outputs": [],
   "source": [
    "# enter your own codes here\n",
    "\n"
   ]
  },
  {
   "cell_type": "markdown",
   "metadata": {
    "colab_type": "text",
    "id": "UPbsJGtZJlJJ"
   },
   "source": [
    "## Matplotlib <!--3.2 Matplotlib-->"
   ]
  },
  {
   "cell_type": "markdown",
   "metadata": {
    "colab_type": "text",
    "id": "wKj-v-NTJlJK"
   },
   "source": [
    "Matplotlib can be used for creating plots and charts. The library is generally used as follows:\n",
    "- Call a plotting function with some data (e.g. .plot()).\n",
    "- Call many functions to setup the properties of the plot (e.g. labels and colors).\n",
    "- Make the plot visible (e.g. .show()).\n",
    "\n",
    "You can create a simple line plot from one dimensional data as follows:"
   ]
  },
  {
   "cell_type": "code",
   "execution_count": 20,
   "metadata": {
    "colab": {
     "base_uri": "https://localhost:8080/",
     "height": 296
    },
    "colab_type": "code",
    "id": "zbDTR9IjJlJL",
    "outputId": "aa29ac78-fcd2-49c2-ff4b-5654cf58c53c"
   },
   "outputs": [
    {
     "data": {
      "text/plain": [
       "Text(0, 0.5, 'Y axis')"
      ]
     },
     "execution_count": 20,
     "metadata": {},
     "output_type": "execute_result"
    },
    {
     "data": {
      "image/png": "[encoded data removed]",
      "text/plain": [
       "<Figure size 432x288 with 1 Axes>"
      ]
     },
     "metadata": {
      "needs_background": "light"
     },
     "output_type": "display_data"
    }
   ],
   "source": [
    "%matplotlib inline \n",
    "\n",
    "# basic line plot\n",
    "import matplotlib.pyplot as plt\n",
    "import numpy\n",
    "myarray = numpy.array([1, 2, 3])\n",
    "plt.plot(myarray)\n",
    "plt.xlabel('X axis')\n",
    "plt.ylabel('Y axis')"
   ]
  },
  {
   "cell_type": "markdown",
   "metadata": {
    "colab_type": "text",
    "id": "TznL7CZmJlJO"
   },
   "source": [
    "You also can creat a scatter plot from two dimensional data."
   ]
  },
  {
   "cell_type": "code",
   "execution_count": 21,
   "metadata": {
    "colab": {
     "base_uri": "https://localhost:8080/",
     "height": 296
    },
    "colab_type": "code",
    "id": "A8qA7e4bJlJP",
    "outputId": "ed520a8a-065f-48ce-8404-64a3d36f9d85"
   },
   "outputs": [
    {
     "data": {
      "text/plain": [
       "Text(0, 0.5, 'Y axis')"
      ]
     },
     "execution_count": 21,
     "metadata": {},
     "output_type": "execute_result"
    },
    {
     "data": {
      "image/png": "[encoded data removed]",
      "text/plain": [
       "<Figure size 432x288 with 1 Axes>"
      ]
     },
     "metadata": {
      "needs_background": "light"
     },
     "output_type": "display_data"
    }
   ],
   "source": [
    "# basic scatter plot\n",
    "import matplotlib.pyplot as plt\n",
    "import numpy\n",
    "x = numpy.array([1, 2, 3])\n",
    "y = numpy.array([2, 4, 6])\n",
    "plt.scatter(x,y)\n",
    "plt.xlabel('X axis')\n",
    "plt.ylabel('Y axis')"
   ]
  },
  {
   "cell_type": "markdown",
   "metadata": {
    "colab_type": "text",
    "id": "pICjo7SfJlJU"
   },
   "source": [
    "There are many more plot types and many more properties that can be set on a plot. See [matplotlib for beginner](http://matplotlib.org/users/beginner.html) and [examples](https://matplotlib.org/examples/index.html) to learn more about the Matplotlib API."
   ]
  },
  {
   "cell_type": "markdown",
   "metadata": {
    "colab_type": "text",
    "id": "OFd1iQ14JlJV"
   },
   "source": [
    "### Matplotlib Excercises"
   ]
  },
  {
   "cell_type": "markdown",
   "metadata": {
    "colab_type": "text",
    "id": "mN5VsU21JlJW"
   },
   "source": [
    "**<span style=\"color:red\"> Exercise 1: </span>** : *<span style=\"color:#0b486b\"> Create a plot of  [sigmoid function](https://en.wikipedia.org/wiki/Sigmoid_function) on the interval  [−6,6]  using 256 points. Remember to label the axes! In the following code, we give you the code for sigmoid function.\n",
    "</span>*. Hint: using the *linspace* function in numpy to create array values for x axis.\n"
   ]
  },
  {
   "cell_type": "code",
   "execution_count": 22,
   "metadata": {
    "colab": {},
    "colab_type": "code",
    "id": "x2h62wZ0JlJX"
   },
   "outputs": [],
   "source": [
    "import numpy as np\n",
    "import matplotlib.pyplot as plt\n",
    "\n",
    "# def sigmoid(x,a,b):\n",
    "# # sigmoid function with parameters a = center; b = width\n",
    "#     return 1/(1+np.exp(-(x-a)/b))\n",
    "\n",
    "def sigmoid(x):\n",
    "    return 1/(1+np.exp(-x))\n"
   ]
  },
  {
   "cell_type": "code",
   "execution_count": 23,
   "metadata": {
    "colab": {},
    "colab_type": "code",
    "id": "pcM36GgMJlJc"
   },
   "outputs": [],
   "source": [
    "# Enter you code here           \n"
   ]
  },
  {
   "cell_type": "markdown",
   "metadata": {
    "colab_type": "text",
    "id": "Mwim-CxiJlJg"
   },
   "source": [
    "## Pandas <!--3.3 Pandas-->"
   ]
  },
  {
   "cell_type": "markdown",
   "metadata": {
    "colab_type": "text",
    "id": "eNqcfJCkJlJh"
   },
   "source": [
    "Pandas provides data structures and functionality to quickly manipulate and analyze data. The\n",
    "key to understanding Pandas for machine learning is understanding the **Series** and **DataFrame**\n",
    "data structures."
   ]
  },
  {
   "cell_type": "markdown",
   "metadata": {
    "colab_type": "text",
    "id": "CKiCG9NCJlJj"
   },
   "source": [
    "### Series <!--3.3.1 Series-->\n",
    "A series is a one dimensional array of data where the rows are labeled using a time axis. You can access the data in a series like a NumPy array or like a dictionary.\n"
   ]
  },
  {
   "cell_type": "code",
   "execution_count": 24,
   "metadata": {
    "colab": {
     "base_uri": "https://localhost:8080/",
     "height": 119
    },
    "colab_type": "code",
    "id": "lldygGg7JlJk",
    "outputId": "699e109d-f6e1-47af-adc4-9e8e56e68891"
   },
   "outputs": [
    {
     "name": "stdout",
     "output_type": "stream",
     "text": [
      "a    1\n",
      "b    2\n",
      "c    3\n",
      "dtype: int32\n",
      "1\n",
      "1\n"
     ]
    }
   ],
   "source": [
    "# series\n",
    "import numpy\n",
    "import pandas\n",
    "myarray = numpy.array([1, 2, 3])\n",
    "rownames = ['a', 'b', 'c']\n",
    "myseries = pandas.Series(myarray, index=rownames)\n",
    "print(myseries)\n",
    "\n",
    "print(myseries[0])\n",
    "print(myseries['a'])"
   ]
  },
  {
   "cell_type": "markdown",
   "metadata": {
    "colab_type": "text",
    "id": "g4LPp1BTJlJp"
   },
   "source": [
    "### DataFrame <!--3.3.2 DataFrame-->\n",
    "A data frame is a multi-dimensional array where the rows and the columns can be labeled.A data frame can be indexed using column names."
   ]
  },
  {
   "cell_type": "code",
   "execution_count": 25,
   "metadata": {
    "colab": {
     "base_uri": "https://localhost:8080/",
     "height": 238
    },
    "colab_type": "code",
    "id": "oIXiQHuWJlJq",
    "outputId": "fc8f64ad-6a75-422e-983f-13da979933f9"
   },
   "outputs": [
    {
     "name": "stdout",
     "output_type": "stream",
     "text": [
      "   one  two  three\n",
      "a    1    2      3\n",
      "b    4    5      6\n",
      "method 1:\n",
      "one column:\n",
      "a    1\n",
      "b    4\n",
      "Name: one, dtype: int32\n",
      "method 2:\n",
      "one column:\n",
      "a    1\n",
      "b    4\n",
      "Name: one, dtype: int32\n"
     ]
    }
   ],
   "source": [
    "# dataframe\n",
    "import numpy\n",
    "import pandas\n",
    "myarray = numpy.array([[1, 2, 3], [4, 5, 6]])\n",
    "rownames = ['a', 'b']\n",
    "colnames = ['one', 'two', 'three']\n",
    "mydataframe = pandas.DataFrame(myarray, index=rownames, columns=colnames)\n",
    "print(mydataframe)\n",
    "\n",
    "print(\"method 1:\")\n",
    "print(\"one column:\\n%s\" % mydataframe['one'])\n",
    "\n",
    "print(\"method 2:\")\n",
    "print(\"one column:\\n%s\" % mydataframe.one)"
   ]
  },
  {
   "cell_type": "markdown",
   "metadata": {
    "colab_type": "text",
    "id": "Oc-9fbRTJlJu"
   },
   "source": [
    "Examples for manipulation with data using can be found at [Pandas cookbook](http://pandas.pydata.org/pandas-docs/stable/cookbook.html) which provides many short and nice examples."
   ]
  },
  {
   "cell_type": "markdown",
   "metadata": {
    "colab_type": "text",
    "id": "N4Ub1jOHJlJv"
   },
   "source": [
    "## Scipy <!--3.4 Scipy-->"
   ]
  },
  {
   "cell_type": "markdown",
   "metadata": {
    "colab_type": "text",
    "id": "irInSzUJJlJw"
   },
   "source": [
    "Optimization (finding minima or maxima of a function) is a package which is usual used in machine learning. Here we will only look at a few very simple cases.\n",
    "\n",
    "To use the optimization module in scipy first include the optimize module:"
   ]
  },
  {
   "cell_type": "code",
   "execution_count": 26,
   "metadata": {
    "colab": {},
    "colab_type": "code",
    "id": "raxq0l1mJlJx"
   },
   "outputs": [],
   "source": [
    "from scipy import optimize\n"
   ]
  },
  {
   "cell_type": "markdown",
   "metadata": {
    "colab_type": "text",
    "id": "pOOJpK3EJlJ2"
   },
   "source": [
    "Let's first look at how to find the minima of a simple function of a single variable:"
   ]
  },
  {
   "cell_type": "code",
   "execution_count": 27,
   "metadata": {
    "colab": {},
    "colab_type": "code",
    "id": "TYiYo_ALJlJ3"
   },
   "outputs": [],
   "source": [
    "def f(x):\n",
    "    return 4*x**3 + (x-2)**2 + x**4"
   ]
  },
  {
   "cell_type": "markdown",
   "metadata": {
    "colab_type": "text",
    "id": "x4Dvy3dWJlJ6"
   },
   "source": [
    "which can be plotted as "
   ]
  },
  {
   "cell_type": "code",
   "execution_count": 28,
   "metadata": {
    "colab": {
     "base_uri": "https://localhost:8080/",
     "height": 265
    },
    "colab_type": "code",
    "id": "lc64d_4mJlJ7",
    "outputId": "6864c6af-8b50-4bc3-ee7f-a08ef05403b7"
   },
   "outputs": [
    {
     "data": {
      "image/png": "[encoded data removed]",
      "text/plain": [
       "<Figure size 432x288 with 1 Axes>"
      ]
     },
     "metadata": {
      "needs_background": "light"
     },
     "output_type": "display_data"
    }
   ],
   "source": [
    "import numpy as np\n",
    "import matplotlib.pyplot as plt\n",
    "\n",
    "fig, ax  = plt.subplots()\n",
    "x = np.linspace(-5, 3, 100)\n",
    "ax.plot(x, f(x))\n",
    "plt.show()\n"
   ]
  },
  {
   "cell_type": "markdown",
   "metadata": {
    "colab_type": "text",
    "id": "Y6xXuUrnJlJ_"
   },
   "source": [
    "We can use the *fmin_bfgs* function to find the minima of a function:\n",
    "\n"
   ]
  },
  {
   "cell_type": "code",
   "execution_count": 29,
   "metadata": {
    "colab": {
     "base_uri": "https://localhost:8080/",
     "height": 119
    },
    "colab_type": "code",
    "id": "8zghESqKJlJ_",
    "outputId": "24ccedc5-67f8-4ff8-f4b7-6a1e9ff2a0ef"
   },
   "outputs": [
    {
     "name": "stdout",
     "output_type": "stream",
     "text": [
      "Optimization terminated successfully.\n",
      "         Current function value: -3.506641\n",
      "         Iterations: 5\n",
      "         Function evaluations: 16\n",
      "         Gradient evaluations: 8\n",
      "[-2.67298155]\n"
     ]
    }
   ],
   "source": [
    "x_min = optimize.fmin_bfgs(f, -2)\n",
    "print(x_min )"
   ]
  },
  {
   "cell_type": "markdown",
   "metadata": {
    "colab_type": "text",
    "id": "FlhXYalsJlKC"
   },
   "source": [
    "For a more detailed introduction to optimization with SciPy see: [Scipy Optimization](http://scipy-lectures.github.com/advanced/mathematical_optimization/index.html)"
   ]
  },
  {
   "cell_type": "markdown",
   "metadata": {
    "colab_type": "text",
    "id": "IZTcXyLOJlKG"
   },
   "source": [
    "## Further reading <!--4.4 Further reading-->\n",
    "* More tutorials, videos on machine learning with scikit-learn can be found at [Introduction to machine learning with scikit-learn](https://github.com/justmarkham/scikit-learn-videos).\n",
    " \n",
    "\n",
    "* Short and concise introduction to Python 3 is introduced in the [cheatsheet](https://perso.limsi.fr/pointal/_media/python:cours:mementopython3-english.pdf)\n"
   ]
  },
  {
   "cell_type": "markdown",
   "metadata": {
    "colab_type": "text",
    "id": "iXCojwgyJlKJ"
   },
   "source": [
    "\n",
    "    \n",
    "<div class=\"alert alert-warning\">\n",
    "<b>NOTE</b> Uploading data files is only necessary when running the notebook online.\n",
    "</div>"
   ]
  }
 ],
 "metadata": {
  "accelerator": "GPU",
  "colab": {
   "collapsed_sections": [
    "RRNczKjiJlHj",
    "OFd1iQ14JlJV",
    "CKiCG9NCJlJj"
   ],
   "name": "SIT744_Prac1_Intro.ipynb",
   "provenance": [],
   "toc_visible": true
  },
  "kernelspec": {
   "display_name": "Python 3",
   "language": "python",
   "name": "python3"
  },
  "language_info": {
   "codemirror_mode": {
    "name": "ipython",
    "version": 3
   },
   "file_extension": ".py",
   "mimetype": "text/x-python",
   "name": "python",
   "nbconvert_exporter": "python",
   "pygments_lexer": "ipython3",
   "version": "3.9.19"
  }
 },
 "nbformat": 4,
 "nbformat_minor": 4
}
