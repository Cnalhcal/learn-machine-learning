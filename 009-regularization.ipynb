{
 "cells": [
  {
   "cell_type": "code",
   "execution_count": 2,
   "metadata": {},
   "outputs": [],
   "source": [
    "from sklearn import datasets\n",
    "from sklearn import metrics\n",
    "from sklearn.model_selection import train_test_split\n",
    "from sklearn.model_selection import KFold\n",
    "from sklearn.linear_model import LinearRegression, LogisticRegression\n",
    "from my_ml_package.classification import sigmoid, logistic_regression_for_multiclass, lr_predict_multiclass\n",
    "import numpy as np"
   ]
  },
  {
   "cell_type": "code",
   "execution_count": 3,
   "metadata": {},
   "outputs": [],
   "source": [
    "X, y = datasets.load_iris(return_X_y=True)\n",
    "\n",
    "# split data\n",
    "X_train, X_test, y_train, y_test = train_test_split(X, y, test_size=0.2, random_state=42)"
   ]
  },
  {
   "cell_type": "markdown",
   "metadata": {},
   "source": [
    "## Regularization on MLE-based Algorithms"
   ]
  },
  {
   "cell_type": "markdown",
   "metadata": {},
   "source": [
    "### MLE on Iris Data"
   ]
  },
  {
   "cell_type": "code",
   "execution_count": 4,
   "metadata": {},
   "outputs": [
    {
     "name": "stdout",
     "output_type": "stream",
     "text": [
      "Train Accuracy: 0.9583333333333334\n",
      "Test Accuracy: 1.0\n"
     ]
    }
   ],
   "source": [
    "X, y = datasets.load_iris(return_X_y=True)\n",
    "X_train, X_test, y_train, y_test = train_test_split(X, y, test_size=0.2, random_state=42)\n",
    "\n",
    "W, b = logistic_regression_for_multiclass(X_train, y_train, num_iter=10000, lr=0.01)\n",
    "y_train_pred = lr_predict_multiclass(X_train, W, b)\n",
    "print(f\"Train Accuracy: {np.mean(y_train_pred == y_train)}\")\n",
    "y_test_pred = lr_predict_multiclass(X_test, W, b)\n",
    "print(f\"Test Accuracy: {np.mean(y_test_pred == y_test)}\")\n"
   ]
  },
  {
   "cell_type": "markdown",
   "metadata": {},
   "source": [
    "According to this result, do we need regularization?"
   ]
  },
  {
   "cell_type": "code",
   "execution_count": 4,
   "metadata": {},
   "outputs": [
    {
     "name": "stdout",
     "output_type": "stream",
     "text": [
      "Train Accuracy: 0.97\n",
      "Test Accuracy: 0.8666666666666666\n"
     ]
    }
   ],
   "source": [
    "# cross validation\n",
    "kf = KFold(n_splits=5)\n",
    "train_accs = []\n",
    "test_accs = []\n",
    "W, b = None, None\n",
    "for train_index, test_index in kf.split(X):\n",
    "    X_train, X_test = X[train_index], X[test_index]\n",
    "    y_train, y_test = y[train_index], y[test_index]\n",
    "    W, b = logistic_regression_for_multiclass(X_train, y_train, W=W, b=b, num_iter=10000, lr=0.01)\n",
    "    y_pred = lr_predict_multiclass(X_test, W, b)\n",
    "    test_accs.append(np.mean(y_pred == y_test))\n",
    "    y_pred = lr_predict_multiclass(X_train, W, b)\n",
    "    train_accs.append(np.mean(y_pred == y_train))\n",
    "print(f\"Train Accuracy: {np.mean(train_accs)}\")\n",
    "print(f\"Test Accuracy: {np.mean(test_accs)}\")\n"
   ]
  },
  {
   "cell_type": "code",
   "execution_count": 5,
   "metadata": {},
   "outputs": [],
   "source": [
    "# clf = LogisticRegression(penalty=None, max_iter=10000, solver='sag')\n",
    "# clf.fit(X, y)\n",
    "# y_pred = clf.predict(X)\n",
    "# print(f\"Accuracy: {np.mean(y_pred == y)}\")"
   ]
  },
  {
   "cell_type": "markdown",
   "metadata": {},
   "source": [
    "#### Regularization\n",
    "* The second term : maximize Pr(parameters|data) $\\propto$ Pr(data|parameters) * Pr(parameters)\n",
    "    * Bias (fit the training data) and Variance (generalize to predict unseen data points)\n",
    "    * Reducing Model Complexity\n",
    "\n",
    "* L1, L2 Regularization \n",
    "    * Lasso (L1) and Ridge (L2) for linear regression\n",
    "    * Regularization for logistic regression\n",
    "    <!-- <center><img src=\"pics/l1_l2_on_logistic_regression.png\" width=\"500\"></center> -->\n",
    "    * L1 tends to perform better when only a small number of predictor variables are significant, as it can remove insignificant variables completely from the model"
   ]
  },
  {
   "cell_type": "code",
   "execution_count": 5,
   "metadata": {},
   "outputs": [],
   "source": [
    "# make a function\n",
    "def cross_val_logistic_regression_for_multiclass(X, y,n_splits=5, num_iter=10000, lr=0.01,  reg_lambda=0, reg_type=None):\n",
    "    kf = KFold(n_splits=n_splits)\n",
    "    train_accs = []\n",
    "    test_accs = []\n",
    "    W, b = None, None\n",
    "    for train_index, test_index in kf.split(X):\n",
    "        X_train, X_test = X[train_index], X[test_index]\n",
    "        y_train, y_test = y[train_index], y[test_index]\n",
    "        W, b = logistic_regression_for_multiclass(X_train, y_train, W=W, b=b, num_iter=num_iter, lr=lr, reg_lambda=reg_lambda, reg_type=reg_type)\n",
    "        y_pred = lr_predict_multiclass(X_test, W, b)\n",
    "        test_accs.append(np.mean(y_pred == y_test))\n",
    "        y_pred = lr_predict_multiclass(X_train, W, b)\n",
    "        train_accs.append(np.mean(y_pred == y_train))\n",
    "    print(f\"Train Accuracy: {np.mean(train_accs)}\")\n",
    "    print(f\"Test Accuracy: {np.mean(test_accs)}\")\n",
    "    return W, b"
   ]
  },
  {
   "cell_type": "code",
   "execution_count": 15,
   "metadata": {},
   "outputs": [
    {
     "name": "stdout",
     "output_type": "stream",
     "text": [
      "Train Accuracy: 0.97\n",
      "Test Accuracy: 0.8666666666666666\n"
     ]
    },
    {
     "data": {
      "text/plain": [
       "(array([[ 0.71981715,  0.35582151, -3.49467556],\n",
       "        [ 2.46421622, -2.48993422, -3.3539143 ],\n",
       "        [-3.86176297,  1.36851805,  4.87029922],\n",
       "        [-1.74372538, -2.57774201,  5.49126005]]),\n",
       " array([ 0.4518733 ,  3.04019345, -2.83230436]))"
      ]
     },
     "execution_count": 15,
     "metadata": {},
     "output_type": "execute_result"
    }
   ],
   "source": [
    "cross_val_logistic_regression_for_multiclass(X, y, num_iter=10000, lr=0.01, reg_lambda=0, reg_type=None)"
   ]
  },
  {
   "cell_type": "code",
   "execution_count": 14,
   "metadata": {},
   "outputs": [
    {
     "name": "stdout",
     "output_type": "stream",
     "text": [
      "Train Accuracy: 0.9650000000000001\n",
      "Test Accuracy: 0.8666666666666666\n"
     ]
    },
    {
     "data": {
      "text/plain": [
       "(array([[ 0.28735606,  0.25228065, -2.75008419],\n",
       "        [ 2.2785291 , -2.26858123, -2.52263279],\n",
       "        [-3.24243225,  1.12733364,  3.88824037],\n",
       "        [-0.65391112, -1.88496985,  4.47965458]]),\n",
       " array([ 0.80421564,  3.07301192, -3.13956715]))"
      ]
     },
     "execution_count": 14,
     "metadata": {},
     "output_type": "execute_result"
    }
   ],
   "source": [
    "cross_val_logistic_regression_for_multiclass(X, y, num_iter=10000, lr=0.01, reg_lambda=0.4, reg_type='l1')"
   ]
  },
  {
   "cell_type": "code",
   "execution_count": 10,
   "metadata": {},
   "outputs": [
    {
     "name": "stdout",
     "output_type": "stream",
     "text": [
      "Train Accuracy: 0.9533333333333334\n",
      "Test Accuracy: 0.8466666666666667\n"
     ]
    },
    {
     "data": {
      "text/plain": [
       "(array([[ 0.43838856,  0.24170703, -1.87530519],\n",
       "        [ 1.7082025 , -2.15454261, -1.7892671 ],\n",
       "        [-2.70684493,  1.01978311,  2.93729314],\n",
       "        [-1.22218904, -1.61095949,  3.0281595 ]]),\n",
       " array([ 0.76241046,  2.88140385, -3.43641507]))"
      ]
     },
     "execution_count": 10,
     "metadata": {},
     "output_type": "execute_result"
    }
   ],
   "source": [
    "cross_val_logistic_regression_for_multiclass(X, y, num_iter=10000, lr=0.01, reg_lambda=0.4, reg_type='l2')"
   ]
  },
  {
   "cell_type": "markdown",
   "metadata": {},
   "source": [
    "### Why Does Smaller Weights Reduce Overfitting?\n",
    "Smaller weights lead to smoother model predictions that change more gradually with input changes. This smoothness means that the model is less sensitive to the small fluctuations in data, which might just be noise in the training set."
   ]
  },
  {
   "cell_type": "markdown",
   "metadata": {},
   "source": [
    "### L1 will Push $\\beta$ to Zero\n",
    "<!-- 1. L2 Regularization Term: The regularization term for $\\mathrm{L} 2$ regularization is $\\lambda \\sum w_i^2$, where $w_i$ are the coefficients and $\\lambda$ is the regularization strength.\n",
    "- The derivative (or gradient) of the $\\mathrm{L} 2$ regularization term with respect to a coefficient $w_i$ is $2 \\lambda w_i$. This derivative shows how the penalty changes with respect to a small change in the coefficient.\n",
    "- The key aspect here is that the gradient $2 \\lambda w_i$ is proportional to the value of $w_i$ itself. As $w_i$ approaches zero, the gradient also approaches zero. This means that as the coefficient gets smaller, the force pushing it further towards zero diminishes. Consequently, the coefficient is shrunk towards zero but never exactly reaches zero unless it starts at zero.\n",
    "2. L1 Regularization Term: The gradient (or subgradient, technically) of the regularization term is a constant $\\lambda$ (or $-\\lambda$ depending on the sign of $w_i$ ) regardless of the magnitude of $w_i$ except exactly at zero, where it is undefined but constrained within $[-\\lambda, \\lambda]$. This characteristic of L1 leads to coefficients being exactly zeroed out because any small coefficient $w_i$ where the contribution to the model prediction is less than the fixed penalty $\\lambda$ becomes zero in the optimization process. This produces the sparse solutions characteristic of L1 regularization. -->"
   ]
  },
  {
   "cell_type": "code",
   "execution_count": 33,
   "metadata": {},
   "outputs": [
    {
     "name": "stdout",
     "output_type": "stream",
     "text": [
      "Weights with L2 regularization\n",
      "[[ 0.26714577 -0.02274114 -0.67798989]\n",
      " [ 0.91860382 -0.58463158 -0.73299136]\n",
      " [-1.46965364  0.33010913  1.10630081]\n",
      " [-0.66477688 -0.13358578  0.79099894]]\n",
      "Weights with L1 regularization\n",
      "[[ 2.26977128e-01  8.36157513e-04 -6.09559321e-01]\n",
      " [ 8.72387225e-01 -5.54066010e-01 -6.62981270e-01]\n",
      " [-1.39031542e+00  2.49819589e-01  1.01629440e+00]\n",
      " [-5.61609128e-01 -3.81686364e-02  6.87644588e-01]]\n"
     ]
    }
   ],
   "source": [
    "# weights\n",
    "print(\"Weights with L2 regularization\")\n",
    "print(W_l2)\n",
    "print(\"Weights with L1 regularization\")\n",
    "print(W_l1)"
   ]
  },
  {
   "cell_type": "code",
   "execution_count": 29,
   "metadata": {},
   "outputs": [
    {
     "data": {
      "image/png": "[encoded data removed]",
      "text/plain": [
       "<Figure size 640x480 with 1 Axes>"
      ]
     },
     "metadata": {},
     "output_type": "display_data"
    }
   ],
   "source": [
    "# plot lines y = x and y = x**2\n",
    "import matplotlib.pyplot as plt\n",
    "import numpy as np\n",
    "x = np.linspace(-10, 10, 1000)\n",
    "y = x\n",
    "y2 = x**2\n",
    "plt.plot(x, y, label='y=x')\n",
    "plt.plot(x, y2, label='y=x**2')\n",
    "plt.xlim(0, 3)\n",
    "plt.ylim(0, 3)\n",
    "plt.legend()\n",
    "plt.show()"
   ]
  },
  {
   "cell_type": "markdown",
   "metadata": {},
   "source": [
    "## Regularization on KNN\n",
    "Model complexity:  \n",
    "Larger k = smoother decision boundary = less complex model  \n",
    "Overfitting: complex models run the risk of being sensitive to noise in the specific data rather than reflecting the genral trend in the data  \n",
    "Underfitting  "
   ]
  },
  {
   "cell_type": "code",
   "execution_count": null,
   "metadata": {},
   "outputs": [],
   "source": [
    "## Plot model complexity curves\n",
    "\n",
    "\n",
    "\n",
    "def find_k(X_train, X_test, y_train, y_test, distance_type='euclidean'):\n",
    "    # Setup arrays to store train and test accuracies\n",
    "    neighbors = np.arange(1, 9)\n",
    "    train_accuracy = np.empty(len(neighbors))\n",
    "    test_accuracy = np.empty(len(neighbors))\n",
    "\n",
    "    # Loop over different values of k\n",
    "    for i, k in enumerate(neighbors):\n",
    "        # Setup a k-NN Classifier with k neighbors: knn\n",
    "        knn = KNeighborsClassifier(n_neighbors=k, metric=distance_type)\n",
    "\n",
    "        # Fit the classifier to the training data\n",
    "        knn.fit(X_train, y_train)\n",
    "        \n",
    "        #Compute accuracy on the training set\n",
    "        train_accuracy[i] = knn.score(X_train, y_train)\n",
    "\n",
    "        #Compute accuracy on the testing set\n",
    "        test_accuracy[i] = knn.score(X_test, y_test)\n",
    "\n",
    "    # Find sweet spot on the plot\n",
    "    plt.title('k-NN: Varying Number of Neighbors')\n",
    "    plt.plot(neighbors, test_accuracy, label = 'Testing Accuracy')\n",
    "    plt.plot(neighbors, train_accuracy, label = 'Training Accuracy')\n",
    "    plt.legend()\n",
    "    plt.xlabel('Number of Neighbors')\n",
    "    plt.ylabel('Accuracy')\n",
    "    plt.show()\n",
    "\n",
    "find_k(X_train, X_test, y_train, y_test, distance_type=distance_types[5])"
   ]
  }
 ],
 "metadata": {
  "kernelspec": {
   "display_name": "langchain",
   "language": "python",
   "name": "python3"
  },
  "language_info": {
   "codemirror_mode": {
    "name": "ipython",
    "version": 3
   },
   "file_extension": ".py",
   "mimetype": "text/x-python",
   "name": "python",
   "nbconvert_exporter": "python",
   "pygments_lexer": "ipython3",
   "version": "3.11.4"
  }
 },
 "nbformat": 4,
 "nbformat_minor": 2
}
